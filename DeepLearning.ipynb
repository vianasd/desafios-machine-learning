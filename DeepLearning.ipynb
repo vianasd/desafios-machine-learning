{
  "nbformat": 4,
  "nbformat_minor": 0,
  "metadata": {
    "colab": {
      "name": "DeepLearning",
      "provenance": [],
      "collapsed_sections": []
    },
    "kernelspec": {
      "name": "python3",
      "display_name": "Python 3"
    }
  },
  "cells": [
    {
      "cell_type": "markdown",
      "metadata": {
        "id": "ih0T3j5PeXRi",
        "colab_type": "text"
      },
      "source": [
        "# Como rodar o código"
      ]
    },
    {
      "cell_type": "markdown",
      "metadata": {
        "id": "gL-ps_brRZVy",
        "colab_type": "text"
      },
      "source": [
        "**Não é necessário rodar o código**, visto que o google colab guarda as respostas da última vez que rodou. Todavia, caso queira fazer isso, indico que as partes cinzas são linhas de códigos que devem ser ativadas sequencialmente de cima para baixo."
      ]
    },
    {
      "cell_type": "markdown",
      "metadata": {
        "id": "82qVpOXXRztX",
        "colab_type": "text"
      },
      "source": [
        "Para ativar:\n",
        "*   Click no canto superior esquerdo de cada bloco de código,no símbolo --> [        ]\n",
        "*   Espere o código terminar de rodar.\n"
      ]
    },
    {
      "cell_type": "markdown",
      "metadata": {
        "id": "cRLy3Ar7ShI3",
        "colab_type": "text"
      },
      "source": [
        "Aviso que como alguns modelos são baseados em inicializacões aleátorias pode haver uma pequena variação da precisão do sistema de predição final."
      ]
    },
    {
      "cell_type": "markdown",
      "metadata": {
        "id": "gAp2rinbciCp",
        "colab_type": "text"
      },
      "source": [
        "# Importando as bibliotecas"
      ]
    },
    {
      "cell_type": "markdown",
      "metadata": {
        "id": "UDQNScsdcmBN",
        "colab_type": "text"
      },
      "source": [
        "Importei as bibliotecas que serão utilizadas e a versão do tensorflow que usei foi 2.1.0."
      ]
    },
    {
      "cell_type": "code",
      "metadata": {
        "id": "-mnR5JEccqfd",
        "colab_type": "code",
        "outputId": "67e03ab2-c57c-4bdf-8945-a3bb12edd546",
        "colab": {
          "base_uri": "https://localhost:8080/",
          "height": 34
        }
      },
      "source": [
        "%tensorflow_version 2.x\n",
        "import tensorflow as tf\n",
        "import pandas as pd\n",
        "import numpy as np\n",
        "import seaborn as sns\n",
        "import matplotlib.pyplot as plt\n",
        "tf.__version__"
      ],
      "execution_count": 0,
      "outputs": [
        {
          "output_type": "execute_result",
          "data": {
            "text/plain": [
              "'2.1.0'"
            ]
          },
          "metadata": {
            "tags": []
          },
          "execution_count": 160
        }
      ]
    },
    {
      "cell_type": "markdown",
      "metadata": {
        "id": "dYFRYVn_dAXz",
        "colab_type": "text"
      },
      "source": [
        "# Importando a base de dados\n"
      ]
    },
    {
      "cell_type": "markdown",
      "metadata": {
        "id": "QiLTMjiEdNeV",
        "colab_type": "text"
      },
      "source": [
        "Por favor, **importe o dataset** referente ao processo seletivo,caso queira rodar o código : Mission_Prediction_Dataset"
      ]
    },
    {
      "cell_type": "markdown",
      "metadata": {
        "id": "1UBXR_C5dfUB",
        "colab_type": "text"
      },
      "source": [
        "Passos a seguir:\n",
        "\n",
        "*  Leve o mouse para o canto superior esquerdo.\n",
        "*  Você verá uma sequência de simbolos.\n",
        "*  Click no ultimo que possui o formato de uma pasta.\n",
        "*  Logo, na parte direita aparecerá a palavra upload.\n",
        "*  Click em cima da palavra.\n",
        "*  Nesse aspecto, busque o diretório em que se encontra o arquivo: Mission_Prediction_Dataset.csv\n",
        "*   Click nele.\n",
        "*   Pressione o botão abrir.\n"
      ]
    },
    {
      "cell_type": "code",
      "metadata": {
        "id": "VmKcEaHIegmd",
        "colab_type": "code",
        "colab": {}
      },
      "source": [
        "dados = pd.read_csv('/content/Mission_Prediction_Dataset.csv')\n"
      ],
      "execution_count": 0,
      "outputs": []
    },
    {
      "cell_type": "markdown",
      "metadata": {
        "id": "skr0S3S3emsF",
        "colab_type": "text"
      },
      "source": [
        "**Contextualizando o problema**\n",
        "\n",
        "*   O dataset é referente a características de indivíduos que podem ou não ter doenças cardiacas.\n",
        "*   A princípio a única informação que possuímos é que a coluna 14 diz respeito a tal condição.\n",
        "*   Logo,\n",
        "0.    A pessoa não tem a doença\n",
        "1.    A pessoa tem a doença\n",
        "*   O objetivo é com base nesses dados criar um sistema preditivo para tal condição.\n",
        "\n",
        "\n",
        "\n",
        "\n",
        "\n"
      ]
    },
    {
      "cell_type": "code",
      "metadata": {
        "id": "iCw1sg9ifS9S",
        "colab_type": "code",
        "outputId": "e8f98496-e0f7-4f99-cfe8-e15c5dacf56f",
        "colab": {
          "base_uri": "https://localhost:8080/",
          "height": 340
        }
      },
      "source": [
        "dados.info()"
      ],
      "execution_count": 0,
      "outputs": [
        {
          "output_type": "stream",
          "text": [
            "<class 'pandas.core.frame.DataFrame'>\n",
            "RangeIndex: 303 entries, 0 to 302\n",
            "Data columns (total 14 columns):\n",
            "column1     303 non-null int64\n",
            "column2     303 non-null int64\n",
            "column3     303 non-null int64\n",
            "column4     303 non-null int64\n",
            "column5     303 non-null int64\n",
            "column6     303 non-null int64\n",
            "column7     303 non-null int64\n",
            "column8     303 non-null int64\n",
            "column9     303 non-null int64\n",
            "column10    303 non-null float64\n",
            "column11    303 non-null int64\n",
            "column12    303 non-null int64\n",
            "column13    303 non-null int64\n",
            "column14    303 non-null int64\n",
            "dtypes: float64(1), int64(13)\n",
            "memory usage: 33.3 KB\n"
          ],
          "name": "stdout"
        }
      ]
    },
    {
      "cell_type": "markdown",
      "metadata": {
        "id": "8u9meXY6fWzR",
        "colab_type": "text"
      },
      "source": [
        "Vemos que são 303 pessoas, sobretudo que 13 dados são inteiros e 1 é real, logo possivelmente necessitaram de algum tratamento."
      ]
    },
    {
      "cell_type": "markdown",
      "metadata": {
        "id": "pdq1TwEifl6-",
        "colab_type": "text"
      },
      "source": [
        "# Visualização da base de dados"
      ]
    },
    {
      "cell_type": "markdown",
      "metadata": {
        "id": "vMG6eScjfo3w",
        "colab_type": "text"
      },
      "source": [
        "Iremos ver a base de dados e se necessário aplicaremos no próximo tópico os tratamentos necessário."
      ]
    },
    {
      "cell_type": "code",
      "metadata": {
        "id": "j22gu2Qgiesg",
        "colab_type": "code",
        "outputId": "fed8da28-29b4-4b7b-97ea-6645eb6e449c",
        "colab": {
          "base_uri": "https://localhost:8080/",
          "height": 204
        }
      },
      "source": [
        "dados.head()"
      ],
      "execution_count": 0,
      "outputs": [
        {
          "output_type": "execute_result",
          "data": {
            "text/html": [
              "<div>\n",
              "<style scoped>\n",
              "    .dataframe tbody tr th:only-of-type {\n",
              "        vertical-align: middle;\n",
              "    }\n",
              "\n",
              "    .dataframe tbody tr th {\n",
              "        vertical-align: top;\n",
              "    }\n",
              "\n",
              "    .dataframe thead th {\n",
              "        text-align: right;\n",
              "    }\n",
              "</style>\n",
              "<table border=\"1\" class=\"dataframe\">\n",
              "  <thead>\n",
              "    <tr style=\"text-align: right;\">\n",
              "      <th></th>\n",
              "      <th>column1</th>\n",
              "      <th>column2</th>\n",
              "      <th>column3</th>\n",
              "      <th>column4</th>\n",
              "      <th>column5</th>\n",
              "      <th>column6</th>\n",
              "      <th>column7</th>\n",
              "      <th>column8</th>\n",
              "      <th>column9</th>\n",
              "      <th>column10</th>\n",
              "      <th>column11</th>\n",
              "      <th>column12</th>\n",
              "      <th>column13</th>\n",
              "      <th>column14</th>\n",
              "    </tr>\n",
              "  </thead>\n",
              "  <tbody>\n",
              "    <tr>\n",
              "      <th>0</th>\n",
              "      <td>63</td>\n",
              "      <td>1</td>\n",
              "      <td>3</td>\n",
              "      <td>145</td>\n",
              "      <td>233</td>\n",
              "      <td>1</td>\n",
              "      <td>0</td>\n",
              "      <td>150</td>\n",
              "      <td>0</td>\n",
              "      <td>2.3</td>\n",
              "      <td>0</td>\n",
              "      <td>0</td>\n",
              "      <td>1</td>\n",
              "      <td>1</td>\n",
              "    </tr>\n",
              "    <tr>\n",
              "      <th>1</th>\n",
              "      <td>37</td>\n",
              "      <td>1</td>\n",
              "      <td>2</td>\n",
              "      <td>130</td>\n",
              "      <td>250</td>\n",
              "      <td>0</td>\n",
              "      <td>1</td>\n",
              "      <td>187</td>\n",
              "      <td>0</td>\n",
              "      <td>3.5</td>\n",
              "      <td>0</td>\n",
              "      <td>0</td>\n",
              "      <td>2</td>\n",
              "      <td>1</td>\n",
              "    </tr>\n",
              "    <tr>\n",
              "      <th>2</th>\n",
              "      <td>41</td>\n",
              "      <td>0</td>\n",
              "      <td>1</td>\n",
              "      <td>130</td>\n",
              "      <td>204</td>\n",
              "      <td>0</td>\n",
              "      <td>0</td>\n",
              "      <td>172</td>\n",
              "      <td>0</td>\n",
              "      <td>1.4</td>\n",
              "      <td>2</td>\n",
              "      <td>0</td>\n",
              "      <td>2</td>\n",
              "      <td>1</td>\n",
              "    </tr>\n",
              "    <tr>\n",
              "      <th>3</th>\n",
              "      <td>56</td>\n",
              "      <td>1</td>\n",
              "      <td>1</td>\n",
              "      <td>120</td>\n",
              "      <td>236</td>\n",
              "      <td>0</td>\n",
              "      <td>1</td>\n",
              "      <td>178</td>\n",
              "      <td>0</td>\n",
              "      <td>0.8</td>\n",
              "      <td>2</td>\n",
              "      <td>0</td>\n",
              "      <td>2</td>\n",
              "      <td>1</td>\n",
              "    </tr>\n",
              "    <tr>\n",
              "      <th>4</th>\n",
              "      <td>57</td>\n",
              "      <td>0</td>\n",
              "      <td>0</td>\n",
              "      <td>120</td>\n",
              "      <td>354</td>\n",
              "      <td>0</td>\n",
              "      <td>1</td>\n",
              "      <td>163</td>\n",
              "      <td>1</td>\n",
              "      <td>0.6</td>\n",
              "      <td>2</td>\n",
              "      <td>0</td>\n",
              "      <td>2</td>\n",
              "      <td>1</td>\n",
              "    </tr>\n",
              "  </tbody>\n",
              "</table>\n",
              "</div>"
            ],
            "text/plain": [
              "   column1  column2  column3  column4  ...  column11  column12  column13  column14\n",
              "0       63        1        3      145  ...         0         0         1         1\n",
              "1       37        1        2      130  ...         0         0         2         1\n",
              "2       41        0        1      130  ...         2         0         2         1\n",
              "3       56        1        1      120  ...         2         0         2         1\n",
              "4       57        0        0      120  ...         2         0         2         1\n",
              "\n",
              "[5 rows x 14 columns]"
            ]
          },
          "metadata": {
            "tags": []
          },
          "execution_count": 163
        }
      ]
    },
    {
      "cell_type": "markdown",
      "metadata": {
        "id": "wdZ5rU4tif-V",
        "colab_type": "text"
      },
      "source": [
        "Vemos que alguns parâmetros estão na forma label encoding, isto é, observe o parâmetro da 2º coluna. Ele pode assumir os valores 0 ou 1, porém isso pode criar um viés nos modelos ou criar uma performance aquém do esperado, portanto irei transforma-los para forma one-hot-enconding, ou seja, se os valores esperados do parâmetro são 0 e 1, eu irei criar 2 parametros, sendo que o primeiro representará o 0 e o segundo o 1.\n",
        "\n",
        "> Por exemplo:\n",
        "\n",
        "\n",
        "*   0 --> 1 0\n",
        "*   1 --> 0 1\n",
        "\n"
      ]
    },
    {
      "cell_type": "markdown",
      "metadata": {
        "id": "c4-mIC_YoxUQ",
        "colab_type": "text"
      },
      "source": [
        "\n",
        "\n",
        "---\n",
        "\n"
      ]
    },
    {
      "cell_type": "code",
      "metadata": {
        "id": "hxjDY5YegZwR",
        "colab_type": "code",
        "outputId": "12b4d320-2b09-4ae2-b88e-c858b2437da4",
        "colab": {
          "base_uri": "https://localhost:8080/",
          "height": 526
        }
      },
      "source": [
        "plt.subplots(figsize=(15, 8))  \n",
        "sns.heatmap(dados.corr(), annot = True  );"
      ],
      "execution_count": 0,
      "outputs": [
        {
          "output_type": "display_data",
          "data": {
            "image/png": "[encoded data removed]",
            "text/plain": [
              "<Figure size 1080x576 with 2 Axes>"
            ]
          },
          "metadata": {
            "tags": []
          }
        }
      ]
    },
    {
      "cell_type": "markdown",
      "metadata": {
        "id": "Sl9sR4ovg80M",
        "colab_type": "text"
      },
      "source": [
        "Nesse momento, estou avaliando a correlação das colunas, nessa percepção vemos que o 9º parâmetro possui 44% de correlação se a pessoa irá ou não ter doença cardiaca, ou seja, é um indicador moderado. Assim, tem-se mais um motivo para transformá-lo de label encoding para one-hot-encoding."
      ]
    },
    {
      "cell_type": "markdown",
      "metadata": {
        "id": "GA51eTvLhG9R",
        "colab_type": "text"
      },
      "source": [
        "E vemos um fato que pode diminuir a eficiência dos modelos que irei adotar, o 10º parâmetro tem uma correlação muito alta com o 11º, ao passo que ambos possuem correlação moderada com a presença ou não de doença, assim farei um tratamento na próxima seção para obter uma única coluna de dados proveniente dessas 2 colunas, para diminuirmos a depêndencias entre as váriaveis de teste."
      ]
    },
    {
      "cell_type": "markdown",
      "metadata": {
        "id": "D5tekmiaYdpM",
        "colab_type": "text"
      },
      "source": [
        "Uma vez que o problema foi dado de forma implícita, eu não irei analisar a veracidade ou possíveis viés criados por alguns parâmetros. Assim , vale ressaltar, somente, que ao pesquisar notei que a coluna 3 diz correlação com dor no peito. Todavia, pense comigo, por exemplo, se eu tivesse analisando um sistema preditivo para pneumonia, faz sentido eu colocar a frequência que a pessoa toma antbiótico, sendo que essa característica é uma consequência da pneumonia. Nesse aspecto, acho que a dor no peito seria mais uma consequência do que causa."
      ]
    },
    {
      "cell_type": "markdown",
      "metadata": {
        "id": "tG4GrfknjzfD",
        "colab_type": "text"
      },
      "source": [
        "# Tratamento das bases de dados"
      ]
    },
    {
      "cell_type": "markdown",
      "metadata": {
        "id": "Y87tpbHAj5NJ",
        "colab_type": "text"
      },
      "source": [
        "**Primeiramente, irei fazer um tratamento na 10º coluna com a 11º.**"
      ]
    },
    {
      "cell_type": "markdown",
      "metadata": {
        "id": "AiiQRK40h-Nm",
        "colab_type": "text"
      },
      "source": [
        "Visto que elas possuem uma correlação quase dita como 'forte'"
      ]
    },
    {
      "cell_type": "code",
      "metadata": {
        "id": "WTLBfOCwkHxu",
        "colab_type": "code",
        "outputId": "fc8f4f20-6b9a-4da2-e9f4-82f1567b3475",
        "colab": {
          "base_uri": "https://localhost:8080/",
          "height": 204
        }
      },
      "source": [
        "k = dados[['column10', 'column11']]\n",
        "k.head()"
      ],
      "execution_count": 0,
      "outputs": [
        {
          "output_type": "execute_result",
          "data": {
            "text/html": [
              "<div>\n",
              "<style scoped>\n",
              "    .dataframe tbody tr th:only-of-type {\n",
              "        vertical-align: middle;\n",
              "    }\n",
              "\n",
              "    .dataframe tbody tr th {\n",
              "        vertical-align: top;\n",
              "    }\n",
              "\n",
              "    .dataframe thead th {\n",
              "        text-align: right;\n",
              "    }\n",
              "</style>\n",
              "<table border=\"1\" class=\"dataframe\">\n",
              "  <thead>\n",
              "    <tr style=\"text-align: right;\">\n",
              "      <th></th>\n",
              "      <th>column10</th>\n",
              "      <th>column11</th>\n",
              "    </tr>\n",
              "  </thead>\n",
              "  <tbody>\n",
              "    <tr>\n",
              "      <th>0</th>\n",
              "      <td>2.3</td>\n",
              "      <td>0</td>\n",
              "    </tr>\n",
              "    <tr>\n",
              "      <th>1</th>\n",
              "      <td>3.5</td>\n",
              "      <td>0</td>\n",
              "    </tr>\n",
              "    <tr>\n",
              "      <th>2</th>\n",
              "      <td>1.4</td>\n",
              "      <td>2</td>\n",
              "    </tr>\n",
              "    <tr>\n",
              "      <th>3</th>\n",
              "      <td>0.8</td>\n",
              "      <td>2</td>\n",
              "    </tr>\n",
              "    <tr>\n",
              "      <th>4</th>\n",
              "      <td>0.6</td>\n",
              "      <td>2</td>\n",
              "    </tr>\n",
              "  </tbody>\n",
              "</table>\n",
              "</div>"
            ],
            "text/plain": [
              "   column10  column11\n",
              "0       2.3         0\n",
              "1       3.5         0\n",
              "2       1.4         2\n",
              "3       0.8         2\n",
              "4       0.6         2"
            ]
          },
          "metadata": {
            "tags": []
          },
          "execution_count": 165
        }
      ]
    },
    {
      "cell_type": "markdown",
      "metadata": {
        "id": "ZywZC7mYlB0h",
        "colab_type": "text"
      },
      "source": [
        "O metodo aplicado para o tratamendo desses dados será o PCA(Principal Component Analisy), pois diminuir 1 coluna acarretará em perda de informação, logo com o PCA irei transformar a base das 2 colunas, numa base que a primeira coluna apresente a maior quantidade de informação possível."
      ]
    },
    {
      "cell_type": "code",
      "metadata": {
        "id": "lP_9Kde5lI7o",
        "colab_type": "code",
        "colab": {}
      },
      "source": [
        "from sklearn.preprocessing import StandardScaler\n",
        "from sklearn.decomposition import PCA"
      ],
      "execution_count": 0,
      "outputs": []
    },
    {
      "cell_type": "markdown",
      "metadata": {
        "id": "Zho_Q6IVlQC3",
        "colab_type": "text"
      },
      "source": [
        "Estou importando as duas biblioteca que irei utilizar para tal tratamento."
      ]
    },
    {
      "cell_type": "code",
      "metadata": {
        "id": "xhudME36lVnP",
        "colab_type": "code",
        "outputId": "987b8b65-cc31-49d3-9315-fbe94e062798",
        "colab": {
          "base_uri": "https://localhost:8080/",
          "height": 34
        }
      },
      "source": [
        "scaler = StandardScaler()\n",
        "scaler.fit(k)"
      ],
      "execution_count": 0,
      "outputs": [
        {
          "output_type": "execute_result",
          "data": {
            "text/plain": [
              "StandardScaler(copy=True, with_mean=True, with_std=True)"
            ]
          },
          "metadata": {
            "tags": []
          },
          "execution_count": 167
        }
      ]
    },
    {
      "cell_type": "code",
      "metadata": {
        "id": "r1eYu11IlpKh",
        "colab_type": "code",
        "outputId": "3f1bf98c-4d05-46df-975a-7cb487be1b31",
        "colab": {
          "base_uri": "https://localhost:8080/",
          "height": 51
        }
      },
      "source": [
        "scaled_data = scaler.transform(k)\n",
        "pca = PCA(n_components=2)\n",
        "pca.fit(scaled_data)"
      ],
      "execution_count": 0,
      "outputs": [
        {
          "output_type": "execute_result",
          "data": {
            "text/plain": [
              "PCA(copy=True, iterated_power='auto', n_components=2, random_state=None,\n",
              "    svd_solver='auto', tol=0.0, whiten=False)"
            ]
          },
          "metadata": {
            "tags": []
          },
          "execution_count": 168
        }
      ]
    },
    {
      "cell_type": "code",
      "metadata": {
        "id": "Uc1_0AyZlyn6",
        "colab_type": "code",
        "outputId": "20e3b235-cad3-4f27-f91c-a7bba4290a0b",
        "colab": {
          "base_uri": "https://localhost:8080/",
          "height": 513
        }
      },
      "source": [
        "x_pca = pca.transform(scaled_data)\n",
        "plt.figure(figsize=(12,8))\n",
        "plt.scatter(x_pca[:,0], x_pca[:,1], c=dados['column10'], cmap='plasma')\n",
        "plt.title('PCA')\n",
        "plt.xlabel('Primeira componente principal')\n",
        "plt.ylabel('Segunda componente principal');"
      ],
      "execution_count": 0,
      "outputs": [
        {
          "output_type": "display_data",
          "data": {
            "image/png": "[encoded data removed]",
            "text/plain": [
              "<Figure size 864x576 with 1 Axes>"
            ]
          },
          "metadata": {
            "tags": []
          }
        }
      ]
    },
    {
      "cell_type": "code",
      "metadata": {
        "id": "akPS_7yPmSUY",
        "colab_type": "code",
        "outputId": "1a358466-d1dc-4e15-a93f-5b7fd8d88462",
        "colab": {
          "base_uri": "https://localhost:8080/",
          "height": 34
        }
      },
      "source": [
        "pca.explained_variance_ratio_"
      ],
      "execution_count": 0,
      "outputs": [
        {
          "output_type": "execute_result",
          "data": {
            "text/plain": [
              "array([0.78876841, 0.21123159])"
            ]
          },
          "metadata": {
            "tags": []
          },
          "execution_count": 170
        }
      ]
    },
    {
      "cell_type": "markdown",
      "metadata": {
        "id": "V-CdyrpfmVgB",
        "colab_type": "text"
      },
      "source": [
        "A primeira componente explica 78,8% do conjunto de dados. Então irei pega-la como substituto para coluna 10 e 11."
      ]
    },
    {
      "cell_type": "code",
      "metadata": {
        "id": "uXA8Dccsmw1R",
        "colab_type": "code",
        "colab": {}
      },
      "source": [
        "r = pd.DataFrame(x_pca)"
      ],
      "execution_count": 0,
      "outputs": []
    },
    {
      "cell_type": "code",
      "metadata": {
        "id": "vlf_A8V6nEgQ",
        "colab_type": "code",
        "outputId": "7b77aa4b-1835-4fa4-cf41-187f46b53431",
        "colab": {
          "base_uri": "https://localhost:8080/",
          "height": 204
        }
      },
      "source": [
        "r.head()"
      ],
      "execution_count": 0,
      "outputs": [
        {
          "output_type": "execute_result",
          "data": {
            "text/html": [
              "<div>\n",
              "<style scoped>\n",
              "    .dataframe tbody tr th:only-of-type {\n",
              "        vertical-align: middle;\n",
              "    }\n",
              "\n",
              "    .dataframe tbody tr th {\n",
              "        vertical-align: top;\n",
              "    }\n",
              "\n",
              "    .dataframe thead th {\n",
              "        text-align: right;\n",
              "    }\n",
              "</style>\n",
              "<table border=\"1\" class=\"dataframe\">\n",
              "  <thead>\n",
              "    <tr style=\"text-align: right;\">\n",
              "      <th></th>\n",
              "      <th>0</th>\n",
              "      <th>1</th>\n",
              "    </tr>\n",
              "  </thead>\n",
              "  <tbody>\n",
              "    <tr>\n",
              "      <th>0</th>\n",
              "      <td>2.377234</td>\n",
              "      <td>-0.839506</td>\n",
              "    </tr>\n",
              "    <tr>\n",
              "      <th>1</th>\n",
              "      <td>3.109256</td>\n",
              "      <td>-0.107484</td>\n",
              "    </tr>\n",
              "    <tr>\n",
              "      <th>2</th>\n",
              "      <td>-0.470537</td>\n",
              "      <td>0.910233</td>\n",
              "    </tr>\n",
              "    <tr>\n",
              "      <th>3</th>\n",
              "      <td>-0.836548</td>\n",
              "      <td>0.544223</td>\n",
              "    </tr>\n",
              "    <tr>\n",
              "      <th>4</th>\n",
              "      <td>-0.958551</td>\n",
              "      <td>0.422219</td>\n",
              "    </tr>\n",
              "  </tbody>\n",
              "</table>\n",
              "</div>"
            ],
            "text/plain": [
              "          0         1\n",
              "0  2.377234 -0.839506\n",
              "1  3.109256 -0.107484\n",
              "2 -0.470537  0.910233\n",
              "3 -0.836548  0.544223\n",
              "4 -0.958551  0.422219"
            ]
          },
          "metadata": {
            "tags": []
          },
          "execution_count": 172
        }
      ]
    },
    {
      "cell_type": "code",
      "metadata": {
        "id": "iahSnrFbna2w",
        "colab_type": "code",
        "colab": {}
      },
      "source": [
        "m = r.iloc[:, :-1].values\n",
        "m = pd.DataFrame(m)"
      ],
      "execution_count": 0,
      "outputs": []
    },
    {
      "cell_type": "code",
      "metadata": {
        "id": "JBH_RLlXnoeI",
        "colab_type": "code",
        "outputId": "cd743f53-756a-4ea5-80d2-f06b7bb7091b",
        "colab": {
          "base_uri": "https://localhost:8080/",
          "height": 204
        }
      },
      "source": [
        "m.head()"
      ],
      "execution_count": 0,
      "outputs": [
        {
          "output_type": "execute_result",
          "data": {
            "text/html": [
              "<div>\n",
              "<style scoped>\n",
              "    .dataframe tbody tr th:only-of-type {\n",
              "        vertical-align: middle;\n",
              "    }\n",
              "\n",
              "    .dataframe tbody tr th {\n",
              "        vertical-align: top;\n",
              "    }\n",
              "\n",
              "    .dataframe thead th {\n",
              "        text-align: right;\n",
              "    }\n",
              "</style>\n",
              "<table border=\"1\" class=\"dataframe\">\n",
              "  <thead>\n",
              "    <tr style=\"text-align: right;\">\n",
              "      <th></th>\n",
              "      <th>0</th>\n",
              "    </tr>\n",
              "  </thead>\n",
              "  <tbody>\n",
              "    <tr>\n",
              "      <th>0</th>\n",
              "      <td>2.377234</td>\n",
              "    </tr>\n",
              "    <tr>\n",
              "      <th>1</th>\n",
              "      <td>3.109256</td>\n",
              "    </tr>\n",
              "    <tr>\n",
              "      <th>2</th>\n",
              "      <td>-0.470537</td>\n",
              "    </tr>\n",
              "    <tr>\n",
              "      <th>3</th>\n",
              "      <td>-0.836548</td>\n",
              "    </tr>\n",
              "    <tr>\n",
              "      <th>4</th>\n",
              "      <td>-0.958551</td>\n",
              "    </tr>\n",
              "  </tbody>\n",
              "</table>\n",
              "</div>"
            ],
            "text/plain": [
              "          0\n",
              "0  2.377234\n",
              "1  3.109256\n",
              "2 -0.470537\n",
              "3 -0.836548\n",
              "4 -0.958551"
            ]
          },
          "metadata": {
            "tags": []
          },
          "execution_count": 174
        }
      ]
    },
    {
      "cell_type": "markdown",
      "metadata": {
        "id": "UVC79X7botgI",
        "colab_type": "text"
      },
      "source": [
        "\n",
        "\n",
        "---\n",
        "\n"
      ]
    },
    {
      "cell_type": "markdown",
      "metadata": {
        "id": "5TurcQKan53J",
        "colab_type": "text"
      },
      "source": [
        "**Agora faremos o tratamento das colunas em label encoding**"
      ]
    },
    {
      "cell_type": "markdown",
      "metadata": {
        "id": "ZcKSYSRQipmI",
        "colab_type": "text"
      },
      "source": [
        "Como eu disse, colunas em label encoding , normalmente, criam modelos menos eficientes do que em one hot encoding. Logo, irei tratá-las agora."
      ]
    },
    {
      "cell_type": "code",
      "metadata": {
        "id": "woaoCXZDoNpM",
        "colab_type": "code",
        "outputId": "18320b07-0c93-4f0d-bb34-7ecdcbe7502a",
        "colab": {
          "base_uri": "https://localhost:8080/",
          "height": 204
        }
      },
      "source": [
        "dados.head()"
      ],
      "execution_count": 0,
      "outputs": [
        {
          "output_type": "execute_result",
          "data": {
            "text/html": [
              "<div>\n",
              "<style scoped>\n",
              "    .dataframe tbody tr th:only-of-type {\n",
              "        vertical-align: middle;\n",
              "    }\n",
              "\n",
              "    .dataframe tbody tr th {\n",
              "        vertical-align: top;\n",
              "    }\n",
              "\n",
              "    .dataframe thead th {\n",
              "        text-align: right;\n",
              "    }\n",
              "</style>\n",
              "<table border=\"1\" class=\"dataframe\">\n",
              "  <thead>\n",
              "    <tr style=\"text-align: right;\">\n",
              "      <th></th>\n",
              "      <th>column1</th>\n",
              "      <th>column2</th>\n",
              "      <th>column3</th>\n",
              "      <th>column4</th>\n",
              "      <th>column5</th>\n",
              "      <th>column6</th>\n",
              "      <th>column7</th>\n",
              "      <th>column8</th>\n",
              "      <th>column9</th>\n",
              "      <th>column10</th>\n",
              "      <th>column11</th>\n",
              "      <th>column12</th>\n",
              "      <th>column13</th>\n",
              "      <th>column14</th>\n",
              "    </tr>\n",
              "  </thead>\n",
              "  <tbody>\n",
              "    <tr>\n",
              "      <th>0</th>\n",
              "      <td>63</td>\n",
              "      <td>1</td>\n",
              "      <td>3</td>\n",
              "      <td>145</td>\n",
              "      <td>233</td>\n",
              "      <td>1</td>\n",
              "      <td>0</td>\n",
              "      <td>150</td>\n",
              "      <td>0</td>\n",
              "      <td>2.3</td>\n",
              "      <td>0</td>\n",
              "      <td>0</td>\n",
              "      <td>1</td>\n",
              "      <td>1</td>\n",
              "    </tr>\n",
              "    <tr>\n",
              "      <th>1</th>\n",
              "      <td>37</td>\n",
              "      <td>1</td>\n",
              "      <td>2</td>\n",
              "      <td>130</td>\n",
              "      <td>250</td>\n",
              "      <td>0</td>\n",
              "      <td>1</td>\n",
              "      <td>187</td>\n",
              "      <td>0</td>\n",
              "      <td>3.5</td>\n",
              "      <td>0</td>\n",
              "      <td>0</td>\n",
              "      <td>2</td>\n",
              "      <td>1</td>\n",
              "    </tr>\n",
              "    <tr>\n",
              "      <th>2</th>\n",
              "      <td>41</td>\n",
              "      <td>0</td>\n",
              "      <td>1</td>\n",
              "      <td>130</td>\n",
              "      <td>204</td>\n",
              "      <td>0</td>\n",
              "      <td>0</td>\n",
              "      <td>172</td>\n",
              "      <td>0</td>\n",
              "      <td>1.4</td>\n",
              "      <td>2</td>\n",
              "      <td>0</td>\n",
              "      <td>2</td>\n",
              "      <td>1</td>\n",
              "    </tr>\n",
              "    <tr>\n",
              "      <th>3</th>\n",
              "      <td>56</td>\n",
              "      <td>1</td>\n",
              "      <td>1</td>\n",
              "      <td>120</td>\n",
              "      <td>236</td>\n",
              "      <td>0</td>\n",
              "      <td>1</td>\n",
              "      <td>178</td>\n",
              "      <td>0</td>\n",
              "      <td>0.8</td>\n",
              "      <td>2</td>\n",
              "      <td>0</td>\n",
              "      <td>2</td>\n",
              "      <td>1</td>\n",
              "    </tr>\n",
              "    <tr>\n",
              "      <th>4</th>\n",
              "      <td>57</td>\n",
              "      <td>0</td>\n",
              "      <td>0</td>\n",
              "      <td>120</td>\n",
              "      <td>354</td>\n",
              "      <td>0</td>\n",
              "      <td>1</td>\n",
              "      <td>163</td>\n",
              "      <td>1</td>\n",
              "      <td>0.6</td>\n",
              "      <td>2</td>\n",
              "      <td>0</td>\n",
              "      <td>2</td>\n",
              "      <td>1</td>\n",
              "    </tr>\n",
              "  </tbody>\n",
              "</table>\n",
              "</div>"
            ],
            "text/plain": [
              "   column1  column2  column3  column4  ...  column11  column12  column13  column14\n",
              "0       63        1        3      145  ...         0         0         1         1\n",
              "1       37        1        2      130  ...         0         0         2         1\n",
              "2       41        0        1      130  ...         2         0         2         1\n",
              "3       56        1        1      120  ...         2         0         2         1\n",
              "4       57        0        0      120  ...         2         0         2         1\n",
              "\n",
              "[5 rows x 14 columns]"
            ]
          },
          "metadata": {
            "tags": []
          },
          "execution_count": 175
        }
      ]
    },
    {
      "cell_type": "markdown",
      "metadata": {
        "id": "94YU6IdUoQUv",
        "colab_type": "text"
      },
      "source": [
        "As colunas em label encoding são:\n",
        "*   column2\n",
        "*   column3\n",
        "*   column6\t\n",
        "*   column7\n",
        "*   column9\n",
        "*   column12\n",
        "*   column13\n",
        "\n",
        "\n",
        "\n",
        "\n",
        "\n",
        "\n",
        "\n",
        "\n",
        "\n"
      ]
    },
    {
      "cell_type": "markdown",
      "metadata": {
        "id": "OnUO7ck5oq_6",
        "colab_type": "text"
      },
      "source": [
        "Lembra-se que a coluna 11 estava em label encoding, todavia foi tratada com a coluna 10 e que a ultima coluna é um binário que caracteriza ou não a ocorrência da doença."
      ]
    },
    {
      "cell_type": "code",
      "metadata": {
        "id": "oBSa67I3pkBi",
        "colab_type": "code",
        "outputId": "8e6c74d2-36a0-4258-deae-8d90b168d28e",
        "colab": {
          "base_uri": "https://localhost:8080/",
          "height": 204
        }
      },
      "source": [
        "p = dados [['column2', 'column3', 'column6', 'column7', 'column9','column12','column13']]\n",
        "p.head()"
      ],
      "execution_count": 0,
      "outputs": [
        {
          "output_type": "execute_result",
          "data": {
            "text/html": [
              "<div>\n",
              "<style scoped>\n",
              "    .dataframe tbody tr th:only-of-type {\n",
              "        vertical-align: middle;\n",
              "    }\n",
              "\n",
              "    .dataframe tbody tr th {\n",
              "        vertical-align: top;\n",
              "    }\n",
              "\n",
              "    .dataframe thead th {\n",
              "        text-align: right;\n",
              "    }\n",
              "</style>\n",
              "<table border=\"1\" class=\"dataframe\">\n",
              "  <thead>\n",
              "    <tr style=\"text-align: right;\">\n",
              "      <th></th>\n",
              "      <th>column2</th>\n",
              "      <th>column3</th>\n",
              "      <th>column6</th>\n",
              "      <th>column7</th>\n",
              "      <th>column9</th>\n",
              "      <th>column12</th>\n",
              "      <th>column13</th>\n",
              "    </tr>\n",
              "  </thead>\n",
              "  <tbody>\n",
              "    <tr>\n",
              "      <th>0</th>\n",
              "      <td>1</td>\n",
              "      <td>3</td>\n",
              "      <td>1</td>\n",
              "      <td>0</td>\n",
              "      <td>0</td>\n",
              "      <td>0</td>\n",
              "      <td>1</td>\n",
              "    </tr>\n",
              "    <tr>\n",
              "      <th>1</th>\n",
              "      <td>1</td>\n",
              "      <td>2</td>\n",
              "      <td>0</td>\n",
              "      <td>1</td>\n",
              "      <td>0</td>\n",
              "      <td>0</td>\n",
              "      <td>2</td>\n",
              "    </tr>\n",
              "    <tr>\n",
              "      <th>2</th>\n",
              "      <td>0</td>\n",
              "      <td>1</td>\n",
              "      <td>0</td>\n",
              "      <td>0</td>\n",
              "      <td>0</td>\n",
              "      <td>0</td>\n",
              "      <td>2</td>\n",
              "    </tr>\n",
              "    <tr>\n",
              "      <th>3</th>\n",
              "      <td>1</td>\n",
              "      <td>1</td>\n",
              "      <td>0</td>\n",
              "      <td>1</td>\n",
              "      <td>0</td>\n",
              "      <td>0</td>\n",
              "      <td>2</td>\n",
              "    </tr>\n",
              "    <tr>\n",
              "      <th>4</th>\n",
              "      <td>0</td>\n",
              "      <td>0</td>\n",
              "      <td>0</td>\n",
              "      <td>1</td>\n",
              "      <td>1</td>\n",
              "      <td>0</td>\n",
              "      <td>2</td>\n",
              "    </tr>\n",
              "  </tbody>\n",
              "</table>\n",
              "</div>"
            ],
            "text/plain": [
              "   column2  column3  column6  column7  column9  column12  column13\n",
              "0        1        3        1        0        0         0         1\n",
              "1        1        2        0        1        0         0         2\n",
              "2        0        1        0        0        0         0         2\n",
              "3        1        1        0        1        0         0         2\n",
              "4        0        0        0        1        1         0         2"
            ]
          },
          "metadata": {
            "tags": []
          },
          "execution_count": 176
        }
      ]
    },
    {
      "cell_type": "markdown",
      "metadata": {
        "id": "_G5pVN00p0VA",
        "colab_type": "text"
      },
      "source": [
        "Como voçê pode ver, só há parâmetros na forma label encoding"
      ]
    },
    {
      "cell_type": "code",
      "metadata": {
        "id": "HwW-4IuXp7et",
        "colab_type": "code",
        "colab": {}
      },
      "source": [
        "from sklearn.preprocessing import OneHotEncoder\n",
        "onehotencoder = OneHotEncoder()\n",
        "q = onehotencoder.fit_transform(p).toarray()"
      ],
      "execution_count": 0,
      "outputs": []
    },
    {
      "cell_type": "markdown",
      "metadata": {
        "id": "guoZZOynqGqo",
        "colab_type": "text"
      },
      "source": [
        "Essa função transforma de label para one hot encoder, mas a apresenta como um vetor"
      ]
    },
    {
      "cell_type": "code",
      "metadata": {
        "id": "94NaoE4MqLmo",
        "colab_type": "code",
        "outputId": "767213af-ccbc-496e-d884-d0cf7a3cb692",
        "colab": {
          "base_uri": "https://localhost:8080/",
          "height": 204
        }
      },
      "source": [
        "q = pd.DataFrame(q)\n",
        "q.head()"
      ],
      "execution_count": 0,
      "outputs": [
        {
          "output_type": "execute_result",
          "data": {
            "text/html": [
              "<div>\n",
              "<style scoped>\n",
              "    .dataframe tbody tr th:only-of-type {\n",
              "        vertical-align: middle;\n",
              "    }\n",
              "\n",
              "    .dataframe tbody tr th {\n",
              "        vertical-align: top;\n",
              "    }\n",
              "\n",
              "    .dataframe thead th {\n",
              "        text-align: right;\n",
              "    }\n",
              "</style>\n",
              "<table border=\"1\" class=\"dataframe\">\n",
              "  <thead>\n",
              "    <tr style=\"text-align: right;\">\n",
              "      <th></th>\n",
              "      <th>0</th>\n",
              "      <th>1</th>\n",
              "      <th>2</th>\n",
              "      <th>3</th>\n",
              "      <th>4</th>\n",
              "      <th>5</th>\n",
              "      <th>6</th>\n",
              "      <th>7</th>\n",
              "      <th>8</th>\n",
              "      <th>9</th>\n",
              "      <th>10</th>\n",
              "      <th>11</th>\n",
              "      <th>12</th>\n",
              "      <th>13</th>\n",
              "      <th>14</th>\n",
              "      <th>15</th>\n",
              "      <th>16</th>\n",
              "      <th>17</th>\n",
              "      <th>18</th>\n",
              "      <th>19</th>\n",
              "      <th>20</th>\n",
              "      <th>21</th>\n",
              "    </tr>\n",
              "  </thead>\n",
              "  <tbody>\n",
              "    <tr>\n",
              "      <th>0</th>\n",
              "      <td>0.0</td>\n",
              "      <td>1.0</td>\n",
              "      <td>0.0</td>\n",
              "      <td>0.0</td>\n",
              "      <td>0.0</td>\n",
              "      <td>1.0</td>\n",
              "      <td>0.0</td>\n",
              "      <td>1.0</td>\n",
              "      <td>1.0</td>\n",
              "      <td>0.0</td>\n",
              "      <td>0.0</td>\n",
              "      <td>1.0</td>\n",
              "      <td>0.0</td>\n",
              "      <td>1.0</td>\n",
              "      <td>0.0</td>\n",
              "      <td>0.0</td>\n",
              "      <td>0.0</td>\n",
              "      <td>0.0</td>\n",
              "      <td>0.0</td>\n",
              "      <td>1.0</td>\n",
              "      <td>0.0</td>\n",
              "      <td>0.0</td>\n",
              "    </tr>\n",
              "    <tr>\n",
              "      <th>1</th>\n",
              "      <td>0.0</td>\n",
              "      <td>1.0</td>\n",
              "      <td>0.0</td>\n",
              "      <td>0.0</td>\n",
              "      <td>1.0</td>\n",
              "      <td>0.0</td>\n",
              "      <td>1.0</td>\n",
              "      <td>0.0</td>\n",
              "      <td>0.0</td>\n",
              "      <td>1.0</td>\n",
              "      <td>0.0</td>\n",
              "      <td>1.0</td>\n",
              "      <td>0.0</td>\n",
              "      <td>1.0</td>\n",
              "      <td>0.0</td>\n",
              "      <td>0.0</td>\n",
              "      <td>0.0</td>\n",
              "      <td>0.0</td>\n",
              "      <td>0.0</td>\n",
              "      <td>0.0</td>\n",
              "      <td>1.0</td>\n",
              "      <td>0.0</td>\n",
              "    </tr>\n",
              "    <tr>\n",
              "      <th>2</th>\n",
              "      <td>1.0</td>\n",
              "      <td>0.0</td>\n",
              "      <td>0.0</td>\n",
              "      <td>1.0</td>\n",
              "      <td>0.0</td>\n",
              "      <td>0.0</td>\n",
              "      <td>1.0</td>\n",
              "      <td>0.0</td>\n",
              "      <td>1.0</td>\n",
              "      <td>0.0</td>\n",
              "      <td>0.0</td>\n",
              "      <td>1.0</td>\n",
              "      <td>0.0</td>\n",
              "      <td>1.0</td>\n",
              "      <td>0.0</td>\n",
              "      <td>0.0</td>\n",
              "      <td>0.0</td>\n",
              "      <td>0.0</td>\n",
              "      <td>0.0</td>\n",
              "      <td>0.0</td>\n",
              "      <td>1.0</td>\n",
              "      <td>0.0</td>\n",
              "    </tr>\n",
              "    <tr>\n",
              "      <th>3</th>\n",
              "      <td>0.0</td>\n",
              "      <td>1.0</td>\n",
              "      <td>0.0</td>\n",
              "      <td>1.0</td>\n",
              "      <td>0.0</td>\n",
              "      <td>0.0</td>\n",
              "      <td>1.0</td>\n",
              "      <td>0.0</td>\n",
              "      <td>0.0</td>\n",
              "      <td>1.0</td>\n",
              "      <td>0.0</td>\n",
              "      <td>1.0</td>\n",
              "      <td>0.0</td>\n",
              "      <td>1.0</td>\n",
              "      <td>0.0</td>\n",
              "      <td>0.0</td>\n",
              "      <td>0.0</td>\n",
              "      <td>0.0</td>\n",
              "      <td>0.0</td>\n",
              "      <td>0.0</td>\n",
              "      <td>1.0</td>\n",
              "      <td>0.0</td>\n",
              "    </tr>\n",
              "    <tr>\n",
              "      <th>4</th>\n",
              "      <td>1.0</td>\n",
              "      <td>0.0</td>\n",
              "      <td>1.0</td>\n",
              "      <td>0.0</td>\n",
              "      <td>0.0</td>\n",
              "      <td>0.0</td>\n",
              "      <td>1.0</td>\n",
              "      <td>0.0</td>\n",
              "      <td>0.0</td>\n",
              "      <td>1.0</td>\n",
              "      <td>0.0</td>\n",
              "      <td>0.0</td>\n",
              "      <td>1.0</td>\n",
              "      <td>1.0</td>\n",
              "      <td>0.0</td>\n",
              "      <td>0.0</td>\n",
              "      <td>0.0</td>\n",
              "      <td>0.0</td>\n",
              "      <td>0.0</td>\n",
              "      <td>0.0</td>\n",
              "      <td>1.0</td>\n",
              "      <td>0.0</td>\n",
              "    </tr>\n",
              "  </tbody>\n",
              "</table>\n",
              "</div>"
            ],
            "text/plain": [
              "    0    1    2    3    4    5    6   ...   15   16   17   18   19   20   21\n",
              "0  0.0  1.0  0.0  0.0  0.0  1.0  0.0  ...  0.0  0.0  0.0  0.0  1.0  0.0  0.0\n",
              "1  0.0  1.0  0.0  0.0  1.0  0.0  1.0  ...  0.0  0.0  0.0  0.0  0.0  1.0  0.0\n",
              "2  1.0  0.0  0.0  1.0  0.0  0.0  1.0  ...  0.0  0.0  0.0  0.0  0.0  1.0  0.0\n",
              "3  0.0  1.0  0.0  1.0  0.0  0.0  1.0  ...  0.0  0.0  0.0  0.0  0.0  1.0  0.0\n",
              "4  1.0  0.0  1.0  0.0  0.0  0.0  1.0  ...  0.0  0.0  0.0  0.0  0.0  1.0  0.0\n",
              "\n",
              "[5 rows x 22 columns]"
            ]
          },
          "metadata": {
            "tags": []
          },
          "execution_count": 178
        }
      ]
    },
    {
      "cell_type": "markdown",
      "metadata": {
        "id": "dhdyfo1iqU2m",
        "colab_type": "text"
      },
      "source": [
        "Então, conclui-se que 7 parâmetros foram transformados em 21.\n",
        "\n",
        "\n",
        "---\n",
        "\n"
      ]
    },
    {
      "cell_type": "code",
      "metadata": {
        "id": "vxVM385uqn8F",
        "colab_type": "code",
        "outputId": "5a8e840d-c40a-4d23-c87a-4f2713c08a59",
        "colab": {
          "base_uri": "https://localhost:8080/",
          "height": 204
        }
      },
      "source": [
        "n = dados [['column1', 'column4', 'column5', 'column8', 'column14']]\n",
        "n.head()"
      ],
      "execution_count": 0,
      "outputs": [
        {
          "output_type": "execute_result",
          "data": {
            "text/html": [
              "<div>\n",
              "<style scoped>\n",
              "    .dataframe tbody tr th:only-of-type {\n",
              "        vertical-align: middle;\n",
              "    }\n",
              "\n",
              "    .dataframe tbody tr th {\n",
              "        vertical-align: top;\n",
              "    }\n",
              "\n",
              "    .dataframe thead th {\n",
              "        text-align: right;\n",
              "    }\n",
              "</style>\n",
              "<table border=\"1\" class=\"dataframe\">\n",
              "  <thead>\n",
              "    <tr style=\"text-align: right;\">\n",
              "      <th></th>\n",
              "      <th>column1</th>\n",
              "      <th>column4</th>\n",
              "      <th>column5</th>\n",
              "      <th>column8</th>\n",
              "      <th>column14</th>\n",
              "    </tr>\n",
              "  </thead>\n",
              "  <tbody>\n",
              "    <tr>\n",
              "      <th>0</th>\n",
              "      <td>63</td>\n",
              "      <td>145</td>\n",
              "      <td>233</td>\n",
              "      <td>150</td>\n",
              "      <td>1</td>\n",
              "    </tr>\n",
              "    <tr>\n",
              "      <th>1</th>\n",
              "      <td>37</td>\n",
              "      <td>130</td>\n",
              "      <td>250</td>\n",
              "      <td>187</td>\n",
              "      <td>1</td>\n",
              "    </tr>\n",
              "    <tr>\n",
              "      <th>2</th>\n",
              "      <td>41</td>\n",
              "      <td>130</td>\n",
              "      <td>204</td>\n",
              "      <td>172</td>\n",
              "      <td>1</td>\n",
              "    </tr>\n",
              "    <tr>\n",
              "      <th>3</th>\n",
              "      <td>56</td>\n",
              "      <td>120</td>\n",
              "      <td>236</td>\n",
              "      <td>178</td>\n",
              "      <td>1</td>\n",
              "    </tr>\n",
              "    <tr>\n",
              "      <th>4</th>\n",
              "      <td>57</td>\n",
              "      <td>120</td>\n",
              "      <td>354</td>\n",
              "      <td>163</td>\n",
              "      <td>1</td>\n",
              "    </tr>\n",
              "  </tbody>\n",
              "</table>\n",
              "</div>"
            ],
            "text/plain": [
              "   column1  column4  column5  column8  column14\n",
              "0       63      145      233      150         1\n",
              "1       37      130      250      187         1\n",
              "2       41      130      204      172         1\n",
              "3       56      120      236      178         1\n",
              "4       57      120      354      163         1"
            ]
          },
          "metadata": {
            "tags": []
          },
          "execution_count": 181
        }
      ]
    },
    {
      "cell_type": "markdown",
      "metadata": {
        "id": "evJD8RO2q5rZ",
        "colab_type": "text"
      },
      "source": [
        "Aqui possuímos os dados que não foram tratados."
      ]
    },
    {
      "cell_type": "markdown",
      "metadata": {
        "id": "S1T2BrLgqgaw",
        "colab_type": "text"
      },
      "source": [
        "Agora irei concatenar todos os parâmetros novamente."
      ]
    },
    {
      "cell_type": "code",
      "metadata": {
        "id": "VvFhKVc0q8lB",
        "colab_type": "code",
        "colab": {}
      },
      "source": [
        "a = pd.concat([m, q], axis = 1)\n",
        "a = pd.concat([a,n], axis = 1)\n",
        "x = a.iloc[:, :-1].values\n",
        "y = a.iloc[:,-1:].values"
      ],
      "execution_count": 0,
      "outputs": []
    },
    {
      "cell_type": "code",
      "metadata": {
        "id": "tCclJffhs3B5",
        "colab_type": "code",
        "outputId": "82de7dc5-f68d-430d-e65e-ce3b9eef5108",
        "colab": {
          "base_uri": "https://localhost:8080/",
          "height": 136
        }
      },
      "source": [
        "x[0]"
      ],
      "execution_count": 0,
      "outputs": [
        {
          "output_type": "execute_result",
          "data": {
            "text/plain": [
              "array([  2.37723407,   0.        ,   1.        ,   0.        ,\n",
              "         0.        ,   0.        ,   1.        ,   0.        ,\n",
              "         1.        ,   1.        ,   0.        ,   0.        ,\n",
              "         1.        ,   0.        ,   1.        ,   0.        ,\n",
              "         0.        ,   0.        ,   0.        ,   0.        ,\n",
              "         1.        ,   0.        ,   0.        ,  63.        ,\n",
              "       145.        , 233.        , 150.        ])"
            ]
          },
          "metadata": {
            "tags": []
          },
          "execution_count": 183
        }
      ]
    },
    {
      "cell_type": "markdown",
      "metadata": {
        "id": "ESkGarPGs97t",
        "colab_type": "text"
      },
      "source": [
        "Já passei para forma de vetor que será a usada na próxima sessão, só queria dar um adendo que temos 27 parametros para a predição. Assim para cada modelo serão 27 entradas e 1 saida."
      ]
    },
    {
      "cell_type": "markdown",
      "metadata": {
        "id": "REVy-oAPtfjx",
        "colab_type": "text"
      },
      "source": [
        "# Divisão Base de treinamento X Base de teste"
      ]
    },
    {
      "cell_type": "markdown",
      "metadata": {
        "id": "BxWNqkVMtidS",
        "colab_type": "text"
      },
      "source": [
        "Nessa secção irei dividir uma parte dos dados para o treinamento, ao passo que o restante será usado para válida nosso modelo sobre a característica de accurancy, isto é o quão confiável ele é para afirmar se uma pessoa terá ou não a doença."
      ]
    },
    {
      "cell_type": "code",
      "metadata": {
        "id": "Ld6K0my8t1hn",
        "colab_type": "code",
        "colab": {}
      },
      "source": [
        "from sklearn.model_selection import train_test_split\n",
        "x_train, x_test, y_train, y_test = train_test_split(x, y, test_size = 0.3, random_state = 42)"
      ],
      "execution_count": 0,
      "outputs": []
    },
    {
      "cell_type": "markdown",
      "metadata": {
        "id": "H-S4vDedt3pI",
        "colab_type": "text"
      },
      "source": [
        "Seguindo os requisitos dividi a base em 70% para treinamento e 30% para teste, além de ter colocado o random_state no valor 42."
      ]
    },
    {
      "cell_type": "code",
      "metadata": {
        "id": "mpXAQ_vTuKEY",
        "colab_type": "code",
        "outputId": "ea166d3e-3595-43fc-ced2-84c86c4798e4",
        "colab": {
          "base_uri": "https://localhost:8080/",
          "height": 34
        }
      },
      "source": [
        "x_train.shape"
      ],
      "execution_count": 0,
      "outputs": [
        {
          "output_type": "execute_result",
          "data": {
            "text/plain": [
              "(212, 27)"
            ]
          },
          "metadata": {
            "tags": []
          },
          "execution_count": 185
        }
      ]
    },
    {
      "cell_type": "markdown",
      "metadata": {
        "id": "rHrvCPvAuVLg",
        "colab_type": "text"
      },
      "source": [
        "Assim possuímos 212 dados para o treinamento dos modelos."
      ]
    },
    {
      "cell_type": "code",
      "metadata": {
        "id": "GNHnGCw-uaeM",
        "colab_type": "code",
        "outputId": "0bacc01c-9481-43aa-b6cb-a95805d84e5c",
        "colab": {
          "base_uri": "https://localhost:8080/",
          "height": 34
        }
      },
      "source": [
        "x_test.shape"
      ],
      "execution_count": 0,
      "outputs": [
        {
          "output_type": "execute_result",
          "data": {
            "text/plain": [
              "(91, 27)"
            ]
          },
          "metadata": {
            "tags": []
          },
          "execution_count": 186
        }
      ]
    },
    {
      "cell_type": "markdown",
      "metadata": {
        "id": "SwfJHAOfwX4m",
        "colab_type": "text"
      },
      "source": [
        "E 91 dados para o teste."
      ]
    },
    {
      "cell_type": "markdown",
      "metadata": {
        "id": "yZXMLI8AumXT",
        "colab_type": "text"
      },
      "source": [
        "# Construção e treinamento do modelo: NeuralNetwork/MLP"
      ]
    },
    {
      "cell_type": "markdown",
      "metadata": {
        "id": "GRrNxVv2uqXc",
        "colab_type": "text"
      },
      "source": [
        "Primeiro modelo que utilizaremos são as redes neurais.\n",
        "\n"
      ]
    },
    {
      "cell_type": "code",
      "metadata": {
        "id": "VTxd61NRuwqH",
        "colab_type": "code",
        "colab": {}
      },
      "source": [
        "classifier = tf.keras.models.Sequential()\n",
        "classifier.add(tf.keras.layers.Dense(units = 16, activation='relu', input_shape=(27,)))\n",
        "classifier.add(tf.keras.layers.Dropout(0.1))\n",
        "classifier.add(tf.keras.layers.Dense(units = 32, activation='relu', input_shape=(30,)))\n",
        "classifier.add(tf.keras.layers.Dropout(0.1))\n",
        "classifier.add(tf.keras.layers.Dense(units=16, activation='relu'))\n",
        "classifier.add(tf.keras.layers.Dropout(0.1))\n",
        "classifier.add(tf.keras.layers.Dense(units=1, activation='sigmoid'))"
      ],
      "execution_count": 0,
      "outputs": []
    },
    {
      "cell_type": "markdown",
      "metadata": {
        "id": "zHXUUHpMux4_",
        "colab_type": "text"
      },
      "source": [
        "As redes neurais buscam simular o funcionamento do cerébro humano, nesse aspecto podemos dividir seu funcionamento, de forma simplificada em:\n",
        "*   **Input**: São os parâmetros de entrada, esses são conectados a toda uma primeira camada de neurónios. Assim cada neurónio receberá a soma dos valores associados aos parâmetros, contudo cada valor é multiplicado por um valor chamado de peso, que é determinado durante o treinamento.\n",
        "*   **Camadas ocultas**: São ligações de neurônios com neurônios, funcionando de forma análoga, mas dessa vez os neurônios da camada (n-1) funcionando como input para camada (n)\n",
        "*   **Output**: É a ultima camada de neurônios que liga nos parâmetros de saida.\n",
        "\n",
        "\n",
        "\n"
      ]
    },
    {
      "cell_type": "code",
      "metadata": {
        "id": "pAa8x7JQwUUH",
        "colab_type": "code",
        "outputId": "5ea14ce1-5d25-4ae6-d0bb-e02d45ffc0e8",
        "colab": {
          "base_uri": "https://localhost:8080/",
          "height": 391
        }
      },
      "source": [
        "classifier.summary()"
      ],
      "execution_count": 0,
      "outputs": [
        {
          "output_type": "stream",
          "text": [
            "Model: \"sequential_4\"\n",
            "_________________________________________________________________\n",
            "Layer (type)                 Output Shape              Param #   \n",
            "=================================================================\n",
            "dense_16 (Dense)             (None, 16)                448       \n",
            "_________________________________________________________________\n",
            "dropout_12 (Dropout)         (None, 16)                0         \n",
            "_________________________________________________________________\n",
            "dense_17 (Dense)             (None, 32)                544       \n",
            "_________________________________________________________________\n",
            "dropout_13 (Dropout)         (None, 32)                0         \n",
            "_________________________________________________________________\n",
            "dense_18 (Dense)             (None, 16)                528       \n",
            "_________________________________________________________________\n",
            "dropout_14 (Dropout)         (None, 16)                0         \n",
            "_________________________________________________________________\n",
            "dense_19 (Dense)             (None, 1)                 17        \n",
            "=================================================================\n",
            "Total params: 1,537\n",
            "Trainable params: 1,537\n",
            "Non-trainable params: 0\n",
            "_________________________________________________________________\n"
          ],
          "name": "stdout"
        }
      ]
    },
    {
      "cell_type": "markdown",
      "metadata": {
        "id": "B5sCVxlxwbzP",
        "colab_type": "text"
      },
      "source": [
        "Como podemos ver, possuímos:\n",
        "3 camadas ocultas, sendo 2 com 16 neurônios e 1 com 32.\n",
        "\n",
        "*   27 parâmetros de input.\n",
        "*   3 camadas ocultas, sendo 2 com 16 neurônios e 1 com 32.\n",
        "*   1 parâmetro de output.\n",
        "\n"
      ]
    },
    {
      "cell_type": "markdown",
      "metadata": {
        "id": "X5Yr6wdxwz9g",
        "colab_type": "text"
      },
      "source": [
        "Nesse aspecto, o total de variáveis(pesos) são 1537."
      ]
    },
    {
      "cell_type": "code",
      "metadata": {
        "id": "4YRHmIKPw8XH",
        "colab_type": "code",
        "colab": {}
      },
      "source": [
        "classifier.compile(optimizer='Adam', loss='binary_crossentropy', metrics= ['accuracy'])"
      ],
      "execution_count": 0,
      "outputs": []
    },
    {
      "cell_type": "markdown",
      "metadata": {
        "id": "6htG-gSpxA9P",
        "colab_type": "text"
      },
      "source": [
        "Aqui eu ofereço minhas condições de teste da rede neural. Primeiramente, quando a rede neural é inicializada seus pesos são aleatórios, assim os dados de treinamento são inseridos e ela dará uma resposta. Nesse campo, para a evolução da rede calculamos um erro associado comparando o valor real com o valor predito pela rede. Eu estou usando a forma de calcular erro binary_crossentropy.\n",
        "E para ver o desempenho da rede adicionei a metrica de accuracy que é o quanto ela é confiável dentro da minha base de treinamento."
      ]
    },
    {
      "cell_type": "markdown",
      "metadata": {
        "id": "TXYGL49ok4Fc",
        "colab_type": "text"
      },
      "source": [
        "Vale ressaltar, que para evitar mínimos locais e overfitting da rede neural, eu usei a função dropout para resetar alguns pesos a cada treino, além de que eu resolvi fazer de forma de forma estócastica, fazendo a rede calcular recorrente vezes o erro numa geração, dividindo a minha base de treinamento em grupos de 5 pessoas."
      ]
    },
    {
      "cell_type": "markdown",
      "metadata": {
        "id": "nTkJDJgex3o3",
        "colab_type": "text"
      },
      "source": [
        "Logo em seguida, escolho que minha rede irá treinar por 500 gerações, isto é, numa geração a cada 5 pessoas ela faz os seguintes passos:\n",
        "*   Adiciona um grupo para o treino.\n",
        "*   Compara o erro entre os indivíduos do grupo.\n",
        "*   Ajusta os pesos.\n"
      ]
    },
    {
      "cell_type": "code",
      "metadata": {
        "id": "lw2Y5ECkx0CQ",
        "colab_type": "code",
        "outputId": "f6fdfc81-12a2-4034-a54e-f70335e6ff1c",
        "colab": {
          "base_uri": "https://localhost:8080/",
          "height": 1000
        }
      },
      "source": [
        "epochs_hist = classifier.fit(x_train, y_train, epochs = 500, batch_size= 5  ) "
      ],
      "execution_count": 0,
      "outputs": [
        {
          "output_type": "stream",
          "text": [
            "Train on 212 samples\n",
            "Epoch 1/500\n",
            "212/212 [==============================] - 1s 3ms/sample - loss: 6.9234 - accuracy: 0.4953\n",
            "Epoch 2/500\n",
            "212/212 [==============================] - 0s 425us/sample - loss: 4.2223 - accuracy: 0.5000\n",
            "Epoch 3/500\n",
            "212/212 [==============================] - 0s 436us/sample - loss: 4.2479 - accuracy: 0.4811\n",
            "Epoch 4/500\n",
            "212/212 [==============================] - 0s 445us/sample - loss: 2.8000 - accuracy: 0.5094\n",
            "Epoch 5/500\n",
            "212/212 [==============================] - 0s 455us/sample - loss: 1.8915 - accuracy: 0.5755\n",
            "Epoch 6/500\n",
            "212/212 [==============================] - 0s 439us/sample - loss: 1.7803 - accuracy: 0.5330\n",
            "Epoch 7/500\n",
            "212/212 [==============================] - 0s 471us/sample - loss: 1.5098 - accuracy: 0.5377\n",
            "Epoch 8/500\n",
            "212/212 [==============================] - 0s 535us/sample - loss: 1.5582 - accuracy: 0.5330\n",
            "Epoch 9/500\n",
            "212/212 [==============================] - 0s 465us/sample - loss: 1.2274 - accuracy: 0.5755\n",
            "Epoch 10/500\n",
            "212/212 [==============================] - 0s 509us/sample - loss: 1.0861 - accuracy: 0.5660\n",
            "Epoch 11/500\n",
            "212/212 [==============================] - 0s 484us/sample - loss: 1.0554 - accuracy: 0.5283\n",
            "Epoch 12/500\n",
            "212/212 [==============================] - 0s 485us/sample - loss: 0.9601 - accuracy: 0.5943\n",
            "Epoch 13/500\n",
            "212/212 [==============================] - 0s 432us/sample - loss: 0.9581 - accuracy: 0.4811\n",
            "Epoch 14/500\n",
            "212/212 [==============================] - 0s 464us/sample - loss: 0.8944 - accuracy: 0.5330\n",
            "Epoch 15/500\n",
            "212/212 [==============================] - 0s 474us/sample - loss: 0.7800 - accuracy: 0.4953\n",
            "Epoch 16/500\n",
            "212/212 [==============================] - 0s 493us/sample - loss: 0.7815 - accuracy: 0.5377\n",
            "Epoch 17/500\n",
            "212/212 [==============================] - 0s 435us/sample - loss: 0.7279 - accuracy: 0.5425\n",
            "Epoch 18/500\n",
            "212/212 [==============================] - 0s 430us/sample - loss: 0.7132 - accuracy: 0.5047\n",
            "Epoch 19/500\n",
            "212/212 [==============================] - 0s 473us/sample - loss: 0.7494 - accuracy: 0.6226\n",
            "Epoch 20/500\n",
            "212/212 [==============================] - 0s 431us/sample - loss: 0.7520 - accuracy: 0.5283\n",
            "Epoch 21/500\n",
            "212/212 [==============================] - 0s 464us/sample - loss: 0.7045 - accuracy: 0.5708\n",
            "Epoch 22/500\n",
            "212/212 [==============================] - 0s 429us/sample - loss: 0.7118 - accuracy: 0.5660\n",
            "Epoch 23/500\n",
            "212/212 [==============================] - 0s 461us/sample - loss: 0.7223 - accuracy: 0.5566\n",
            "Epoch 24/500\n",
            "212/212 [==============================] - 0s 489us/sample - loss: 0.7214 - accuracy: 0.4953\n",
            "Epoch 25/500\n",
            "212/212 [==============================] - 0s 465us/sample - loss: 0.7027 - accuracy: 0.5472\n",
            "Epoch 26/500\n",
            "212/212 [==============================] - 0s 391us/sample - loss: 0.6849 - accuracy: 0.6038\n",
            "Epoch 27/500\n",
            "212/212 [==============================] - 0s 441us/sample - loss: 0.6984 - accuracy: 0.5802\n",
            "Epoch 28/500\n",
            "212/212 [==============================] - 0s 412us/sample - loss: 0.7058 - accuracy: 0.5377\n",
            "Epoch 29/500\n",
            "212/212 [==============================] - 0s 426us/sample - loss: 0.7083 - accuracy: 0.5283\n",
            "Epoch 30/500\n",
            "212/212 [==============================] - 0s 488us/sample - loss: 0.6953 - accuracy: 0.5425\n",
            "Epoch 31/500\n",
            "212/212 [==============================] - 0s 471us/sample - loss: 0.6901 - accuracy: 0.5613\n",
            "Epoch 32/500\n",
            "212/212 [==============================] - 0s 413us/sample - loss: 0.7151 - accuracy: 0.5519\n",
            "Epoch 33/500\n",
            "212/212 [==============================] - 0s 445us/sample - loss: 0.6918 - accuracy: 0.5566\n",
            "Epoch 34/500\n",
            "212/212 [==============================] - 0s 457us/sample - loss: 0.6946 - accuracy: 0.5472\n",
            "Epoch 35/500\n",
            "212/212 [==============================] - 0s 506us/sample - loss: 0.6950 - accuracy: 0.5943\n",
            "Epoch 36/500\n",
            "212/212 [==============================] - 0s 425us/sample - loss: 0.6696 - accuracy: 0.5991\n",
            "Epoch 37/500\n",
            "212/212 [==============================] - 0s 452us/sample - loss: 0.6795 - accuracy: 0.5660\n",
            "Epoch 38/500\n",
            "212/212 [==============================] - 0s 470us/sample - loss: 0.7403 - accuracy: 0.5236\n",
            "Epoch 39/500\n",
            "212/212 [==============================] - 0s 423us/sample - loss: 0.7136 - accuracy: 0.5094\n",
            "Epoch 40/500\n",
            "212/212 [==============================] - 0s 407us/sample - loss: 0.6803 - accuracy: 0.5660\n",
            "Epoch 41/500\n",
            "212/212 [==============================] - 0s 454us/sample - loss: 0.6715 - accuracy: 0.5943\n",
            "Epoch 42/500\n",
            "212/212 [==============================] - 0s 426us/sample - loss: 0.6814 - accuracy: 0.5613\n",
            "Epoch 43/500\n",
            "212/212 [==============================] - 0s 440us/sample - loss: 0.6616 - accuracy: 0.6179\n",
            "Epoch 44/500\n",
            "212/212 [==============================] - 0s 617us/sample - loss: 0.6745 - accuracy: 0.5896\n",
            "Epoch 45/500\n",
            "212/212 [==============================] - 0s 450us/sample - loss: 0.6708 - accuracy: 0.5519\n",
            "Epoch 46/500\n",
            "212/212 [==============================] - 0s 440us/sample - loss: 0.6898 - accuracy: 0.5377\n",
            "Epoch 47/500\n",
            "212/212 [==============================] - 0s 501us/sample - loss: 0.6834 - accuracy: 0.5142\n",
            "Epoch 48/500\n",
            "212/212 [==============================] - 0s 509us/sample - loss: 0.6778 - accuracy: 0.5613\n",
            "Epoch 49/500\n",
            "212/212 [==============================] - 0s 489us/sample - loss: 0.6831 - accuracy: 0.5566\n",
            "Epoch 50/500\n",
            "212/212 [==============================] - 0s 472us/sample - loss: 0.6549 - accuracy: 0.5802\n",
            "Epoch 51/500\n",
            "212/212 [==============================] - 0s 441us/sample - loss: 0.6524 - accuracy: 0.6226\n",
            "Epoch 52/500\n",
            "212/212 [==============================] - 0s 439us/sample - loss: 0.6764 - accuracy: 0.5377\n",
            "Epoch 53/500\n",
            "212/212 [==============================] - 0s 495us/sample - loss: 0.6769 - accuracy: 0.5660\n",
            "Epoch 54/500\n",
            "212/212 [==============================] - 0s 465us/sample - loss: 0.6614 - accuracy: 0.6132\n",
            "Epoch 55/500\n",
            "212/212 [==============================] - 0s 448us/sample - loss: 0.6466 - accuracy: 0.6085\n",
            "Epoch 56/500\n",
            "212/212 [==============================] - 0s 443us/sample - loss: 0.6704 - accuracy: 0.5330\n",
            "Epoch 57/500\n",
            "212/212 [==============================] - 0s 436us/sample - loss: 0.7002 - accuracy: 0.5377\n",
            "Epoch 58/500\n",
            "212/212 [==============================] - 0s 440us/sample - loss: 0.6621 - accuracy: 0.6085\n",
            "Epoch 59/500\n",
            "212/212 [==============================] - 0s 441us/sample - loss: 0.6717 - accuracy: 0.5566\n",
            "Epoch 60/500\n",
            "212/212 [==============================] - 0s 468us/sample - loss: 0.6977 - accuracy: 0.6132\n",
            "Epoch 61/500\n",
            "212/212 [==============================] - 0s 486us/sample - loss: 0.6545 - accuracy: 0.5802\n",
            "Epoch 62/500\n",
            "212/212 [==============================] - 0s 484us/sample - loss: 0.6941 - accuracy: 0.5142\n",
            "Epoch 63/500\n",
            "212/212 [==============================] - 0s 445us/sample - loss: 0.6724 - accuracy: 0.5896\n",
            "Epoch 64/500\n",
            "212/212 [==============================] - 0s 574us/sample - loss: 0.6672 - accuracy: 0.5613\n",
            "Epoch 65/500\n",
            "212/212 [==============================] - 0s 450us/sample - loss: 0.6539 - accuracy: 0.5660\n",
            "Epoch 66/500\n",
            "212/212 [==============================] - 0s 415us/sample - loss: 0.6786 - accuracy: 0.5236\n",
            "Epoch 67/500\n",
            "212/212 [==============================] - 0s 444us/sample - loss: 0.6638 - accuracy: 0.5849\n",
            "Epoch 68/500\n",
            "212/212 [==============================] - 0s 466us/sample - loss: 0.6578 - accuracy: 0.6462\n",
            "Epoch 69/500\n",
            "212/212 [==============================] - 0s 475us/sample - loss: 0.6920 - accuracy: 0.5425\n",
            "Epoch 70/500\n",
            "212/212 [==============================] - 0s 444us/sample - loss: 0.6589 - accuracy: 0.6132\n",
            "Epoch 71/500\n",
            "212/212 [==============================] - 0s 448us/sample - loss: 0.6640 - accuracy: 0.6274\n",
            "Epoch 72/500\n",
            "212/212 [==============================] - 0s 445us/sample - loss: 0.6836 - accuracy: 0.5613\n",
            "Epoch 73/500\n",
            "212/212 [==============================] - 0s 468us/sample - loss: 0.6280 - accuracy: 0.6698\n",
            "Epoch 74/500\n",
            "212/212 [==============================] - 0s 474us/sample - loss: 0.6434 - accuracy: 0.5943\n",
            "Epoch 75/500\n",
            "212/212 [==============================] - 0s 449us/sample - loss: 0.6523 - accuracy: 0.5896\n",
            "Epoch 76/500\n",
            "212/212 [==============================] - 0s 450us/sample - loss: 0.6346 - accuracy: 0.6274\n",
            "Epoch 77/500\n",
            "212/212 [==============================] - 0s 455us/sample - loss: 0.6600 - accuracy: 0.5802\n",
            "Epoch 78/500\n",
            "212/212 [==============================] - 0s 436us/sample - loss: 0.6676 - accuracy: 0.5566\n",
            "Epoch 79/500\n",
            "212/212 [==============================] - 0s 436us/sample - loss: 0.6596 - accuracy: 0.6132\n",
            "Epoch 80/500\n",
            "212/212 [==============================] - 0s 433us/sample - loss: 0.6489 - accuracy: 0.6085\n",
            "Epoch 81/500\n",
            "212/212 [==============================] - 0s 589us/sample - loss: 0.6729 - accuracy: 0.6132\n",
            "Epoch 82/500\n",
            "212/212 [==============================] - 0s 468us/sample - loss: 0.6618 - accuracy: 0.6274\n",
            "Epoch 83/500\n",
            "212/212 [==============================] - 0s 446us/sample - loss: 0.6235 - accuracy: 0.6604\n",
            "Epoch 84/500\n",
            "212/212 [==============================] - 0s 583us/sample - loss: 0.6477 - accuracy: 0.6179\n",
            "Epoch 85/500\n",
            "212/212 [==============================] - 0s 461us/sample - loss: 0.6123 - accuracy: 0.6887\n",
            "Epoch 86/500\n",
            "212/212 [==============================] - 0s 432us/sample - loss: 0.6550 - accuracy: 0.5943\n",
            "Epoch 87/500\n",
            "212/212 [==============================] - 0s 465us/sample - loss: 0.6383 - accuracy: 0.6321\n",
            "Epoch 88/500\n",
            "212/212 [==============================] - 0s 496us/sample - loss: 0.6122 - accuracy: 0.7028\n",
            "Epoch 89/500\n",
            "212/212 [==============================] - 0s 428us/sample - loss: 0.6194 - accuracy: 0.6462\n",
            "Epoch 90/500\n",
            "212/212 [==============================] - 0s 428us/sample - loss: 0.6305 - accuracy: 0.5943\n",
            "Epoch 91/500\n",
            "212/212 [==============================] - 0s 412us/sample - loss: 0.6175 - accuracy: 0.6509\n",
            "Epoch 92/500\n",
            "212/212 [==============================] - 0s 445us/sample - loss: 0.6299 - accuracy: 0.6415\n",
            "Epoch 93/500\n",
            "212/212 [==============================] - 0s 476us/sample - loss: 0.6511 - accuracy: 0.5849\n",
            "Epoch 94/500\n",
            "212/212 [==============================] - 0s 472us/sample - loss: 0.6210 - accuracy: 0.6509\n",
            "Epoch 95/500\n",
            "212/212 [==============================] - 0s 419us/sample - loss: 0.6293 - accuracy: 0.6179\n",
            "Epoch 96/500\n",
            "212/212 [==============================] - 0s 466us/sample - loss: 0.6005 - accuracy: 0.6792\n",
            "Epoch 97/500\n",
            "212/212 [==============================] - 0s 475us/sample - loss: 0.6187 - accuracy: 0.7170\n",
            "Epoch 98/500\n",
            "212/212 [==============================] - 0s 439us/sample - loss: 0.6094 - accuracy: 0.6745\n",
            "Epoch 99/500\n",
            "212/212 [==============================] - 0s 494us/sample - loss: 0.5994 - accuracy: 0.6745\n",
            "Epoch 100/500\n",
            "212/212 [==============================] - 0s 570us/sample - loss: 0.6551 - accuracy: 0.6132\n",
            "Epoch 101/500\n",
            "212/212 [==============================] - 0s 435us/sample - loss: 0.6029 - accuracy: 0.6792\n",
            "Epoch 102/500\n",
            "212/212 [==============================] - 0s 460us/sample - loss: 0.6160 - accuracy: 0.6415\n",
            "Epoch 103/500\n",
            "212/212 [==============================] - 0s 454us/sample - loss: 0.5881 - accuracy: 0.6698\n",
            "Epoch 104/500\n",
            "212/212 [==============================] - 0s 426us/sample - loss: 0.6262 - accuracy: 0.6840\n",
            "Epoch 105/500\n",
            "212/212 [==============================] - 0s 439us/sample - loss: 0.5986 - accuracy: 0.6415\n",
            "Epoch 106/500\n",
            "212/212 [==============================] - 0s 549us/sample - loss: 0.6108 - accuracy: 0.6745\n",
            "Epoch 107/500\n",
            "212/212 [==============================] - 0s 437us/sample - loss: 0.5995 - accuracy: 0.6887\n",
            "Epoch 108/500\n",
            "212/212 [==============================] - 0s 426us/sample - loss: 0.5855 - accuracy: 0.6792\n",
            "Epoch 109/500\n",
            "212/212 [==============================] - 0s 427us/sample - loss: 0.6009 - accuracy: 0.7170\n",
            "Epoch 110/500\n",
            "212/212 [==============================] - 0s 421us/sample - loss: 0.5900 - accuracy: 0.7264\n",
            "Epoch 111/500\n",
            "212/212 [==============================] - 0s 435us/sample - loss: 0.5847 - accuracy: 0.6557\n",
            "Epoch 112/500\n",
            "212/212 [==============================] - 0s 457us/sample - loss: 0.5873 - accuracy: 0.6745\n",
            "Epoch 113/500\n",
            "212/212 [==============================] - 0s 457us/sample - loss: 0.5819 - accuracy: 0.6934\n",
            "Epoch 114/500\n",
            "212/212 [==============================] - 0s 424us/sample - loss: 0.5639 - accuracy: 0.7075\n",
            "Epoch 115/500\n",
            "212/212 [==============================] - 0s 434us/sample - loss: 0.5710 - accuracy: 0.6745\n",
            "Epoch 116/500\n",
            "212/212 [==============================] - 0s 456us/sample - loss: 0.5927 - accuracy: 0.6745\n",
            "Epoch 117/500\n",
            "212/212 [==============================] - 0s 489us/sample - loss: 0.5901 - accuracy: 0.7123\n",
            "Epoch 118/500\n",
            "212/212 [==============================] - 0s 419us/sample - loss: 0.5613 - accuracy: 0.7028\n",
            "Epoch 119/500\n",
            "212/212 [==============================] - 0s 449us/sample - loss: 0.5419 - accuracy: 0.7311\n",
            "Epoch 120/500\n",
            "212/212 [==============================] - 0s 416us/sample - loss: 0.5336 - accuracy: 0.7217\n",
            "Epoch 121/500\n",
            "212/212 [==============================] - 0s 483us/sample - loss: 0.5652 - accuracy: 0.7311\n",
            "Epoch 122/500\n",
            "212/212 [==============================] - 0s 442us/sample - loss: 0.5341 - accuracy: 0.7028\n",
            "Epoch 123/500\n",
            "212/212 [==============================] - 0s 426us/sample - loss: 0.5000 - accuracy: 0.7406\n",
            "Epoch 124/500\n",
            "212/212 [==============================] - 0s 424us/sample - loss: 0.5315 - accuracy: 0.7217\n",
            "Epoch 125/500\n",
            "212/212 [==============================] - 0s 446us/sample - loss: 0.5009 - accuracy: 0.7406\n",
            "Epoch 126/500\n",
            "212/212 [==============================] - 0s 454us/sample - loss: 0.5138 - accuracy: 0.6981\n",
            "Epoch 127/500\n",
            "212/212 [==============================] - 0s 449us/sample - loss: 0.5078 - accuracy: 0.7311\n",
            "Epoch 128/500\n",
            "212/212 [==============================] - 0s 521us/sample - loss: 0.5010 - accuracy: 0.7406\n",
            "Epoch 129/500\n",
            "212/212 [==============================] - 0s 501us/sample - loss: 0.4822 - accuracy: 0.7500\n",
            "Epoch 130/500\n",
            "212/212 [==============================] - 0s 440us/sample - loss: 0.4727 - accuracy: 0.7877\n",
            "Epoch 131/500\n",
            "212/212 [==============================] - 0s 418us/sample - loss: 0.4781 - accuracy: 0.7783\n",
            "Epoch 132/500\n",
            "212/212 [==============================] - 0s 443us/sample - loss: 0.4931 - accuracy: 0.7358\n",
            "Epoch 133/500\n",
            "212/212 [==============================] - 0s 430us/sample - loss: 0.4824 - accuracy: 0.7736\n",
            "Epoch 134/500\n",
            "212/212 [==============================] - 0s 434us/sample - loss: 0.4501 - accuracy: 0.7689\n",
            "Epoch 135/500\n",
            "212/212 [==============================] - 0s 458us/sample - loss: 0.4565 - accuracy: 0.7736\n",
            "Epoch 136/500\n",
            "212/212 [==============================] - 0s 422us/sample - loss: 0.4472 - accuracy: 0.7830\n",
            "Epoch 137/500\n",
            "212/212 [==============================] - 0s 427us/sample - loss: 0.3892 - accuracy: 0.8255\n",
            "Epoch 138/500\n",
            "212/212 [==============================] - 0s 567us/sample - loss: 0.4442 - accuracy: 0.8019\n",
            "Epoch 139/500\n",
            "212/212 [==============================] - 0s 484us/sample - loss: 0.4413 - accuracy: 0.7594\n",
            "Epoch 140/500\n",
            "212/212 [==============================] - 0s 428us/sample - loss: 0.4135 - accuracy: 0.7736\n",
            "Epoch 141/500\n",
            "212/212 [==============================] - 0s 458us/sample - loss: 0.4197 - accuracy: 0.8019\n",
            "Epoch 142/500\n",
            "212/212 [==============================] - 0s 479us/sample - loss: 0.4264 - accuracy: 0.8160\n",
            "Epoch 143/500\n",
            "212/212 [==============================] - 0s 484us/sample - loss: 0.4063 - accuracy: 0.7925\n",
            "Epoch 144/500\n",
            "212/212 [==============================] - 0s 438us/sample - loss: 0.4092 - accuracy: 0.8066\n",
            "Epoch 145/500\n",
            "212/212 [==============================] - 0s 455us/sample - loss: 0.3971 - accuracy: 0.8160\n",
            "Epoch 146/500\n",
            "212/212 [==============================] - 0s 490us/sample - loss: 0.4719 - accuracy: 0.7736\n",
            "Epoch 147/500\n",
            "212/212 [==============================] - 0s 425us/sample - loss: 0.4130 - accuracy: 0.7830\n",
            "Epoch 148/500\n",
            "212/212 [==============================] - 0s 566us/sample - loss: 0.4166 - accuracy: 0.7783\n",
            "Epoch 149/500\n",
            "212/212 [==============================] - 0s 440us/sample - loss: 0.4070 - accuracy: 0.7925\n",
            "Epoch 150/500\n",
            "212/212 [==============================] - 0s 432us/sample - loss: 0.4036 - accuracy: 0.8113\n",
            "Epoch 151/500\n",
            "212/212 [==============================] - 0s 451us/sample - loss: 0.3532 - accuracy: 0.8396\n",
            "Epoch 152/500\n",
            "212/212 [==============================] - 0s 401us/sample - loss: 0.4059 - accuracy: 0.8160\n",
            "Epoch 153/500\n",
            "212/212 [==============================] - 0s 403us/sample - loss: 0.3835 - accuracy: 0.8349\n",
            "Epoch 154/500\n",
            "212/212 [==============================] - 0s 473us/sample - loss: 0.3610 - accuracy: 0.8255\n",
            "Epoch 155/500\n",
            "212/212 [==============================] - 0s 423us/sample - loss: 0.3313 - accuracy: 0.8585\n",
            "Epoch 156/500\n",
            "212/212 [==============================] - 0s 407us/sample - loss: 0.3976 - accuracy: 0.8349\n",
            "Epoch 157/500\n",
            "212/212 [==============================] - 0s 408us/sample - loss: 0.3845 - accuracy: 0.8160\n",
            "Epoch 158/500\n",
            "212/212 [==============================] - 0s 428us/sample - loss: 0.3673 - accuracy: 0.8160\n",
            "Epoch 159/500\n",
            "212/212 [==============================] - 0s 441us/sample - loss: 0.3434 - accuracy: 0.8443\n",
            "Epoch 160/500\n",
            "212/212 [==============================] - 0s 502us/sample - loss: 0.3259 - accuracy: 0.8160\n",
            "Epoch 161/500\n",
            "212/212 [==============================] - 0s 458us/sample - loss: 0.3878 - accuracy: 0.7972\n",
            "Epoch 162/500\n",
            "212/212 [==============================] - 0s 426us/sample - loss: 0.3660 - accuracy: 0.8255\n",
            "Epoch 163/500\n",
            "212/212 [==============================] - 0s 440us/sample - loss: 0.3520 - accuracy: 0.8302\n",
            "Epoch 164/500\n",
            "212/212 [==============================] - 0s 453us/sample - loss: 0.3989 - accuracy: 0.8208\n",
            "Epoch 165/500\n",
            "212/212 [==============================] - 0s 450us/sample - loss: 0.3550 - accuracy: 0.8349\n",
            "Epoch 166/500\n",
            "212/212 [==============================] - 0s 440us/sample - loss: 0.3530 - accuracy: 0.8349\n",
            "Epoch 167/500\n",
            "212/212 [==============================] - 0s 416us/sample - loss: 0.3381 - accuracy: 0.8255\n",
            "Epoch 168/500\n",
            "212/212 [==============================] - 0s 536us/sample - loss: 0.3366 - accuracy: 0.8349\n",
            "Epoch 169/500\n",
            "212/212 [==============================] - 0s 548us/sample - loss: 0.3367 - accuracy: 0.8491\n",
            "Epoch 170/500\n",
            "212/212 [==============================] - 0s 487us/sample - loss: 0.3309 - accuracy: 0.8443\n",
            "Epoch 171/500\n",
            "212/212 [==============================] - 0s 559us/sample - loss: 0.3372 - accuracy: 0.8349\n",
            "Epoch 172/500\n",
            "212/212 [==============================] - 0s 490us/sample - loss: 0.3449 - accuracy: 0.8443\n",
            "Epoch 173/500\n",
            "212/212 [==============================] - 0s 461us/sample - loss: 0.3468 - accuracy: 0.8443\n",
            "Epoch 174/500\n",
            "212/212 [==============================] - 0s 423us/sample - loss: 0.3202 - accuracy: 0.8396\n",
            "Epoch 175/500\n",
            "212/212 [==============================] - 0s 447us/sample - loss: 0.3471 - accuracy: 0.8302\n",
            "Epoch 176/500\n",
            "212/212 [==============================] - 0s 426us/sample - loss: 0.3275 - accuracy: 0.8160\n",
            "Epoch 177/500\n",
            "212/212 [==============================] - 0s 441us/sample - loss: 0.3506 - accuracy: 0.8255\n",
            "Epoch 178/500\n",
            "212/212 [==============================] - 0s 512us/sample - loss: 0.2990 - accuracy: 0.8679\n",
            "Epoch 179/500\n",
            "212/212 [==============================] - 0s 448us/sample - loss: 0.3279 - accuracy: 0.8443\n",
            "Epoch 180/500\n",
            "212/212 [==============================] - 0s 460us/sample - loss: 0.3089 - accuracy: 0.8349\n",
            "Epoch 181/500\n",
            "212/212 [==============================] - 0s 444us/sample - loss: 0.3355 - accuracy: 0.8208\n",
            "Epoch 182/500\n",
            "212/212 [==============================] - 0s 489us/sample - loss: 0.3154 - accuracy: 0.8302\n",
            "Epoch 183/500\n",
            "212/212 [==============================] - 0s 435us/sample - loss: 0.3211 - accuracy: 0.8443\n",
            "Epoch 184/500\n",
            "212/212 [==============================] - 0s 490us/sample - loss: 0.3408 - accuracy: 0.8160\n",
            "Epoch 185/500\n",
            "212/212 [==============================] - 0s 438us/sample - loss: 0.2917 - accuracy: 0.8585\n",
            "Epoch 186/500\n",
            "212/212 [==============================] - 0s 454us/sample - loss: 0.3046 - accuracy: 0.8396\n",
            "Epoch 187/500\n",
            "212/212 [==============================] - 0s 478us/sample - loss: 0.3209 - accuracy: 0.8302\n",
            "Epoch 188/500\n",
            "212/212 [==============================] - 0s 448us/sample - loss: 0.2960 - accuracy: 0.8443\n",
            "Epoch 189/500\n",
            "212/212 [==============================] - 0s 440us/sample - loss: 0.3121 - accuracy: 0.8396\n",
            "Epoch 190/500\n",
            "212/212 [==============================] - 0s 440us/sample - loss: 0.2887 - accuracy: 0.8726\n",
            "Epoch 191/500\n",
            "212/212 [==============================] - 0s 419us/sample - loss: 0.2998 - accuracy: 0.8491\n",
            "Epoch 192/500\n",
            "212/212 [==============================] - 0s 419us/sample - loss: 0.3098 - accuracy: 0.8679\n",
            "Epoch 193/500\n",
            "212/212 [==============================] - 0s 475us/sample - loss: 0.3198 - accuracy: 0.8491\n",
            "Epoch 194/500\n",
            "212/212 [==============================] - 0s 456us/sample - loss: 0.3163 - accuracy: 0.8302\n",
            "Epoch 195/500\n",
            "212/212 [==============================] - 0s 483us/sample - loss: 0.3246 - accuracy: 0.8632\n",
            "Epoch 196/500\n",
            "212/212 [==============================] - 0s 501us/sample - loss: 0.2908 - accuracy: 0.8821\n",
            "Epoch 197/500\n",
            "212/212 [==============================] - 0s 442us/sample - loss: 0.2883 - accuracy: 0.8302\n",
            "Epoch 198/500\n",
            "212/212 [==============================] - 0s 449us/sample - loss: 0.3209 - accuracy: 0.8491\n",
            "Epoch 199/500\n",
            "212/212 [==============================] - 0s 466us/sample - loss: 0.3000 - accuracy: 0.8443\n",
            "Epoch 200/500\n",
            "212/212 [==============================] - 0s 467us/sample - loss: 0.3023 - accuracy: 0.8491\n",
            "Epoch 201/500\n",
            "212/212 [==============================] - 0s 499us/sample - loss: 0.3488 - accuracy: 0.8255\n",
            "Epoch 202/500\n",
            "212/212 [==============================] - 0s 484us/sample - loss: 0.3208 - accuracy: 0.8349\n",
            "Epoch 203/500\n",
            "212/212 [==============================] - 0s 447us/sample - loss: 0.3223 - accuracy: 0.8538\n",
            "Epoch 204/500\n",
            "212/212 [==============================] - 0s 475us/sample - loss: 0.3208 - accuracy: 0.8632\n",
            "Epoch 205/500\n",
            "212/212 [==============================] - 0s 517us/sample - loss: 0.3275 - accuracy: 0.8538\n",
            "Epoch 206/500\n",
            "212/212 [==============================] - 0s 411us/sample - loss: 0.2670 - accuracy: 0.8821\n",
            "Epoch 207/500\n",
            "212/212 [==============================] - 0s 458us/sample - loss: 0.3004 - accuracy: 0.8491\n",
            "Epoch 208/500\n",
            "212/212 [==============================] - 0s 460us/sample - loss: 0.2963 - accuracy: 0.8585\n",
            "Epoch 209/500\n",
            "212/212 [==============================] - 0s 434us/sample - loss: 0.2586 - accuracy: 0.8774\n",
            "Epoch 210/500\n",
            "212/212 [==============================] - 0s 429us/sample - loss: 0.3096 - accuracy: 0.8491\n",
            "Epoch 211/500\n",
            "212/212 [==============================] - 0s 448us/sample - loss: 0.2882 - accuracy: 0.8585\n",
            "Epoch 212/500\n",
            "212/212 [==============================] - 0s 402us/sample - loss: 0.2884 - accuracy: 0.8585\n",
            "Epoch 213/500\n",
            "212/212 [==============================] - 0s 483us/sample - loss: 0.2518 - accuracy: 0.8726\n",
            "Epoch 214/500\n",
            "212/212 [==============================] - 0s 478us/sample - loss: 0.3008 - accuracy: 0.8443\n",
            "Epoch 215/500\n",
            "212/212 [==============================] - 0s 439us/sample - loss: 0.2732 - accuracy: 0.8679\n",
            "Epoch 216/500\n",
            "212/212 [==============================] - 0s 459us/sample - loss: 0.2636 - accuracy: 0.8726\n",
            "Epoch 217/500\n",
            "212/212 [==============================] - 0s 414us/sample - loss: 0.2873 - accuracy: 0.8538\n",
            "Epoch 218/500\n",
            "212/212 [==============================] - 0s 445us/sample - loss: 0.3268 - accuracy: 0.8396\n",
            "Epoch 219/500\n",
            "212/212 [==============================] - 0s 436us/sample - loss: 0.2763 - accuracy: 0.8868\n",
            "Epoch 220/500\n",
            "212/212 [==============================] - 0s 433us/sample - loss: 0.2609 - accuracy: 0.8632\n",
            "Epoch 221/500\n",
            "212/212 [==============================] - 0s 432us/sample - loss: 0.2629 - accuracy: 0.8726\n",
            "Epoch 222/500\n",
            "212/212 [==============================] - 0s 481us/sample - loss: 0.2889 - accuracy: 0.8726\n",
            "Epoch 223/500\n",
            "212/212 [==============================] - 0s 459us/sample - loss: 0.2724 - accuracy: 0.8679\n",
            "Epoch 224/500\n",
            "212/212 [==============================] - 0s 401us/sample - loss: 0.2943 - accuracy: 0.8585\n",
            "Epoch 225/500\n",
            "212/212 [==============================] - 0s 467us/sample - loss: 0.2722 - accuracy: 0.8491\n",
            "Epoch 226/500\n",
            "212/212 [==============================] - 0s 460us/sample - loss: 0.2717 - accuracy: 0.8726\n",
            "Epoch 227/500\n",
            "212/212 [==============================] - 0s 522us/sample - loss: 0.2580 - accuracy: 0.8774\n",
            "Epoch 228/500\n",
            "212/212 [==============================] - 0s 419us/sample - loss: 0.2768 - accuracy: 0.8632\n",
            "Epoch 229/500\n",
            "212/212 [==============================] - 0s 401us/sample - loss: 0.2312 - accuracy: 0.8774\n",
            "Epoch 230/500\n",
            "212/212 [==============================] - 0s 458us/sample - loss: 0.2922 - accuracy: 0.8679\n",
            "Epoch 231/500\n",
            "212/212 [==============================] - 0s 503us/sample - loss: 0.3032 - accuracy: 0.8821\n",
            "Epoch 232/500\n",
            "212/212 [==============================] - 0s 438us/sample - loss: 0.3139 - accuracy: 0.8396\n",
            "Epoch 233/500\n",
            "212/212 [==============================] - 0s 438us/sample - loss: 0.2564 - accuracy: 0.8632\n",
            "Epoch 234/500\n",
            "212/212 [==============================] - 0s 448us/sample - loss: 0.2832 - accuracy: 0.8632\n",
            "Epoch 235/500\n",
            "212/212 [==============================] - 0s 408us/sample - loss: 0.2918 - accuracy: 0.8726\n",
            "Epoch 236/500\n",
            "212/212 [==============================] - 0s 421us/sample - loss: 0.2972 - accuracy: 0.8349\n",
            "Epoch 237/500\n",
            "212/212 [==============================] - 0s 417us/sample - loss: 0.2950 - accuracy: 0.8774\n",
            "Epoch 238/500\n",
            "212/212 [==============================] - 0s 454us/sample - loss: 0.2682 - accuracy: 0.8868\n",
            "Epoch 239/500\n",
            "212/212 [==============================] - 0s 481us/sample - loss: 0.2212 - accuracy: 0.8915\n",
            "Epoch 240/500\n",
            "212/212 [==============================] - 0s 433us/sample - loss: 0.2571 - accuracy: 0.8585\n",
            "Epoch 241/500\n",
            "212/212 [==============================] - 0s 441us/sample - loss: 0.2292 - accuracy: 0.8915\n",
            "Epoch 242/500\n",
            "212/212 [==============================] - 0s 417us/sample - loss: 0.2739 - accuracy: 0.8868\n",
            "Epoch 243/500\n",
            "212/212 [==============================] - 0s 411us/sample - loss: 0.3609 - accuracy: 0.8349\n",
            "Epoch 244/500\n",
            "212/212 [==============================] - 0s 440us/sample - loss: 0.2764 - accuracy: 0.8585\n",
            "Epoch 245/500\n",
            "212/212 [==============================] - 0s 480us/sample - loss: 0.2566 - accuracy: 0.8868\n",
            "Epoch 246/500\n",
            "212/212 [==============================] - 0s 448us/sample - loss: 0.3064 - accuracy: 0.8396\n",
            "Epoch 247/500\n",
            "212/212 [==============================] - 0s 429us/sample - loss: 0.2624 - accuracy: 0.8774\n",
            "Epoch 248/500\n",
            "212/212 [==============================] - 0s 456us/sample - loss: 0.2657 - accuracy: 0.8774\n",
            "Epoch 249/500\n",
            "212/212 [==============================] - 0s 468us/sample - loss: 0.2552 - accuracy: 0.8632\n",
            "Epoch 250/500\n",
            "212/212 [==============================] - 0s 478us/sample - loss: 0.2751 - accuracy: 0.8679\n",
            "Epoch 251/500\n",
            "212/212 [==============================] - 0s 451us/sample - loss: 0.2701 - accuracy: 0.8915\n",
            "Epoch 252/500\n",
            "212/212 [==============================] - 0s 513us/sample - loss: 0.2678 - accuracy: 0.8868\n",
            "Epoch 253/500\n",
            "212/212 [==============================] - 0s 534us/sample - loss: 0.2886 - accuracy: 0.8726\n",
            "Epoch 254/500\n",
            "212/212 [==============================] - 0s 432us/sample - loss: 0.2411 - accuracy: 0.9057\n",
            "Epoch 255/500\n",
            "212/212 [==============================] - 0s 433us/sample - loss: 0.2575 - accuracy: 0.8726\n",
            "Epoch 256/500\n",
            "212/212 [==============================] - 0s 475us/sample - loss: 0.2562 - accuracy: 0.8726\n",
            "Epoch 257/500\n",
            "212/212 [==============================] - 0s 536us/sample - loss: 0.2562 - accuracy: 0.8774\n",
            "Epoch 258/500\n",
            "212/212 [==============================] - 0s 420us/sample - loss: 0.2389 - accuracy: 0.8679\n",
            "Epoch 259/500\n",
            "212/212 [==============================] - 0s 443us/sample - loss: 0.2830 - accuracy: 0.8821\n",
            "Epoch 260/500\n",
            "212/212 [==============================] - 0s 399us/sample - loss: 0.2354 - accuracy: 0.8915\n",
            "Epoch 261/500\n",
            "212/212 [==============================] - 0s 440us/sample - loss: 0.3133 - accuracy: 0.8491\n",
            "Epoch 262/500\n",
            "212/212 [==============================] - 0s 453us/sample - loss: 0.2432 - accuracy: 0.8821\n",
            "Epoch 263/500\n",
            "212/212 [==============================] - 0s 475us/sample - loss: 0.2455 - accuracy: 0.8821\n",
            "Epoch 264/500\n",
            "212/212 [==============================] - 0s 436us/sample - loss: 0.2272 - accuracy: 0.8962\n",
            "Epoch 265/500\n",
            "212/212 [==============================] - 0s 520us/sample - loss: 0.2562 - accuracy: 0.8726\n",
            "Epoch 266/500\n",
            "212/212 [==============================] - 0s 496us/sample - loss: 0.2590 - accuracy: 0.8774\n",
            "Epoch 267/500\n",
            "212/212 [==============================] - 0s 557us/sample - loss: 0.2703 - accuracy: 0.8491\n",
            "Epoch 268/500\n",
            "212/212 [==============================] - 0s 485us/sample - loss: 0.2311 - accuracy: 0.9057\n",
            "Epoch 269/500\n",
            "212/212 [==============================] - 0s 482us/sample - loss: 0.2361 - accuracy: 0.8774\n",
            "Epoch 270/500\n",
            "212/212 [==============================] - 0s 444us/sample - loss: 0.2600 - accuracy: 0.8538\n",
            "Epoch 271/500\n",
            "212/212 [==============================] - 0s 445us/sample - loss: 0.2407 - accuracy: 0.8915\n",
            "Epoch 272/500\n",
            "212/212 [==============================] - 0s 428us/sample - loss: 0.2410 - accuracy: 0.8962\n",
            "Epoch 273/500\n",
            "212/212 [==============================] - 0s 436us/sample - loss: 0.2873 - accuracy: 0.8443\n",
            "Epoch 274/500\n",
            "212/212 [==============================] - 0s 552us/sample - loss: 0.3219 - accuracy: 0.8538\n",
            "Epoch 275/500\n",
            "212/212 [==============================] - 0s 412us/sample - loss: 0.2787 - accuracy: 0.8538\n",
            "Epoch 276/500\n",
            "212/212 [==============================] - 0s 428us/sample - loss: 0.2778 - accuracy: 0.8726\n",
            "Epoch 277/500\n",
            "212/212 [==============================] - 0s 438us/sample - loss: 0.3282 - accuracy: 0.8066\n",
            "Epoch 278/500\n",
            "212/212 [==============================] - 0s 447us/sample - loss: 0.3069 - accuracy: 0.8443\n",
            "Epoch 279/500\n",
            "212/212 [==============================] - 0s 562us/sample - loss: 0.2926 - accuracy: 0.8632\n",
            "Epoch 280/500\n",
            "212/212 [==============================] - 0s 450us/sample - loss: 0.2917 - accuracy: 0.8774\n",
            "Epoch 281/500\n",
            "212/212 [==============================] - 0s 473us/sample - loss: 0.3149 - accuracy: 0.8302\n",
            "Epoch 282/500\n",
            "212/212 [==============================] - 0s 579us/sample - loss: 0.2714 - accuracy: 0.8868\n",
            "Epoch 283/500\n",
            "212/212 [==============================] - 0s 551us/sample - loss: 0.2450 - accuracy: 0.8774\n",
            "Epoch 284/500\n",
            "212/212 [==============================] - 0s 433us/sample - loss: 0.2438 - accuracy: 0.8821\n",
            "Epoch 285/500\n",
            "212/212 [==============================] - 0s 473us/sample - loss: 0.2838 - accuracy: 0.8632\n",
            "Epoch 286/500\n",
            "212/212 [==============================] - 0s 440us/sample - loss: 0.2482 - accuracy: 0.8821\n",
            "Epoch 287/500\n",
            "212/212 [==============================] - 0s 443us/sample - loss: 0.2306 - accuracy: 0.8962\n",
            "Epoch 288/500\n",
            "212/212 [==============================] - 0s 425us/sample - loss: 0.2365 - accuracy: 0.8821\n",
            "Epoch 289/500\n",
            "212/212 [==============================] - 0s 429us/sample - loss: 0.3148 - accuracy: 0.8679\n",
            "Epoch 290/500\n",
            "212/212 [==============================] - 0s 417us/sample - loss: 0.2281 - accuracy: 0.8774\n",
            "Epoch 291/500\n",
            "212/212 [==============================] - 0s 467us/sample - loss: 0.2342 - accuracy: 0.8915\n",
            "Epoch 292/500\n",
            "212/212 [==============================] - 0s 424us/sample - loss: 0.2165 - accuracy: 0.8915\n",
            "Epoch 293/500\n",
            "212/212 [==============================] - 0s 449us/sample - loss: 0.2277 - accuracy: 0.9057\n",
            "Epoch 294/500\n",
            "212/212 [==============================] - 0s 481us/sample - loss: 0.2791 - accuracy: 0.8632\n",
            "Epoch 295/500\n",
            "212/212 [==============================] - 0s 504us/sample - loss: 0.2186 - accuracy: 0.9057\n",
            "Epoch 296/500\n",
            "212/212 [==============================] - 0s 414us/sample - loss: 0.2624 - accuracy: 0.8774\n",
            "Epoch 297/500\n",
            "212/212 [==============================] - 0s 515us/sample - loss: 0.2238 - accuracy: 0.8915\n",
            "Epoch 298/500\n",
            "212/212 [==============================] - 0s 525us/sample - loss: 0.2036 - accuracy: 0.9104\n",
            "Epoch 299/500\n",
            "212/212 [==============================] - 0s 409us/sample - loss: 0.2345 - accuracy: 0.8774\n",
            "Epoch 300/500\n",
            "212/212 [==============================] - 0s 422us/sample - loss: 0.2524 - accuracy: 0.8915\n",
            "Epoch 301/500\n",
            "212/212 [==============================] - 0s 430us/sample - loss: 0.2803 - accuracy: 0.8208\n",
            "Epoch 302/500\n",
            "212/212 [==============================] - 0s 425us/sample - loss: 0.2397 - accuracy: 0.8915\n",
            "Epoch 303/500\n",
            "212/212 [==============================] - 0s 446us/sample - loss: 0.2307 - accuracy: 0.9009\n",
            "Epoch 304/500\n",
            "212/212 [==============================] - 0s 420us/sample - loss: 0.2395 - accuracy: 0.8821\n",
            "Epoch 305/500\n",
            "212/212 [==============================] - 0s 463us/sample - loss: 0.2698 - accuracy: 0.8774\n",
            "Epoch 306/500\n",
            "212/212 [==============================] - 0s 450us/sample - loss: 0.3003 - accuracy: 0.8726\n",
            "Epoch 307/500\n",
            "212/212 [==============================] - 0s 492us/sample - loss: 0.3029 - accuracy: 0.8585\n",
            "Epoch 308/500\n",
            "212/212 [==============================] - 0s 471us/sample - loss: 0.2458 - accuracy: 0.8726\n",
            "Epoch 309/500\n",
            "212/212 [==============================] - 0s 446us/sample - loss: 0.2479 - accuracy: 0.8868\n",
            "Epoch 310/500\n",
            "212/212 [==============================] - 0s 478us/sample - loss: 0.2652 - accuracy: 0.8726\n",
            "Epoch 311/500\n",
            "212/212 [==============================] - 0s 471us/sample - loss: 0.2308 - accuracy: 0.8821\n",
            "Epoch 312/500\n",
            "212/212 [==============================] - 0s 494us/sample - loss: 0.2277 - accuracy: 0.8821\n",
            "Epoch 313/500\n",
            "212/212 [==============================] - 0s 467us/sample - loss: 0.2368 - accuracy: 0.8774\n",
            "Epoch 314/500\n",
            "212/212 [==============================] - 0s 503us/sample - loss: 0.2084 - accuracy: 0.8915\n",
            "Epoch 315/500\n",
            "212/212 [==============================] - 0s 471us/sample - loss: 0.2602 - accuracy: 0.8491\n",
            "Epoch 316/500\n",
            "212/212 [==============================] - 0s 475us/sample - loss: 0.2350 - accuracy: 0.9104\n",
            "Epoch 317/500\n",
            "212/212 [==============================] - 0s 446us/sample - loss: 0.2512 - accuracy: 0.9009\n",
            "Epoch 318/500\n",
            "212/212 [==============================] - 0s 482us/sample - loss: 0.2116 - accuracy: 0.8915\n",
            "Epoch 319/500\n",
            "212/212 [==============================] - 0s 428us/sample - loss: 0.2304 - accuracy: 0.8821\n",
            "Epoch 320/500\n",
            "212/212 [==============================] - 0s 431us/sample - loss: 0.2182 - accuracy: 0.8868\n",
            "Epoch 321/500\n",
            "212/212 [==============================] - 0s 455us/sample - loss: 0.2744 - accuracy: 0.8585\n",
            "Epoch 322/500\n",
            "212/212 [==============================] - 0s 468us/sample - loss: 0.2455 - accuracy: 0.8679\n",
            "Epoch 323/500\n",
            "212/212 [==============================] - 0s 456us/sample - loss: 0.2255 - accuracy: 0.9009\n",
            "Epoch 324/500\n",
            "212/212 [==============================] - 0s 503us/sample - loss: 0.2284 - accuracy: 0.8915\n",
            "Epoch 325/500\n",
            "212/212 [==============================] - 0s 424us/sample - loss: 0.2256 - accuracy: 0.8915\n",
            "Epoch 326/500\n",
            "212/212 [==============================] - 0s 455us/sample - loss: 0.2611 - accuracy: 0.8726\n",
            "Epoch 327/500\n",
            "212/212 [==============================] - 0s 470us/sample - loss: 0.2199 - accuracy: 0.8915\n",
            "Epoch 328/500\n",
            "212/212 [==============================] - 0s 450us/sample - loss: 0.2090 - accuracy: 0.8821\n",
            "Epoch 329/500\n",
            "212/212 [==============================] - 0s 444us/sample - loss: 0.2481 - accuracy: 0.8679\n",
            "Epoch 330/500\n",
            "212/212 [==============================] - 0s 447us/sample - loss: 0.2619 - accuracy: 0.8632\n",
            "Epoch 331/500\n",
            "212/212 [==============================] - 0s 494us/sample - loss: 0.2184 - accuracy: 0.9009\n",
            "Epoch 332/500\n",
            "212/212 [==============================] - 0s 435us/sample - loss: 0.2336 - accuracy: 0.8868\n",
            "Epoch 333/500\n",
            "212/212 [==============================] - 0s 441us/sample - loss: 0.2303 - accuracy: 0.8868\n",
            "Epoch 334/500\n",
            "212/212 [==============================] - 0s 465us/sample - loss: 0.2225 - accuracy: 0.8726\n",
            "Epoch 335/500\n",
            "212/212 [==============================] - 0s 443us/sample - loss: 0.2116 - accuracy: 0.8868\n",
            "Epoch 336/500\n",
            "212/212 [==============================] - 0s 446us/sample - loss: 0.2856 - accuracy: 0.8821\n",
            "Epoch 337/500\n",
            "212/212 [==============================] - 0s 428us/sample - loss: 0.3103 - accuracy: 0.8538\n",
            "Epoch 338/500\n",
            "212/212 [==============================] - 0s 443us/sample - loss: 0.2869 - accuracy: 0.8632\n",
            "Epoch 339/500\n",
            "212/212 [==============================] - 0s 418us/sample - loss: 0.2155 - accuracy: 0.8915\n",
            "Epoch 340/500\n",
            "212/212 [==============================] - 0s 468us/sample - loss: 0.2235 - accuracy: 0.8915\n",
            "Epoch 341/500\n",
            "212/212 [==============================] - 0s 430us/sample - loss: 0.3294 - accuracy: 0.8491\n",
            "Epoch 342/500\n",
            "212/212 [==============================] - 0s 454us/sample - loss: 0.2414 - accuracy: 0.8868\n",
            "Epoch 343/500\n",
            "212/212 [==============================] - 0s 414us/sample - loss: 0.2615 - accuracy: 0.8632\n",
            "Epoch 344/500\n",
            "212/212 [==============================] - 0s 485us/sample - loss: 0.2527 - accuracy: 0.8821\n",
            "Epoch 345/500\n",
            "212/212 [==============================] - 0s 430us/sample - loss: 0.2860 - accuracy: 0.8726\n",
            "Epoch 346/500\n",
            "212/212 [==============================] - 0s 444us/sample - loss: 0.2386 - accuracy: 0.8962\n",
            "Epoch 347/500\n",
            "212/212 [==============================] - 0s 421us/sample - loss: 0.2499 - accuracy: 0.8868\n",
            "Epoch 348/500\n",
            "212/212 [==============================] - 0s 437us/sample - loss: 0.2910 - accuracy: 0.8443\n",
            "Epoch 349/500\n",
            "212/212 [==============================] - 0s 477us/sample - loss: 0.2980 - accuracy: 0.8726\n",
            "Epoch 350/500\n",
            "212/212 [==============================] - 0s 396us/sample - loss: 0.2297 - accuracy: 0.8821\n",
            "Epoch 351/500\n",
            "212/212 [==============================] - 0s 435us/sample - loss: 0.2259 - accuracy: 0.8962\n",
            "Epoch 352/500\n",
            "212/212 [==============================] - 0s 450us/sample - loss: 0.2493 - accuracy: 0.8915\n",
            "Epoch 353/500\n",
            "212/212 [==============================] - 0s 438us/sample - loss: 0.2883 - accuracy: 0.8679\n",
            "Epoch 354/500\n",
            "212/212 [==============================] - 0s 418us/sample - loss: 0.2481 - accuracy: 0.8962\n",
            "Epoch 355/500\n",
            "212/212 [==============================] - 0s 454us/sample - loss: 0.2610 - accuracy: 0.8868\n",
            "Epoch 356/500\n",
            "212/212 [==============================] - 0s 430us/sample - loss: 0.3007 - accuracy: 0.8726\n",
            "Epoch 357/500\n",
            "212/212 [==============================] - 0s 497us/sample - loss: 0.2326 - accuracy: 0.8915\n",
            "Epoch 358/500\n",
            "212/212 [==============================] - 0s 468us/sample - loss: 0.2600 - accuracy: 0.8774\n",
            "Epoch 359/500\n",
            "212/212 [==============================] - 0s 409us/sample - loss: 0.2554 - accuracy: 0.8868\n",
            "Epoch 360/500\n",
            "212/212 [==============================] - 0s 454us/sample - loss: 0.2202 - accuracy: 0.8868\n",
            "Epoch 361/500\n",
            "212/212 [==============================] - 0s 462us/sample - loss: 0.2410 - accuracy: 0.8774\n",
            "Epoch 362/500\n",
            "212/212 [==============================] - 0s 410us/sample - loss: 0.2390 - accuracy: 0.8915\n",
            "Epoch 363/500\n",
            "212/212 [==============================] - 0s 455us/sample - loss: 0.1986 - accuracy: 0.9151\n",
            "Epoch 364/500\n",
            "212/212 [==============================] - 0s 423us/sample - loss: 0.2087 - accuracy: 0.9009\n",
            "Epoch 365/500\n",
            "212/212 [==============================] - 0s 482us/sample - loss: 0.1953 - accuracy: 0.9198\n",
            "Epoch 366/500\n",
            "212/212 [==============================] - 0s 449us/sample - loss: 0.2280 - accuracy: 0.8915\n",
            "Epoch 367/500\n",
            "212/212 [==============================] - 0s 537us/sample - loss: 0.2109 - accuracy: 0.8962\n",
            "Epoch 368/500\n",
            "212/212 [==============================] - 0s 481us/sample - loss: 0.2021 - accuracy: 0.9057\n",
            "Epoch 369/500\n",
            "212/212 [==============================] - 0s 391us/sample - loss: 0.2848 - accuracy: 0.8774\n",
            "Epoch 370/500\n",
            "212/212 [==============================] - 0s 434us/sample - loss: 0.2660 - accuracy: 0.8774\n",
            "Epoch 371/500\n",
            "212/212 [==============================] - 0s 438us/sample - loss: 0.2558 - accuracy: 0.8679\n",
            "Epoch 372/500\n",
            "212/212 [==============================] - 0s 447us/sample - loss: 0.2719 - accuracy: 0.8726\n",
            "Epoch 373/500\n",
            "212/212 [==============================] - 0s 485us/sample - loss: 0.2261 - accuracy: 0.9198\n",
            "Epoch 374/500\n",
            "212/212 [==============================] - 0s 429us/sample - loss: 0.2321 - accuracy: 0.8821\n",
            "Epoch 375/500\n",
            "212/212 [==============================] - 0s 439us/sample - loss: 0.2529 - accuracy: 0.8915\n",
            "Epoch 376/500\n",
            "212/212 [==============================] - 0s 468us/sample - loss: 0.2789 - accuracy: 0.8443\n",
            "Epoch 377/500\n",
            "212/212 [==============================] - 0s 484us/sample - loss: 0.2724 - accuracy: 0.8679\n",
            "Epoch 378/500\n",
            "212/212 [==============================] - 0s 431us/sample - loss: 0.2173 - accuracy: 0.9104\n",
            "Epoch 379/500\n",
            "212/212 [==============================] - 0s 437us/sample - loss: 0.2430 - accuracy: 0.8868\n",
            "Epoch 380/500\n",
            "212/212 [==============================] - 0s 461us/sample - loss: 0.2783 - accuracy: 0.8679\n",
            "Epoch 381/500\n",
            "212/212 [==============================] - 0s 471us/sample - loss: 0.2349 - accuracy: 0.8821\n",
            "Epoch 382/500\n",
            "212/212 [==============================] - 0s 427us/sample - loss: 0.2237 - accuracy: 0.8962\n",
            "Epoch 383/500\n",
            "212/212 [==============================] - 0s 423us/sample - loss: 0.1831 - accuracy: 0.9245\n",
            "Epoch 384/500\n",
            "212/212 [==============================] - 0s 438us/sample - loss: 0.2393 - accuracy: 0.8868\n",
            "Epoch 385/500\n",
            "212/212 [==============================] - 0s 510us/sample - loss: 0.2023 - accuracy: 0.8962\n",
            "Epoch 386/500\n",
            "212/212 [==============================] - 0s 482us/sample - loss: 0.2356 - accuracy: 0.9009\n",
            "Epoch 387/500\n",
            "212/212 [==============================] - 0s 593us/sample - loss: 0.2065 - accuracy: 0.9104\n",
            "Epoch 388/500\n",
            "212/212 [==============================] - 0s 548us/sample - loss: 0.2145 - accuracy: 0.9057\n",
            "Epoch 389/500\n",
            "212/212 [==============================] - 0s 483us/sample - loss: 0.2814 - accuracy: 0.8726\n",
            "Epoch 390/500\n",
            "212/212 [==============================] - 0s 494us/sample - loss: 0.3403 - accuracy: 0.8349\n",
            "Epoch 391/500\n",
            "212/212 [==============================] - 0s 460us/sample - loss: 0.2594 - accuracy: 0.8632\n",
            "Epoch 392/500\n",
            "212/212 [==============================] - 0s 494us/sample - loss: 0.2319 - accuracy: 0.8868\n",
            "Epoch 393/500\n",
            "212/212 [==============================] - 0s 553us/sample - loss: 0.2696 - accuracy: 0.8726\n",
            "Epoch 394/500\n",
            "212/212 [==============================] - 0s 417us/sample - loss: 0.2207 - accuracy: 0.9104\n",
            "Epoch 395/500\n",
            "212/212 [==============================] - 0s 484us/sample - loss: 0.2190 - accuracy: 0.9245\n",
            "Epoch 396/500\n",
            "212/212 [==============================] - 0s 471us/sample - loss: 0.2423 - accuracy: 0.8962\n",
            "Epoch 397/500\n",
            "212/212 [==============================] - 0s 436us/sample - loss: 0.2677 - accuracy: 0.8821\n",
            "Epoch 398/500\n",
            "212/212 [==============================] - 0s 491us/sample - loss: 0.2759 - accuracy: 0.8821\n",
            "Epoch 399/500\n",
            "212/212 [==============================] - 0s 456us/sample - loss: 0.2475 - accuracy: 0.8868\n",
            "Epoch 400/500\n",
            "212/212 [==============================] - 0s 486us/sample - loss: 0.2279 - accuracy: 0.8962\n",
            "Epoch 401/500\n",
            "212/212 [==============================] - 0s 419us/sample - loss: 0.3033 - accuracy: 0.8821\n",
            "Epoch 402/500\n",
            "212/212 [==============================] - 0s 587us/sample - loss: 0.2498 - accuracy: 0.8962\n",
            "Epoch 403/500\n",
            "212/212 [==============================] - 0s 443us/sample - loss: 0.2355 - accuracy: 0.8868\n",
            "Epoch 404/500\n",
            "212/212 [==============================] - 0s 490us/sample - loss: 0.2234 - accuracy: 0.9009\n",
            "Epoch 405/500\n",
            "212/212 [==============================] - 0s 450us/sample - loss: 0.2046 - accuracy: 0.9104\n",
            "Epoch 406/500\n",
            "212/212 [==============================] - 0s 469us/sample - loss: 0.2272 - accuracy: 0.9198\n",
            "Epoch 407/500\n",
            "212/212 [==============================] - 0s 466us/sample - loss: 0.2228 - accuracy: 0.9151\n",
            "Epoch 408/500\n",
            "212/212 [==============================] - 0s 488us/sample - loss: 0.2106 - accuracy: 0.9104\n",
            "Epoch 409/500\n",
            "212/212 [==============================] - 0s 507us/sample - loss: 0.2081 - accuracy: 0.9151\n",
            "Epoch 410/500\n",
            "212/212 [==============================] - 0s 449us/sample - loss: 0.2237 - accuracy: 0.9151\n",
            "Epoch 411/500\n",
            "212/212 [==============================] - 0s 460us/sample - loss: 0.1908 - accuracy: 0.9104\n",
            "Epoch 412/500\n",
            "212/212 [==============================] - 0s 437us/sample - loss: 0.1952 - accuracy: 0.9245\n",
            "Epoch 413/500\n",
            "212/212 [==============================] - 0s 441us/sample - loss: 0.2188 - accuracy: 0.9009\n",
            "Epoch 414/500\n",
            "212/212 [==============================] - 0s 423us/sample - loss: 0.2142 - accuracy: 0.9057\n",
            "Epoch 415/500\n",
            "212/212 [==============================] - 0s 490us/sample - loss: 0.2259 - accuracy: 0.8868\n",
            "Epoch 416/500\n",
            "212/212 [==============================] - 0s 447us/sample - loss: 0.2538 - accuracy: 0.8821\n",
            "Epoch 417/500\n",
            "212/212 [==============================] - 0s 462us/sample - loss: 0.2572 - accuracy: 0.8774\n",
            "Epoch 418/500\n",
            "212/212 [==============================] - 0s 473us/sample - loss: 0.1896 - accuracy: 0.9198\n",
            "Epoch 419/500\n",
            "212/212 [==============================] - 0s 441us/sample - loss: 0.2590 - accuracy: 0.8726\n",
            "Epoch 420/500\n",
            "212/212 [==============================] - 0s 459us/sample - loss: 0.2608 - accuracy: 0.8821\n",
            "Epoch 421/500\n",
            "212/212 [==============================] - 0s 455us/sample - loss: 0.2089 - accuracy: 0.9104\n",
            "Epoch 422/500\n",
            "212/212 [==============================] - 0s 503us/sample - loss: 0.2129 - accuracy: 0.8962\n",
            "Epoch 423/500\n",
            "212/212 [==============================] - 0s 482us/sample - loss: 0.2096 - accuracy: 0.9245\n",
            "Epoch 424/500\n",
            "212/212 [==============================] - 0s 485us/sample - loss: 0.1963 - accuracy: 0.9009\n",
            "Epoch 425/500\n",
            "212/212 [==============================] - 0s 439us/sample - loss: 0.2430 - accuracy: 0.8868\n",
            "Epoch 426/500\n",
            "212/212 [==============================] - 0s 488us/sample - loss: 0.2679 - accuracy: 0.8774\n",
            "Epoch 427/500\n",
            "212/212 [==============================] - 0s 482us/sample - loss: 0.2157 - accuracy: 0.8962\n",
            "Epoch 428/500\n",
            "212/212 [==============================] - 0s 445us/sample - loss: 0.2216 - accuracy: 0.9104\n",
            "Epoch 429/500\n",
            "212/212 [==============================] - 0s 525us/sample - loss: 0.2488 - accuracy: 0.8868\n",
            "Epoch 430/500\n",
            "212/212 [==============================] - 0s 474us/sample - loss: 0.2705 - accuracy: 0.8679\n",
            "Epoch 431/500\n",
            "212/212 [==============================] - 0s 454us/sample - loss: 0.2201 - accuracy: 0.8821\n",
            "Epoch 432/500\n",
            "212/212 [==============================] - 0s 478us/sample - loss: 0.2252 - accuracy: 0.9009\n",
            "Epoch 433/500\n",
            "212/212 [==============================] - 0s 450us/sample - loss: 0.3062 - accuracy: 0.8491\n",
            "Epoch 434/500\n",
            "212/212 [==============================] - 0s 458us/sample - loss: 0.2337 - accuracy: 0.8915\n",
            "Epoch 435/500\n",
            "212/212 [==============================] - 0s 442us/sample - loss: 0.2095 - accuracy: 0.9009\n",
            "Epoch 436/500\n",
            "212/212 [==============================] - 0s 494us/sample - loss: 0.2195 - accuracy: 0.9245\n",
            "Epoch 437/500\n",
            "212/212 [==============================] - 0s 433us/sample - loss: 0.2862 - accuracy: 0.8632\n",
            "Epoch 438/500\n",
            "212/212 [==============================] - 0s 445us/sample - loss: 0.2607 - accuracy: 0.8632\n",
            "Epoch 439/500\n",
            "212/212 [==============================] - 0s 430us/sample - loss: 0.2702 - accuracy: 0.8726\n",
            "Epoch 440/500\n",
            "212/212 [==============================] - 0s 427us/sample - loss: 0.2566 - accuracy: 0.8868\n",
            "Epoch 441/500\n",
            "212/212 [==============================] - 0s 439us/sample - loss: 0.2373 - accuracy: 0.8962\n",
            "Epoch 442/500\n",
            "212/212 [==============================] - 0s 444us/sample - loss: 0.2718 - accuracy: 0.8774\n",
            "Epoch 443/500\n",
            "212/212 [==============================] - 0s 461us/sample - loss: 0.2247 - accuracy: 0.9009\n",
            "Epoch 444/500\n",
            "212/212 [==============================] - 0s 492us/sample - loss: 0.2109 - accuracy: 0.9104\n",
            "Epoch 445/500\n",
            "212/212 [==============================] - 0s 477us/sample - loss: 0.2120 - accuracy: 0.8962\n",
            "Epoch 446/500\n",
            "212/212 [==============================] - 0s 442us/sample - loss: 0.2223 - accuracy: 0.9009\n",
            "Epoch 447/500\n",
            "212/212 [==============================] - 0s 430us/sample - loss: 0.1773 - accuracy: 0.9104\n",
            "Epoch 448/500\n",
            "212/212 [==============================] - 0s 489us/sample - loss: 0.1813 - accuracy: 0.9292\n",
            "Epoch 449/500\n",
            "212/212 [==============================] - 0s 582us/sample - loss: 0.1682 - accuracy: 0.9245\n",
            "Epoch 450/500\n",
            "212/212 [==============================] - 0s 511us/sample - loss: 0.1871 - accuracy: 0.9245\n",
            "Epoch 451/500\n",
            "212/212 [==============================] - 0s 481us/sample - loss: 0.2072 - accuracy: 0.9057\n",
            "Epoch 452/500\n",
            "212/212 [==============================] - 0s 462us/sample - loss: 0.2252 - accuracy: 0.9151\n",
            "Epoch 453/500\n",
            "212/212 [==============================] - 0s 431us/sample - loss: 0.1946 - accuracy: 0.9104\n",
            "Epoch 454/500\n",
            "212/212 [==============================] - 0s 457us/sample - loss: 0.2511 - accuracy: 0.8632\n",
            "Epoch 455/500\n",
            "212/212 [==============================] - 0s 449us/sample - loss: 0.1804 - accuracy: 0.9104\n",
            "Epoch 456/500\n",
            "212/212 [==============================] - 0s 472us/sample - loss: 0.2464 - accuracy: 0.8915\n",
            "Epoch 457/500\n",
            "212/212 [==============================] - 0s 511us/sample - loss: 0.2101 - accuracy: 0.8962\n",
            "Epoch 458/500\n",
            "212/212 [==============================] - 0s 498us/sample - loss: 0.1542 - accuracy: 0.9198\n",
            "Epoch 459/500\n",
            "212/212 [==============================] - 0s 529us/sample - loss: 0.2184 - accuracy: 0.9009\n",
            "Epoch 460/500\n",
            "212/212 [==============================] - 0s 506us/sample - loss: 0.2178 - accuracy: 0.8962\n",
            "Epoch 461/500\n",
            "212/212 [==============================] - 0s 514us/sample - loss: 0.2036 - accuracy: 0.9057\n",
            "Epoch 462/500\n",
            "212/212 [==============================] - 0s 469us/sample - loss: 0.2455 - accuracy: 0.9057\n",
            "Epoch 463/500\n",
            "212/212 [==============================] - 0s 456us/sample - loss: 0.2569 - accuracy: 0.8962\n",
            "Epoch 464/500\n",
            "212/212 [==============================] - 0s 523us/sample - loss: 0.2313 - accuracy: 0.8962\n",
            "Epoch 465/500\n",
            "212/212 [==============================] - 0s 473us/sample - loss: 0.2562 - accuracy: 0.9009\n",
            "Epoch 466/500\n",
            "212/212 [==============================] - 0s 413us/sample - loss: 0.2122 - accuracy: 0.9245\n",
            "Epoch 467/500\n",
            "212/212 [==============================] - 0s 461us/sample - loss: 0.2545 - accuracy: 0.9104\n",
            "Epoch 468/500\n",
            "212/212 [==============================] - 0s 447us/sample - loss: 0.2204 - accuracy: 0.9245\n",
            "Epoch 469/500\n",
            "212/212 [==============================] - 0s 472us/sample - loss: 0.2605 - accuracy: 0.8868\n",
            "Epoch 470/500\n",
            "212/212 [==============================] - 0s 477us/sample - loss: 0.2181 - accuracy: 0.9198\n",
            "Epoch 471/500\n",
            "212/212 [==============================] - 0s 463us/sample - loss: 0.2266 - accuracy: 0.8962\n",
            "Epoch 472/500\n",
            "212/212 [==============================] - 0s 515us/sample - loss: 0.1946 - accuracy: 0.9340\n",
            "Epoch 473/500\n",
            "212/212 [==============================] - 0s 474us/sample - loss: 0.2223 - accuracy: 0.9104\n",
            "Epoch 474/500\n",
            "212/212 [==============================] - 0s 460us/sample - loss: 0.1835 - accuracy: 0.9245\n",
            "Epoch 475/500\n",
            "212/212 [==============================] - 0s 441us/sample - loss: 0.1737 - accuracy: 0.9151\n",
            "Epoch 476/500\n",
            "212/212 [==============================] - 0s 557us/sample - loss: 0.2057 - accuracy: 0.9292\n",
            "Epoch 477/500\n",
            "212/212 [==============================] - 0s 469us/sample - loss: 0.1976 - accuracy: 0.9292\n",
            "Epoch 478/500\n",
            "212/212 [==============================] - 0s 451us/sample - loss: 0.2243 - accuracy: 0.8962\n",
            "Epoch 479/500\n",
            "212/212 [==============================] - 0s 486us/sample - loss: 0.1731 - accuracy: 0.9481\n",
            "Epoch 480/500\n",
            "212/212 [==============================] - 0s 531us/sample - loss: 0.1763 - accuracy: 0.9245\n",
            "Epoch 481/500\n",
            "212/212 [==============================] - 0s 463us/sample - loss: 0.1693 - accuracy: 0.9151\n",
            "Epoch 482/500\n",
            "212/212 [==============================] - 0s 475us/sample - loss: 0.1889 - accuracy: 0.9245\n",
            "Epoch 483/500\n",
            "212/212 [==============================] - 0s 482us/sample - loss: 0.2110 - accuracy: 0.9198\n",
            "Epoch 484/500\n",
            "212/212 [==============================] - 0s 439us/sample - loss: 0.2681 - accuracy: 0.8774\n",
            "Epoch 485/500\n",
            "212/212 [==============================] - 0s 677us/sample - loss: 0.2765 - accuracy: 0.8538\n",
            "Epoch 486/500\n",
            "212/212 [==============================] - 0s 461us/sample - loss: 0.2627 - accuracy: 0.8962\n",
            "Epoch 487/500\n",
            "212/212 [==============================] - 0s 443us/sample - loss: 0.2449 - accuracy: 0.8774\n",
            "Epoch 488/500\n",
            "212/212 [==============================] - 0s 501us/sample - loss: 0.2563 - accuracy: 0.8726\n",
            "Epoch 489/500\n",
            "212/212 [==============================] - 0s 424us/sample - loss: 0.2279 - accuracy: 0.8821\n",
            "Epoch 490/500\n",
            "212/212 [==============================] - 0s 451us/sample - loss: 0.2592 - accuracy: 0.8915\n",
            "Epoch 491/500\n",
            "212/212 [==============================] - 0s 416us/sample - loss: 0.2290 - accuracy: 0.8868\n",
            "Epoch 492/500\n",
            "212/212 [==============================] - 0s 448us/sample - loss: 0.2297 - accuracy: 0.8868\n",
            "Epoch 493/500\n",
            "212/212 [==============================] - 0s 462us/sample - loss: 0.2699 - accuracy: 0.8726\n",
            "Epoch 494/500\n",
            "212/212 [==============================] - 0s 461us/sample - loss: 0.2366 - accuracy: 0.8774\n",
            "Epoch 495/500\n",
            "212/212 [==============================] - 0s 471us/sample - loss: 0.1910 - accuracy: 0.9104\n",
            "Epoch 496/500\n",
            "212/212 [==============================] - 0s 431us/sample - loss: 0.2327 - accuracy: 0.8915\n",
            "Epoch 497/500\n",
            "212/212 [==============================] - 0s 506us/sample - loss: 0.2322 - accuracy: 0.9009\n",
            "Epoch 498/500\n",
            "212/212 [==============================] - 0s 460us/sample - loss: 0.2344 - accuracy: 0.8915\n",
            "Epoch 499/500\n",
            "212/212 [==============================] - 0s 469us/sample - loss: 0.2734 - accuracy: 0.8396\n",
            "Epoch 500/500\n",
            "212/212 [==============================] - 0s 478us/sample - loss: 0.2649 - accuracy: 0.8774\n"
          ],
          "name": "stdout"
        }
      ]
    },
    {
      "cell_type": "markdown",
      "metadata": {
        "id": "yhN6T1OOzT_x",
        "colab_type": "text"
      },
      "source": [
        "**Avaliação do modelo quanto ao treinamento:**"
      ]
    },
    {
      "cell_type": "code",
      "metadata": {
        "id": "h5a0E_Yazb4i",
        "colab_type": "code",
        "colab": {}
      },
      "source": [
        "from sklearn.metrics import classification_report, confusion_matrix"
      ],
      "execution_count": 0,
      "outputs": []
    },
    {
      "cell_type": "code",
      "metadata": {
        "id": "We7nHCSWzjRX",
        "colab_type": "code",
        "outputId": "0ee89db6-616a-4051-d003-662a8bdc64ea",
        "colab": {
          "base_uri": "https://localhost:8080/",
          "height": 187
        }
      },
      "source": [
        "mlp_pred_train = classifier.predict(x_train)\n",
        "mlp_pred_train[0:10]"
      ],
      "execution_count": 0,
      "outputs": [
        {
          "output_type": "execute_result",
          "data": {
            "text/plain": [
              "array([[0.99989843],\n",
              "       [0.99999464],\n",
              "       [0.990249  ],\n",
              "       [0.6955761 ],\n",
              "       [0.99974805],\n",
              "       [0.82379013],\n",
              "       [0.72313744],\n",
              "       [0.9956447 ],\n",
              "       [0.00269042],\n",
              "       [0.59161335]], dtype=float32)"
            ]
          },
          "metadata": {
            "tags": []
          },
          "execution_count": 241
        }
      ]
    },
    {
      "cell_type": "markdown",
      "metadata": {
        "id": "IZC6pc4vzl_P",
        "colab_type": "text"
      },
      "source": [
        "Aqui temos os valores oferecidos pela nossa rede neural. Que não valem nada para nós da maneira que se encontram. Portanto, eu farei uma transformação simples. Se o valor for maior que 0.5 o modelo dará que a pessoa tem a doença caso contrário ela não terá."
      ]
    },
    {
      "cell_type": "code",
      "metadata": {
        "id": "IZnAyMLuz57r",
        "colab_type": "code",
        "outputId": "c59a12a8-55da-4564-ab21-f2309938381a",
        "colab": {
          "base_uri": "https://localhost:8080/",
          "height": 187
        }
      },
      "source": [
        "mlp_pred_train = (mlp_pred_train > 0.5)\n",
        "mlp_pred_train[0:10]"
      ],
      "execution_count": 0,
      "outputs": [
        {
          "output_type": "execute_result",
          "data": {
            "text/plain": [
              "array([[ True],\n",
              "       [ True],\n",
              "       [ True],\n",
              "       [ True],\n",
              "       [ True],\n",
              "       [ True],\n",
              "       [ True],\n",
              "       [ True],\n",
              "       [False],\n",
              "       [ True]])"
            ]
          },
          "metadata": {
            "tags": []
          },
          "execution_count": 242
        }
      ]
    },
    {
      "cell_type": "markdown",
      "metadata": {
        "id": "KZVcvvCa0LaG",
        "colab_type": "text"
      },
      "source": [
        "Agora iremos comparar o valor preditivo com o real."
      ]
    },
    {
      "cell_type": "code",
      "metadata": {
        "id": "XuG9xvAr0TPO",
        "colab_type": "code",
        "outputId": "2ca657f4-a35f-4d0d-a105-21e994a463f4",
        "colab": {
          "base_uri": "https://localhost:8080/",
          "height": 265
        }
      },
      "source": [
        "cm = confusion_matrix(y_train, mlp_pred_train)\n",
        "sns.heatmap(cm, annot=True);"
      ],
      "execution_count": 0,
      "outputs": [
        {
          "output_type": "display_data",
          "data": {
            "image/png": "[encoded data removed]",
            "text/plain": [
              "<Figure size 432x288 with 2 Axes>"
            ]
          },
          "metadata": {
            "tags": []
          }
        }
      ]
    },
    {
      "cell_type": "markdown",
      "metadata": {
        "id": "ox1SWJ--0onj",
        "colab_type": "text"
      },
      "source": [
        "Explicando a matriz 2x2:\n",
        "\n",
        "*   Canto superior esquerdo: Verdadeiro Positivo(A pessoa tem doença)\n",
        "*   Canto superior direito: Falso Positivo(A Pessoa não tem doença, mas o modelo diz que tem)\n",
        "*   Canto inferior esquerdo: Falso Negatico(A pessoa tem a doença,mas o modelo diz que ela não tem)\n",
        "*   Canto inferior direito: Verdadeiro Negativo(A pessoa não tem doença)\n",
        "\n"
      ]
    },
    {
      "cell_type": "markdown",
      "metadata": {
        "id": "cwjC-ixE1Shn",
        "colab_type": "text"
      },
      "source": [
        "Nesse aspecto, calculamos a accuracy no modelo de treinamento com base no quanto ela acertou sobre o total. Logo, a accuracy é de 87,6%"
      ]
    },
    {
      "cell_type": "code",
      "metadata": {
        "id": "Zctm3heaStqg",
        "colab_type": "code",
        "outputId": "8e483379-66bd-43d8-b0cb-f5561078bda7",
        "colab": {
          "base_uri": "https://localhost:8080/",
          "height": 170
        }
      },
      "source": [
        "print(classification_report(y_train, mlp_pred_train))"
      ],
      "execution_count": 0,
      "outputs": [
        {
          "output_type": "stream",
          "text": [
            "              precision    recall  f1-score   support\n",
            "\n",
            "           0       0.97      0.75      0.85        97\n",
            "           1       0.82      0.98      0.90       115\n",
            "\n",
            "    accuracy                           0.88       212\n",
            "   macro avg       0.90      0.87      0.87       212\n",
            "weighted avg       0.89      0.88      0.87       212\n",
            "\n"
          ],
          "name": "stdout"
        }
      ]
    },
    {
      "cell_type": "markdown",
      "metadata": {
        "id": "nzzI99ux1o_S",
        "colab_type": "text"
      },
      "source": [
        "#Construção e treinamento do modelo:DecisionTree/RandomForest"
      ]
    },
    {
      "cell_type": "markdown",
      "metadata": {
        "id": "sV8bU7aY2BzM",
        "colab_type": "text"
      },
      "source": [
        "Segundo modelo que utilizaremos são as florestas de árvores de decisões."
      ]
    },
    {
      "cell_type": "code",
      "metadata": {
        "id": "mCc_jSoI15Vf",
        "colab_type": "code",
        "outputId": "15a84f2b-761a-41d0-e757-4462d8e8c8b7",
        "colab": {
          "base_uri": "https://localhost:8080/",
          "height": 187
        }
      },
      "source": [
        "from sklearn.ensemble import RandomForestClassifier\n",
        "rfc = RandomForestClassifier(n_estimators=500)\n",
        "rfc.fit(x_train, y_train)"
      ],
      "execution_count": 0,
      "outputs": [
        {
          "output_type": "stream",
          "text": [
            "/usr/local/lib/python3.6/dist-packages/ipykernel_launcher.py:3: DataConversionWarning: A column-vector y was passed when a 1d array was expected. Please change the shape of y to (n_samples,), for example using ravel().\n",
            "  This is separate from the ipykernel package so we can avoid doing imports until\n"
          ],
          "name": "stderr"
        },
        {
          "output_type": "execute_result",
          "data": {
            "text/plain": [
              "RandomForestClassifier(bootstrap=True, ccp_alpha=0.0, class_weight=None,\n",
              "                       criterion='gini', max_depth=None, max_features='auto',\n",
              "                       max_leaf_nodes=None, max_samples=None,\n",
              "                       min_impurity_decrease=0.0, min_impurity_split=None,\n",
              "                       min_samples_leaf=1, min_samples_split=2,\n",
              "                       min_weight_fraction_leaf=0.0, n_estimators=500,\n",
              "                       n_jobs=None, oob_score=False, random_state=None,\n",
              "                       verbose=0, warm_start=False)"
            ]
          },
          "metadata": {
            "tags": []
          },
          "execution_count": 205
        }
      ]
    },
    {
      "cell_type": "markdown",
      "metadata": {
        "id": "_UvXHwiY2gqH",
        "colab_type": "text"
      },
      "source": [
        "A floresta de árvores é um modelo que coleta informação de diversas árvores de decisão, no nosso caso usei 500."
      ]
    },
    {
      "cell_type": "markdown",
      "metadata": {
        "id": "-GiTINu0qTDs",
        "colab_type": "text"
      },
      "source": [
        "A árvore de decisão é como se fosse um mapa dos possíveis resultados de uma série de escolhas relacionadas. Assim, a árvore inicia com um nó, e divide os resultados criando nós, que se ramificam em outras possibilidades."
      ]
    },
    {
      "cell_type": "code",
      "metadata": {
        "id": "0U_B5dif2t-o",
        "colab_type": "code",
        "outputId": "f966fe1a-fb36-48f6-e022-ebadea0d6c5b",
        "colab": {
          "base_uri": "https://localhost:8080/",
          "height": 282
        }
      },
      "source": [
        "rfc_pred_train = rfc.predict(x_train)\n",
        "km = confusion_matrix(y_train,rfc_pred_train)\n",
        "sns.heatmap(km, annot=True)"
      ],
      "execution_count": 0,
      "outputs": [
        {
          "output_type": "execute_result",
          "data": {
            "text/plain": [
              "<matplotlib.axes._subplots.AxesSubplot at 0x7f74d5e43ac8>"
            ]
          },
          "metadata": {
            "tags": []
          },
          "execution_count": 234
        },
        {
          "output_type": "display_data",
          "data": {
            "image/png": "[encoded data removed]",
            "text/plain": [
              "<Figure size 432x288 with 2 Axes>"
            ]
          },
          "metadata": {
            "tags": []
          }
        }
      ]
    },
    {
      "cell_type": "markdown",
      "metadata": {
        "id": "ui_LAECg3L7A",
        "colab_type": "text"
      },
      "source": [
        "Vemos que a accuracy é de 100%, sendo que isso nem sempre significa que o modelo está perfeito, posto que pode acontecer de haver overfitting, isto é o modelo se viciar de mais na base de treinamento sendo ineficaz para prever novos resultados"
      ]
    },
    {
      "cell_type": "code",
      "metadata": {
        "id": "DyRVTHbSTJS2",
        "colab_type": "code",
        "outputId": "711faacb-b710-4734-a53e-11d1a49c08fb",
        "colab": {
          "base_uri": "https://localhost:8080/",
          "height": 170
        }
      },
      "source": [
        "print(classification_report(y_train, rfc_pred_train))"
      ],
      "execution_count": 0,
      "outputs": [
        {
          "output_type": "stream",
          "text": [
            "              precision    recall  f1-score   support\n",
            "\n",
            "           0       1.00      1.00      1.00        97\n",
            "           1       1.00      1.00      1.00       115\n",
            "\n",
            "    accuracy                           1.00       212\n",
            "   macro avg       1.00      1.00      1.00       212\n",
            "weighted avg       1.00      1.00      1.00       212\n",
            "\n"
          ],
          "name": "stdout"
        }
      ]
    },
    {
      "cell_type": "markdown",
      "metadata": {
        "id": "S15ujXnF3kXF",
        "colab_type": "text"
      },
      "source": [
        "# Construção e treinamento do modelo:SVMs"
      ]
    },
    {
      "cell_type": "markdown",
      "metadata": {
        "id": "_ev7hiuP3wsp",
        "colab_type": "text"
      },
      "source": [
        "O terceiro modelo é o SVMs"
      ]
    },
    {
      "cell_type": "code",
      "metadata": {
        "id": "HiTxH6Tv37NC",
        "colab_type": "code",
        "outputId": "0c961623-beb8-4f97-cdcd-58aee478f92d",
        "colab": {
          "base_uri": "https://localhost:8080/",
          "height": 1000
        }
      },
      "source": [
        "from sklearn.svm import SVC\n",
        "from sklearn.model_selection import GridSearchCV\n",
        "param_grid = {'C':[0.1, 0.5, 1, 10, 100, 1000], 'gamma': [1, 0.1, 0.01, 0.001, 0.0001], 'kernel':['rbf']}\n",
        "grid = GridSearchCV(SVC(),param_grid, refit=True, verbose=3 )\n",
        "grid.fit(x_train, y_train)\n",
        "\n"
      ],
      "execution_count": 0,
      "outputs": [
        {
          "output_type": "stream",
          "text": [
            "Fitting 5 folds for each of 30 candidates, totalling 150 fits\n",
            "[CV] C=0.1, gamma=1, kernel=rbf ......................................\n",
            "[CV] .......... C=0.1, gamma=1, kernel=rbf, score=0.535, total=   0.0s\n",
            "[CV] C=0.1, gamma=1, kernel=rbf ......................................\n",
            "[CV] .......... C=0.1, gamma=1, kernel=rbf, score=0.535, total=   0.0s\n",
            "[CV] C=0.1, gamma=1, kernel=rbf ......................................\n",
            "[CV] .......... C=0.1, gamma=1, kernel=rbf, score=0.548, total=   0.0s\n",
            "[CV] C=0.1, gamma=1, kernel=rbf ......................................\n",
            "[CV] .......... C=0.1, gamma=1, kernel=rbf, score=0.548, total=   0.0s\n",
            "[CV] C=0.1, gamma=1, kernel=rbf ......................................\n",
            "[CV] .......... C=0.1, gamma=1, kernel=rbf, score=0.548, total=   0.0s\n",
            "[CV] C=0.1, gamma=0.1, kernel=rbf ....................................\n",
            "[CV] ........ C=0.1, gamma=0.1, kernel=rbf, score=0.535, total=   0.0s\n",
            "[CV] C=0.1, gamma=0.1, kernel=rbf ....................................\n",
            "[CV] ........ C=0.1, gamma=0.1, kernel=rbf, score=0.535, total=   0.0s\n",
            "[CV] C=0.1, gamma=0.1, kernel=rbf ....................................\n",
            "[CV] ........ C=0.1, gamma=0.1, kernel=rbf, score=0.548, total=   0.0s\n",
            "[CV] C=0.1, gamma=0.1, kernel=rbf ....................................\n",
            "[CV] ........ C=0.1, gamma=0.1, kernel=rbf, score=0.548, total=   0.0s\n",
            "[CV] C=0.1, gamma=0.1, kernel=rbf ....................................\n",
            "[CV] ........ C=0.1, gamma=0.1, kernel=rbf, score=0.548, total=   0.0s\n",
            "[CV] C=0.1, gamma=0.01, kernel=rbf ...................................\n",
            "[CV] ....... C=0.1, gamma=0.01, kernel=rbf, score=0.535, total=   0.0s\n",
            "[CV] C=0.1, gamma=0.01, kernel=rbf ...................................\n",
            "[CV] ....... C=0.1, gamma=0.01, kernel=rbf, score=0.535, total=   0.0s\n",
            "[CV] C=0.1, gamma=0.01, kernel=rbf ...................................\n",
            "[CV] ....... C=0.1, gamma=0.01, kernel=rbf, score=0.548, total=   0.0s\n",
            "[CV] C=0.1, gamma=0.01, kernel=rbf ...................................\n",
            "[CV] ....... C=0.1, gamma=0.01, kernel=rbf, score=0.548, total=   0.0s\n",
            "[CV] C=0.1, gamma=0.01, kernel=rbf ...................................\n",
            "[CV] ....... C=0.1, gamma=0.01, kernel=rbf, score=0.548, total=   0.0s\n",
            "[CV] C=0.1, gamma=0.001, kernel=rbf ..................................\n",
            "[CV] ...... C=0.1, gamma=0.001, kernel=rbf, score=0.535, total=   0.0s\n",
            "[CV] C=0.1, gamma=0.001, kernel=rbf ..................................\n",
            "[CV] ...... C=0.1, gamma=0.001, kernel=rbf, score=0.535, total=   0.0s\n",
            "[CV] C=0.1, gamma=0.001, kernel=rbf ..................................\n",
            "[CV] ...... C=0.1, gamma=0.001, kernel=rbf, score=0.548, total=   0.0s\n",
            "[CV] C=0.1, gamma=0.001, kernel=rbf ..................................\n",
            "[CV] ...... C=0.1, gamma=0.001, kernel=rbf, score=0.595, total=   0.0s\n",
            "[CV] C=0.1, gamma=0.001, kernel=rbf ..................................\n",
            "[CV] ...... C=0.1, gamma=0.001, kernel=rbf, score=0.548, total=   0.0s\n",
            "[CV] C=0.1, gamma=0.0001, kernel=rbf .................................\n",
            "[CV] ..... C=0.1, gamma=0.0001, kernel=rbf, score=0.535, total=   0.0s\n",
            "[CV] C=0.1, gamma=0.0001, kernel=rbf .................................\n",
            "[CV] ..... C=0.1, gamma=0.0001, kernel=rbf, score=0.535, total=   0.0s\n",
            "[CV] C=0.1, gamma=0.0001, kernel=rbf .................................\n",
            "[CV] ..... C=0.1, gamma=0.0001, kernel=rbf, score=0.619, total=   0.0s\n",
            "[CV] C=0.1, gamma=0.0001, kernel=rbf .................................\n",
            "[CV] ..... C=0.1, gamma=0.0001, kernel=rbf, score=0.595, total=   0.0s\n",
            "[CV] C=0.1, gamma=0.0001, kernel=rbf .................................\n",
            "[CV] ..... C=0.1, gamma=0.0001, kernel=rbf, score=0.619, total=   0.0s\n",
            "[CV] C=0.5, gamma=1, kernel=rbf ......................................\n",
            "[CV] .......... C=0.5, gamma=1, kernel=rbf, score=0.535, total=   0.0s\n",
            "[CV] C=0.5, gamma=1, kernel=rbf ......................................\n",
            "[CV] .......... C=0.5, gamma=1, kernel=rbf, score=0.535, total=   0.0s\n",
            "[CV] C=0.5, gamma=1, kernel=rbf ......................................\n",
            "[CV] .......... C=0.5, gamma=1, kernel=rbf, score=0.548, total=   0.0s\n",
            "[CV] C=0.5, gamma=1, kernel=rbf ......................................\n",
            "[CV] .......... C=0.5, gamma=1, kernel=rbf, score=0.548, total=   0.0s\n",
            "[CV] C=0.5, gamma=1, kernel=rbf ......................................\n",
            "[CV] .......... C=0.5, gamma=1, kernel=rbf, score=0.548, total=   0.0s\n",
            "[CV] C=0.5, gamma=0.1, kernel=rbf ....................................\n",
            "[CV] ........ C=0.5, gamma=0.1, kernel=rbf, score=0.535, total=   0.0s\n",
            "[CV] C=0.5, gamma=0.1, kernel=rbf ....................................\n",
            "[CV] ........ C=0.5, gamma=0.1, kernel=rbf, score=0.535, total=   0.0s\n",
            "[CV] C=0.5, gamma=0.1, kernel=rbf ....................................\n",
            "[CV] ........ C=0.5, gamma=0.1, kernel=rbf, score=0.548, total=   0.0s\n",
            "[CV] C=0.5, gamma=0.1, kernel=rbf ....................................\n",
            "[CV] ........ C=0.5, gamma=0.1, kernel=rbf, score=0.548, total=   0.0s\n",
            "[CV] C=0.5, gamma=0.1, kernel=rbf ....................................\n",
            "[CV] ........ C=0.5, gamma=0.1, kernel=rbf, score=0.548, total=   0.0s\n",
            "[CV] C=0.5, gamma=0.01, kernel=rbf ...................................\n",
            "[CV] ....... C=0.5, gamma=0.01, kernel=rbf, score=0.558, total=   0.0s\n",
            "[CV] C=0.5, gamma=0.01, kernel=rbf ...................................\n",
            "[CV] ....... C=0.5, gamma=0.01, kernel=rbf, score=0.535, total=   0.0s\n",
            "[CV] C=0.5, gamma=0.01, kernel=rbf ...................................\n"
          ],
          "name": "stdout"
        },
        {
          "output_type": "stream",
          "text": [
            "[Parallel(n_jobs=1)]: Using backend SequentialBackend with 1 concurrent workers.\n",
            "/usr/local/lib/python3.6/dist-packages/sklearn/utils/validation.py:760: DataConversionWarning: A column-vector y was passed when a 1d array was expected. Please change the shape of y to (n_samples, ), for example using ravel().\n",
            "  y = column_or_1d(y, warn=True)\n",
            "[Parallel(n_jobs=1)]: Done   1 out of   1 | elapsed:    0.0s remaining:    0.0s\n",
            "/usr/local/lib/python3.6/dist-packages/sklearn/utils/validation.py:760: DataConversionWarning: A column-vector y was passed when a 1d array was expected. Please change the shape of y to (n_samples, ), for example using ravel().\n",
            "  y = column_or_1d(y, warn=True)\n",
            "[Parallel(n_jobs=1)]: Done   2 out of   2 | elapsed:    0.0s remaining:    0.0s\n",
            "/usr/local/lib/python3.6/dist-packages/sklearn/utils/validation.py:760: DataConversionWarning: A column-vector y was passed when a 1d array was expected. Please change the shape of y to (n_samples, ), for example using ravel().\n",
            "  y = column_or_1d(y, warn=True)\n",
            "/usr/local/lib/python3.6/dist-packages/sklearn/utils/validation.py:760: DataConversionWarning: A column-vector y was passed when a 1d array was expected. Please change the shape of y to (n_samples, ), for example using ravel().\n",
            "  y = column_or_1d(y, warn=True)\n",
            "/usr/local/lib/python3.6/dist-packages/sklearn/utils/validation.py:760: DataConversionWarning: A column-vector y was passed when a 1d array was expected. Please change the shape of y to (n_samples, ), for example using ravel().\n",
            "  y = column_or_1d(y, warn=True)\n",
            "/usr/local/lib/python3.6/dist-packages/sklearn/utils/validation.py:760: DataConversionWarning: A column-vector y was passed when a 1d array was expected. Please change the shape of y to (n_samples, ), for example using ravel().\n",
            "  y = column_or_1d(y, warn=True)\n",
            "/usr/local/lib/python3.6/dist-packages/sklearn/utils/validation.py:760: DataConversionWarning: A column-vector y was passed when a 1d array was expected. Please change the shape of y to (n_samples, ), for example using ravel().\n",
            "  y = column_or_1d(y, warn=True)\n",
            "/usr/local/lib/python3.6/dist-packages/sklearn/utils/validation.py:760: DataConversionWarning: A column-vector y was passed when a 1d array was expected. Please change the shape of y to (n_samples, ), for example using ravel().\n",
            "  y = column_or_1d(y, warn=True)\n",
            "/usr/local/lib/python3.6/dist-packages/sklearn/utils/validation.py:760: DataConversionWarning: A column-vector y was passed when a 1d array was expected. Please change the shape of y to (n_samples, ), for example using ravel().\n",
            "  y = column_or_1d(y, warn=True)\n",
            "/usr/local/lib/python3.6/dist-packages/sklearn/utils/validation.py:760: DataConversionWarning: A column-vector y was passed when a 1d array was expected. Please change the shape of y to (n_samples, ), for example using ravel().\n",
            "  y = column_or_1d(y, warn=True)\n",
            "/usr/local/lib/python3.6/dist-packages/sklearn/utils/validation.py:760: DataConversionWarning: A column-vector y was passed when a 1d array was expected. Please change the shape of y to (n_samples, ), for example using ravel().\n",
            "  y = column_or_1d(y, warn=True)\n",
            "/usr/local/lib/python3.6/dist-packages/sklearn/utils/validation.py:760: DataConversionWarning: A column-vector y was passed when a 1d array was expected. Please change the shape of y to (n_samples, ), for example using ravel().\n",
            "  y = column_or_1d(y, warn=True)\n",
            "/usr/local/lib/python3.6/dist-packages/sklearn/utils/validation.py:760: DataConversionWarning: A column-vector y was passed when a 1d array was expected. Please change the shape of y to (n_samples, ), for example using ravel().\n",
            "  y = column_or_1d(y, warn=True)\n",
            "/usr/local/lib/python3.6/dist-packages/sklearn/utils/validation.py:760: DataConversionWarning: A column-vector y was passed when a 1d array was expected. Please change the shape of y to (n_samples, ), for example using ravel().\n",
            "  y = column_or_1d(y, warn=True)\n",
            "/usr/local/lib/python3.6/dist-packages/sklearn/utils/validation.py:760: DataConversionWarning: A column-vector y was passed when a 1d array was expected. Please change the shape of y to (n_samples, ), for example using ravel().\n",
            "  y = column_or_1d(y, warn=True)\n",
            "/usr/local/lib/python3.6/dist-packages/sklearn/utils/validation.py:760: DataConversionWarning: A column-vector y was passed when a 1d array was expected. Please change the shape of y to (n_samples, ), for example using ravel().\n",
            "  y = column_or_1d(y, warn=True)\n",
            "/usr/local/lib/python3.6/dist-packages/sklearn/utils/validation.py:760: DataConversionWarning: A column-vector y was passed when a 1d array was expected. Please change the shape of y to (n_samples, ), for example using ravel().\n",
            "  y = column_or_1d(y, warn=True)\n",
            "/usr/local/lib/python3.6/dist-packages/sklearn/utils/validation.py:760: DataConversionWarning: A column-vector y was passed when a 1d array was expected. Please change the shape of y to (n_samples, ), for example using ravel().\n",
            "  y = column_or_1d(y, warn=True)\n",
            "/usr/local/lib/python3.6/dist-packages/sklearn/utils/validation.py:760: DataConversionWarning: A column-vector y was passed when a 1d array was expected. Please change the shape of y to (n_samples, ), for example using ravel().\n",
            "  y = column_or_1d(y, warn=True)\n",
            "/usr/local/lib/python3.6/dist-packages/sklearn/utils/validation.py:760: DataConversionWarning: A column-vector y was passed when a 1d array was expected. Please change the shape of y to (n_samples, ), for example using ravel().\n",
            "  y = column_or_1d(y, warn=True)\n",
            "/usr/local/lib/python3.6/dist-packages/sklearn/utils/validation.py:760: DataConversionWarning: A column-vector y was passed when a 1d array was expected. Please change the shape of y to (n_samples, ), for example using ravel().\n",
            "  y = column_or_1d(y, warn=True)\n",
            "/usr/local/lib/python3.6/dist-packages/sklearn/utils/validation.py:760: DataConversionWarning: A column-vector y was passed when a 1d array was expected. Please change the shape of y to (n_samples, ), for example using ravel().\n",
            "  y = column_or_1d(y, warn=True)\n",
            "/usr/local/lib/python3.6/dist-packages/sklearn/utils/validation.py:760: DataConversionWarning: A column-vector y was passed when a 1d array was expected. Please change the shape of y to (n_samples, ), for example using ravel().\n",
            "  y = column_or_1d(y, warn=True)\n",
            "/usr/local/lib/python3.6/dist-packages/sklearn/utils/validation.py:760: DataConversionWarning: A column-vector y was passed when a 1d array was expected. Please change the shape of y to (n_samples, ), for example using ravel().\n",
            "  y = column_or_1d(y, warn=True)\n",
            "/usr/local/lib/python3.6/dist-packages/sklearn/utils/validation.py:760: DataConversionWarning: A column-vector y was passed when a 1d array was expected. Please change the shape of y to (n_samples, ), for example using ravel().\n",
            "  y = column_or_1d(y, warn=True)\n",
            "/usr/local/lib/python3.6/dist-packages/sklearn/utils/validation.py:760: DataConversionWarning: A column-vector y was passed when a 1d array was expected. Please change the shape of y to (n_samples, ), for example using ravel().\n",
            "  y = column_or_1d(y, warn=True)\n",
            "/usr/local/lib/python3.6/dist-packages/sklearn/utils/validation.py:760: DataConversionWarning: A column-vector y was passed when a 1d array was expected. Please change the shape of y to (n_samples, ), for example using ravel().\n",
            "  y = column_or_1d(y, warn=True)\n",
            "/usr/local/lib/python3.6/dist-packages/sklearn/utils/validation.py:760: DataConversionWarning: A column-vector y was passed when a 1d array was expected. Please change the shape of y to (n_samples, ), for example using ravel().\n",
            "  y = column_or_1d(y, warn=True)\n",
            "/usr/local/lib/python3.6/dist-packages/sklearn/utils/validation.py:760: DataConversionWarning: A column-vector y was passed when a 1d array was expected. Please change the shape of y to (n_samples, ), for example using ravel().\n",
            "  y = column_or_1d(y, warn=True)\n",
            "/usr/local/lib/python3.6/dist-packages/sklearn/utils/validation.py:760: DataConversionWarning: A column-vector y was passed when a 1d array was expected. Please change the shape of y to (n_samples, ), for example using ravel().\n",
            "  y = column_or_1d(y, warn=True)\n",
            "/usr/local/lib/python3.6/dist-packages/sklearn/utils/validation.py:760: DataConversionWarning: A column-vector y was passed when a 1d array was expected. Please change the shape of y to (n_samples, ), for example using ravel().\n",
            "  y = column_or_1d(y, warn=True)\n",
            "/usr/local/lib/python3.6/dist-packages/sklearn/utils/validation.py:760: DataConversionWarning: A column-vector y was passed when a 1d array was expected. Please change the shape of y to (n_samples, ), for example using ravel().\n",
            "  y = column_or_1d(y, warn=True)\n",
            "/usr/local/lib/python3.6/dist-packages/sklearn/utils/validation.py:760: DataConversionWarning: A column-vector y was passed when a 1d array was expected. Please change the shape of y to (n_samples, ), for example using ravel().\n",
            "  y = column_or_1d(y, warn=True)\n",
            "/usr/local/lib/python3.6/dist-packages/sklearn/utils/validation.py:760: DataConversionWarning: A column-vector y was passed when a 1d array was expected. Please change the shape of y to (n_samples, ), for example using ravel().\n",
            "  y = column_or_1d(y, warn=True)\n",
            "/usr/local/lib/python3.6/dist-packages/sklearn/utils/validation.py:760: DataConversionWarning: A column-vector y was passed when a 1d array was expected. Please change the shape of y to (n_samples, ), for example using ravel().\n",
            "  y = column_or_1d(y, warn=True)\n",
            "/usr/local/lib/python3.6/dist-packages/sklearn/utils/validation.py:760: DataConversionWarning: A column-vector y was passed when a 1d array was expected. Please change the shape of y to (n_samples, ), for example using ravel().\n",
            "  y = column_or_1d(y, warn=True)\n",
            "/usr/local/lib/python3.6/dist-packages/sklearn/utils/validation.py:760: DataConversionWarning: A column-vector y was passed when a 1d array was expected. Please change the shape of y to (n_samples, ), for example using ravel().\n",
            "  y = column_or_1d(y, warn=True)\n",
            "/usr/local/lib/python3.6/dist-packages/sklearn/utils/validation.py:760: DataConversionWarning: A column-vector y was passed when a 1d array was expected. Please change the shape of y to (n_samples, ), for example using ravel().\n",
            "  y = column_or_1d(y, warn=True)\n"
          ],
          "name": "stderr"
        },
        {
          "output_type": "stream",
          "text": [
            "[CV] ....... C=0.5, gamma=0.01, kernel=rbf, score=0.571, total=   0.0s\n",
            "[CV] C=0.5, gamma=0.01, kernel=rbf ...................................\n",
            "[CV] ....... C=0.5, gamma=0.01, kernel=rbf, score=0.548, total=   0.0s\n",
            "[CV] C=0.5, gamma=0.01, kernel=rbf ...................................\n",
            "[CV] ....... C=0.5, gamma=0.01, kernel=rbf, score=0.548, total=   0.0s\n",
            "[CV] C=0.5, gamma=0.001, kernel=rbf ..................................\n",
            "[CV] ...... C=0.5, gamma=0.001, kernel=rbf, score=0.698, total=   0.0s\n",
            "[CV] C=0.5, gamma=0.001, kernel=rbf ..................................\n",
            "[CV] ...... C=0.5, gamma=0.001, kernel=rbf, score=0.698, total=   0.0s\n",
            "[CV] C=0.5, gamma=0.001, kernel=rbf ..................................\n",
            "[CV] ...... C=0.5, gamma=0.001, kernel=rbf, score=0.619, total=   0.0s\n",
            "[CV] C=0.5, gamma=0.001, kernel=rbf ..................................\n",
            "[CV] ...... C=0.5, gamma=0.001, kernel=rbf, score=0.548, total=   0.0s\n",
            "[CV] C=0.5, gamma=0.001, kernel=rbf ..................................\n",
            "[CV] ...... C=0.5, gamma=0.001, kernel=rbf, score=0.667, total=   0.0s\n",
            "[CV] C=0.5, gamma=0.0001, kernel=rbf .................................\n",
            "[CV] ..... C=0.5, gamma=0.0001, kernel=rbf, score=0.651, total=   0.0s\n",
            "[CV] C=0.5, gamma=0.0001, kernel=rbf .................................\n",
            "[CV] ..... C=0.5, gamma=0.0001, kernel=rbf, score=0.674, total=   0.0s\n",
            "[CV] C=0.5, gamma=0.0001, kernel=rbf .................................\n",
            "[CV] ..... C=0.5, gamma=0.0001, kernel=rbf, score=0.476, total=   0.0s\n",
            "[CV] C=0.5, gamma=0.0001, kernel=rbf .................................\n",
            "[CV] ..... C=0.5, gamma=0.0001, kernel=rbf, score=0.571, total=   0.0s\n",
            "[CV] C=0.5, gamma=0.0001, kernel=rbf .................................\n",
            "[CV] ..... C=0.5, gamma=0.0001, kernel=rbf, score=0.738, total=   0.0s\n",
            "[CV] C=1, gamma=1, kernel=rbf ........................................\n",
            "[CV] ............ C=1, gamma=1, kernel=rbf, score=0.535, total=   0.0s\n",
            "[CV] C=1, gamma=1, kernel=rbf ........................................\n",
            "[CV] ............ C=1, gamma=1, kernel=rbf, score=0.535, total=   0.0s\n",
            "[CV] C=1, gamma=1, kernel=rbf ........................................\n",
            "[CV] ............ C=1, gamma=1, kernel=rbf, score=0.548, total=   0.0s\n",
            "[CV] C=1, gamma=1, kernel=rbf ........................................\n",
            "[CV] ............ C=1, gamma=1, kernel=rbf, score=0.548, total=   0.0s\n",
            "[CV] C=1, gamma=1, kernel=rbf ........................................\n",
            "[CV] ............ C=1, gamma=1, kernel=rbf, score=0.548, total=   0.0s\n",
            "[CV] C=1, gamma=0.1, kernel=rbf ......................................\n",
            "[CV] .......... C=1, gamma=0.1, kernel=rbf, score=0.535, total=   0.0s\n",
            "[CV] C=1, gamma=0.1, kernel=rbf ......................................\n",
            "[CV] .......... C=1, gamma=0.1, kernel=rbf, score=0.535, total=   0.0s\n",
            "[CV] C=1, gamma=0.1, kernel=rbf ......................................\n",
            "[CV] .......... C=1, gamma=0.1, kernel=rbf, score=0.548, total=   0.0s\n",
            "[CV] C=1, gamma=0.1, kernel=rbf ......................................\n",
            "[CV] .......... C=1, gamma=0.1, kernel=rbf, score=0.548, total=   0.0s\n",
            "[CV] C=1, gamma=0.1, kernel=rbf ......................................\n",
            "[CV] .......... C=1, gamma=0.1, kernel=rbf, score=0.548, total=   0.0s\n",
            "[CV] C=1, gamma=0.01, kernel=rbf .....................................\n",
            "[CV] ......... C=1, gamma=0.01, kernel=rbf, score=0.674, total=   0.0s\n",
            "[CV] C=1, gamma=0.01, kernel=rbf .....................................\n",
            "[CV] ......... C=1, gamma=0.01, kernel=rbf, score=0.488, total=   0.0s\n",
            "[CV] C=1, gamma=0.01, kernel=rbf .....................................\n",
            "[CV] ......... C=1, gamma=0.01, kernel=rbf, score=0.548, total=   0.0s\n",
            "[CV] C=1, gamma=0.01, kernel=rbf .....................................\n",
            "[CV] ......... C=1, gamma=0.01, kernel=rbf, score=0.524, total=   0.0s\n",
            "[CV] C=1, gamma=0.01, kernel=rbf .....................................\n",
            "[CV] ......... C=1, gamma=0.01, kernel=rbf, score=0.571, total=   0.0s\n",
            "[CV] C=1, gamma=0.001, kernel=rbf ....................................\n",
            "[CV] ........ C=1, gamma=0.001, kernel=rbf, score=0.674, total=   0.0s\n",
            "[CV] C=1, gamma=0.001, kernel=rbf ....................................\n",
            "[CV] ........ C=1, gamma=0.001, kernel=rbf, score=0.674, total=   0.0s\n",
            "[CV] C=1, gamma=0.001, kernel=rbf ....................................\n",
            "[CV] ........ C=1, gamma=0.001, kernel=rbf, score=0.571, total=   0.0s\n",
            "[CV] C=1, gamma=0.001, kernel=rbf ....................................\n",
            "[CV] ........ C=1, gamma=0.001, kernel=rbf, score=0.571, total=   0.0s\n",
            "[CV] C=1, gamma=0.001, kernel=rbf ....................................\n",
            "[CV] ........ C=1, gamma=0.001, kernel=rbf, score=0.667, total=   0.0s\n",
            "[CV] C=1, gamma=0.0001, kernel=rbf ...................................\n",
            "[CV] ....... C=1, gamma=0.0001, kernel=rbf, score=0.674, total=   0.0s\n",
            "[CV] C=1, gamma=0.0001, kernel=rbf ...................................\n",
            "[CV] ....... C=1, gamma=0.0001, kernel=rbf, score=0.698, total=   0.0s\n",
            "[CV] C=1, gamma=0.0001, kernel=rbf ...................................\n",
            "[CV] ....... C=1, gamma=0.0001, kernel=rbf, score=0.548, total=   0.0s\n",
            "[CV] C=1, gamma=0.0001, kernel=rbf ...................................\n",
            "[CV] ....... C=1, gamma=0.0001, kernel=rbf, score=0.548, total=   0.0s\n",
            "[CV] C=1, gamma=0.0001, kernel=rbf ...................................\n",
            "[CV] ....... C=1, gamma=0.0001, kernel=rbf, score=0.667, total=   0.0s\n",
            "[CV] C=10, gamma=1, kernel=rbf .......................................\n",
            "[CV] ........... C=10, gamma=1, kernel=rbf, score=0.535, total=   0.0s\n",
            "[CV] C=10, gamma=1, kernel=rbf .......................................\n",
            "[CV] ........... C=10, gamma=1, kernel=rbf, score=0.535, total=   0.0s\n",
            "[CV] C=10, gamma=1, kernel=rbf .......................................\n"
          ],
          "name": "stdout"
        },
        {
          "output_type": "stream",
          "text": [
            "/usr/local/lib/python3.6/dist-packages/sklearn/utils/validation.py:760: DataConversionWarning: A column-vector y was passed when a 1d array was expected. Please change the shape of y to (n_samples, ), for example using ravel().\n",
            "  y = column_or_1d(y, warn=True)\n",
            "/usr/local/lib/python3.6/dist-packages/sklearn/utils/validation.py:760: DataConversionWarning: A column-vector y was passed when a 1d array was expected. Please change the shape of y to (n_samples, ), for example using ravel().\n",
            "  y = column_or_1d(y, warn=True)\n",
            "/usr/local/lib/python3.6/dist-packages/sklearn/utils/validation.py:760: DataConversionWarning: A column-vector y was passed when a 1d array was expected. Please change the shape of y to (n_samples, ), for example using ravel().\n",
            "  y = column_or_1d(y, warn=True)\n",
            "/usr/local/lib/python3.6/dist-packages/sklearn/utils/validation.py:760: DataConversionWarning: A column-vector y was passed when a 1d array was expected. Please change the shape of y to (n_samples, ), for example using ravel().\n",
            "  y = column_or_1d(y, warn=True)\n",
            "/usr/local/lib/python3.6/dist-packages/sklearn/utils/validation.py:760: DataConversionWarning: A column-vector y was passed when a 1d array was expected. Please change the shape of y to (n_samples, ), for example using ravel().\n",
            "  y = column_or_1d(y, warn=True)\n",
            "/usr/local/lib/python3.6/dist-packages/sklearn/utils/validation.py:760: DataConversionWarning: A column-vector y was passed when a 1d array was expected. Please change the shape of y to (n_samples, ), for example using ravel().\n",
            "  y = column_or_1d(y, warn=True)\n",
            "/usr/local/lib/python3.6/dist-packages/sklearn/utils/validation.py:760: DataConversionWarning: A column-vector y was passed when a 1d array was expected. Please change the shape of y to (n_samples, ), for example using ravel().\n",
            "  y = column_or_1d(y, warn=True)\n",
            "/usr/local/lib/python3.6/dist-packages/sklearn/utils/validation.py:760: DataConversionWarning: A column-vector y was passed when a 1d array was expected. Please change the shape of y to (n_samples, ), for example using ravel().\n",
            "  y = column_or_1d(y, warn=True)\n",
            "/usr/local/lib/python3.6/dist-packages/sklearn/utils/validation.py:760: DataConversionWarning: A column-vector y was passed when a 1d array was expected. Please change the shape of y to (n_samples, ), for example using ravel().\n",
            "  y = column_or_1d(y, warn=True)\n",
            "/usr/local/lib/python3.6/dist-packages/sklearn/utils/validation.py:760: DataConversionWarning: A column-vector y was passed when a 1d array was expected. Please change the shape of y to (n_samples, ), for example using ravel().\n",
            "  y = column_or_1d(y, warn=True)\n",
            "/usr/local/lib/python3.6/dist-packages/sklearn/utils/validation.py:760: DataConversionWarning: A column-vector y was passed when a 1d array was expected. Please change the shape of y to (n_samples, ), for example using ravel().\n",
            "  y = column_or_1d(y, warn=True)\n",
            "/usr/local/lib/python3.6/dist-packages/sklearn/utils/validation.py:760: DataConversionWarning: A column-vector y was passed when a 1d array was expected. Please change the shape of y to (n_samples, ), for example using ravel().\n",
            "  y = column_or_1d(y, warn=True)\n",
            "/usr/local/lib/python3.6/dist-packages/sklearn/utils/validation.py:760: DataConversionWarning: A column-vector y was passed when a 1d array was expected. Please change the shape of y to (n_samples, ), for example using ravel().\n",
            "  y = column_or_1d(y, warn=True)\n",
            "/usr/local/lib/python3.6/dist-packages/sklearn/utils/validation.py:760: DataConversionWarning: A column-vector y was passed when a 1d array was expected. Please change the shape of y to (n_samples, ), for example using ravel().\n",
            "  y = column_or_1d(y, warn=True)\n",
            "/usr/local/lib/python3.6/dist-packages/sklearn/utils/validation.py:760: DataConversionWarning: A column-vector y was passed when a 1d array was expected. Please change the shape of y to (n_samples, ), for example using ravel().\n",
            "  y = column_or_1d(y, warn=True)\n",
            "/usr/local/lib/python3.6/dist-packages/sklearn/utils/validation.py:760: DataConversionWarning: A column-vector y was passed when a 1d array was expected. Please change the shape of y to (n_samples, ), for example using ravel().\n",
            "  y = column_or_1d(y, warn=True)\n",
            "/usr/local/lib/python3.6/dist-packages/sklearn/utils/validation.py:760: DataConversionWarning: A column-vector y was passed when a 1d array was expected. Please change the shape of y to (n_samples, ), for example using ravel().\n",
            "  y = column_or_1d(y, warn=True)\n",
            "/usr/local/lib/python3.6/dist-packages/sklearn/utils/validation.py:760: DataConversionWarning: A column-vector y was passed when a 1d array was expected. Please change the shape of y to (n_samples, ), for example using ravel().\n",
            "  y = column_or_1d(y, warn=True)\n",
            "/usr/local/lib/python3.6/dist-packages/sklearn/utils/validation.py:760: DataConversionWarning: A column-vector y was passed when a 1d array was expected. Please change the shape of y to (n_samples, ), for example using ravel().\n",
            "  y = column_or_1d(y, warn=True)\n",
            "/usr/local/lib/python3.6/dist-packages/sklearn/utils/validation.py:760: DataConversionWarning: A column-vector y was passed when a 1d array was expected. Please change the shape of y to (n_samples, ), for example using ravel().\n",
            "  y = column_or_1d(y, warn=True)\n",
            "/usr/local/lib/python3.6/dist-packages/sklearn/utils/validation.py:760: DataConversionWarning: A column-vector y was passed when a 1d array was expected. Please change the shape of y to (n_samples, ), for example using ravel().\n",
            "  y = column_or_1d(y, warn=True)\n",
            "/usr/local/lib/python3.6/dist-packages/sklearn/utils/validation.py:760: DataConversionWarning: A column-vector y was passed when a 1d array was expected. Please change the shape of y to (n_samples, ), for example using ravel().\n",
            "  y = column_or_1d(y, warn=True)\n",
            "/usr/local/lib/python3.6/dist-packages/sklearn/utils/validation.py:760: DataConversionWarning: A column-vector y was passed when a 1d array was expected. Please change the shape of y to (n_samples, ), for example using ravel().\n",
            "  y = column_or_1d(y, warn=True)\n",
            "/usr/local/lib/python3.6/dist-packages/sklearn/utils/validation.py:760: DataConversionWarning: A column-vector y was passed when a 1d array was expected. Please change the shape of y to (n_samples, ), for example using ravel().\n",
            "  y = column_or_1d(y, warn=True)\n",
            "/usr/local/lib/python3.6/dist-packages/sklearn/utils/validation.py:760: DataConversionWarning: A column-vector y was passed when a 1d array was expected. Please change the shape of y to (n_samples, ), for example using ravel().\n",
            "  y = column_or_1d(y, warn=True)\n",
            "/usr/local/lib/python3.6/dist-packages/sklearn/utils/validation.py:760: DataConversionWarning: A column-vector y was passed when a 1d array was expected. Please change the shape of y to (n_samples, ), for example using ravel().\n",
            "  y = column_or_1d(y, warn=True)\n",
            "/usr/local/lib/python3.6/dist-packages/sklearn/utils/validation.py:760: DataConversionWarning: A column-vector y was passed when a 1d array was expected. Please change the shape of y to (n_samples, ), for example using ravel().\n",
            "  y = column_or_1d(y, warn=True)\n",
            "/usr/local/lib/python3.6/dist-packages/sklearn/utils/validation.py:760: DataConversionWarning: A column-vector y was passed when a 1d array was expected. Please change the shape of y to (n_samples, ), for example using ravel().\n",
            "  y = column_or_1d(y, warn=True)\n",
            "/usr/local/lib/python3.6/dist-packages/sklearn/utils/validation.py:760: DataConversionWarning: A column-vector y was passed when a 1d array was expected. Please change the shape of y to (n_samples, ), for example using ravel().\n",
            "  y = column_or_1d(y, warn=True)\n",
            "/usr/local/lib/python3.6/dist-packages/sklearn/utils/validation.py:760: DataConversionWarning: A column-vector y was passed when a 1d array was expected. Please change the shape of y to (n_samples, ), for example using ravel().\n",
            "  y = column_or_1d(y, warn=True)\n",
            "/usr/local/lib/python3.6/dist-packages/sklearn/utils/validation.py:760: DataConversionWarning: A column-vector y was passed when a 1d array was expected. Please change the shape of y to (n_samples, ), for example using ravel().\n",
            "  y = column_or_1d(y, warn=True)\n",
            "/usr/local/lib/python3.6/dist-packages/sklearn/utils/validation.py:760: DataConversionWarning: A column-vector y was passed when a 1d array was expected. Please change the shape of y to (n_samples, ), for example using ravel().\n",
            "  y = column_or_1d(y, warn=True)\n",
            "/usr/local/lib/python3.6/dist-packages/sklearn/utils/validation.py:760: DataConversionWarning: A column-vector y was passed when a 1d array was expected. Please change the shape of y to (n_samples, ), for example using ravel().\n",
            "  y = column_or_1d(y, warn=True)\n",
            "/usr/local/lib/python3.6/dist-packages/sklearn/utils/validation.py:760: DataConversionWarning: A column-vector y was passed when a 1d array was expected. Please change the shape of y to (n_samples, ), for example using ravel().\n",
            "  y = column_or_1d(y, warn=True)\n",
            "/usr/local/lib/python3.6/dist-packages/sklearn/utils/validation.py:760: DataConversionWarning: A column-vector y was passed when a 1d array was expected. Please change the shape of y to (n_samples, ), for example using ravel().\n",
            "  y = column_or_1d(y, warn=True)\n",
            "/usr/local/lib/python3.6/dist-packages/sklearn/utils/validation.py:760: DataConversionWarning: A column-vector y was passed when a 1d array was expected. Please change the shape of y to (n_samples, ), for example using ravel().\n",
            "  y = column_or_1d(y, warn=True)\n",
            "/usr/local/lib/python3.6/dist-packages/sklearn/utils/validation.py:760: DataConversionWarning: A column-vector y was passed when a 1d array was expected. Please change the shape of y to (n_samples, ), for example using ravel().\n",
            "  y = column_or_1d(y, warn=True)\n",
            "/usr/local/lib/python3.6/dist-packages/sklearn/utils/validation.py:760: DataConversionWarning: A column-vector y was passed when a 1d array was expected. Please change the shape of y to (n_samples, ), for example using ravel().\n",
            "  y = column_or_1d(y, warn=True)\n",
            "/usr/local/lib/python3.6/dist-packages/sklearn/utils/validation.py:760: DataConversionWarning: A column-vector y was passed when a 1d array was expected. Please change the shape of y to (n_samples, ), for example using ravel().\n",
            "  y = column_or_1d(y, warn=True)\n",
            "/usr/local/lib/python3.6/dist-packages/sklearn/utils/validation.py:760: DataConversionWarning: A column-vector y was passed when a 1d array was expected. Please change the shape of y to (n_samples, ), for example using ravel().\n",
            "  y = column_or_1d(y, warn=True)\n"
          ],
          "name": "stderr"
        },
        {
          "output_type": "stream",
          "text": [
            "[CV] ........... C=10, gamma=1, kernel=rbf, score=0.548, total=   0.0s\n",
            "[CV] C=10, gamma=1, kernel=rbf .......................................\n",
            "[CV] ........... C=10, gamma=1, kernel=rbf, score=0.548, total=   0.0s\n",
            "[CV] C=10, gamma=1, kernel=rbf .......................................\n",
            "[CV] ........... C=10, gamma=1, kernel=rbf, score=0.548, total=   0.0s\n",
            "[CV] C=10, gamma=0.1, kernel=rbf .....................................\n",
            "[CV] ......... C=10, gamma=0.1, kernel=rbf, score=0.535, total=   0.0s\n",
            "[CV] C=10, gamma=0.1, kernel=rbf .....................................\n",
            "[CV] ......... C=10, gamma=0.1, kernel=rbf, score=0.535, total=   0.0s\n",
            "[CV] C=10, gamma=0.1, kernel=rbf .....................................\n",
            "[CV] ......... C=10, gamma=0.1, kernel=rbf, score=0.548, total=   0.0s\n",
            "[CV] C=10, gamma=0.1, kernel=rbf .....................................\n",
            "[CV] ......... C=10, gamma=0.1, kernel=rbf, score=0.548, total=   0.0s\n",
            "[CV] C=10, gamma=0.1, kernel=rbf .....................................\n",
            "[CV] ......... C=10, gamma=0.1, kernel=rbf, score=0.548, total=   0.0s\n",
            "[CV] C=10, gamma=0.01, kernel=rbf ....................................\n",
            "[CV] ........ C=10, gamma=0.01, kernel=rbf, score=0.535, total=   0.0s\n",
            "[CV] C=10, gamma=0.01, kernel=rbf ....................................\n",
            "[CV] ........ C=10, gamma=0.01, kernel=rbf, score=0.442, total=   0.0s\n",
            "[CV] C=10, gamma=0.01, kernel=rbf ....................................\n",
            "[CV] ........ C=10, gamma=0.01, kernel=rbf, score=0.643, total=   0.0s\n",
            "[CV] C=10, gamma=0.01, kernel=rbf ....................................\n",
            "[CV] ........ C=10, gamma=0.01, kernel=rbf, score=0.595, total=   0.0s\n",
            "[CV] C=10, gamma=0.01, kernel=rbf ....................................\n",
            "[CV] ........ C=10, gamma=0.01, kernel=rbf, score=0.548, total=   0.0s\n",
            "[CV] C=10, gamma=0.001, kernel=rbf ...................................\n",
            "[CV] ....... C=10, gamma=0.001, kernel=rbf, score=0.674, total=   0.0s\n",
            "[CV] C=10, gamma=0.001, kernel=rbf ...................................\n",
            "[CV] ....... C=10, gamma=0.001, kernel=rbf, score=0.721, total=   0.0s\n",
            "[CV] C=10, gamma=0.001, kernel=rbf ...................................\n",
            "[CV] ....... C=10, gamma=0.001, kernel=rbf, score=0.643, total=   0.0s\n",
            "[CV] C=10, gamma=0.001, kernel=rbf ...................................\n",
            "[CV] ....... C=10, gamma=0.001, kernel=rbf, score=0.571, total=   0.0s\n",
            "[CV] C=10, gamma=0.001, kernel=rbf ...................................\n",
            "[CV] ....... C=10, gamma=0.001, kernel=rbf, score=0.667, total=   0.0s\n",
            "[CV] C=10, gamma=0.0001, kernel=rbf ..................................\n",
            "[CV] ...... C=10, gamma=0.0001, kernel=rbf, score=0.767, total=   0.0s\n",
            "[CV] C=10, gamma=0.0001, kernel=rbf ..................................\n",
            "[CV] ...... C=10, gamma=0.0001, kernel=rbf, score=0.744, total=   0.0s\n",
            "[CV] C=10, gamma=0.0001, kernel=rbf ..................................\n",
            "[CV] ...... C=10, gamma=0.0001, kernel=rbf, score=0.548, total=   0.0s\n",
            "[CV] C=10, gamma=0.0001, kernel=rbf ..................................\n",
            "[CV] ...... C=10, gamma=0.0001, kernel=rbf, score=0.500, total=   0.0s\n",
            "[CV] C=10, gamma=0.0001, kernel=rbf ..................................\n",
            "[CV] ...... C=10, gamma=0.0001, kernel=rbf, score=0.643, total=   0.0s\n",
            "[CV] C=100, gamma=1, kernel=rbf ......................................\n",
            "[CV] .......... C=100, gamma=1, kernel=rbf, score=0.535, total=   0.0s\n",
            "[CV] C=100, gamma=1, kernel=rbf ......................................\n",
            "[CV] .......... C=100, gamma=1, kernel=rbf, score=0.535, total=   0.0s\n",
            "[CV] C=100, gamma=1, kernel=rbf ......................................\n",
            "[CV] .......... C=100, gamma=1, kernel=rbf, score=0.548, total=   0.0s\n",
            "[CV] C=100, gamma=1, kernel=rbf ......................................\n",
            "[CV] .......... C=100, gamma=1, kernel=rbf, score=0.548, total=   0.0s\n",
            "[CV] C=100, gamma=1, kernel=rbf ......................................\n",
            "[CV] .......... C=100, gamma=1, kernel=rbf, score=0.548, total=   0.0s\n",
            "[CV] C=100, gamma=0.1, kernel=rbf ....................................\n",
            "[CV] ........ C=100, gamma=0.1, kernel=rbf, score=0.535, total=   0.0s\n",
            "[CV] C=100, gamma=0.1, kernel=rbf ....................................\n",
            "[CV] ........ C=100, gamma=0.1, kernel=rbf, score=0.535, total=   0.0s\n",
            "[CV] C=100, gamma=0.1, kernel=rbf ....................................\n",
            "[CV] ........ C=100, gamma=0.1, kernel=rbf, score=0.548, total=   0.0s\n",
            "[CV] C=100, gamma=0.1, kernel=rbf ....................................\n",
            "[CV] ........ C=100, gamma=0.1, kernel=rbf, score=0.548, total=   0.0s\n",
            "[CV] C=100, gamma=0.1, kernel=rbf ....................................\n",
            "[CV] ........ C=100, gamma=0.1, kernel=rbf, score=0.548, total=   0.0s\n",
            "[CV] C=100, gamma=0.01, kernel=rbf ...................................\n",
            "[CV] ....... C=100, gamma=0.01, kernel=rbf, score=0.535, total=   0.0s\n",
            "[CV] C=100, gamma=0.01, kernel=rbf ...................................\n",
            "[CV] ....... C=100, gamma=0.01, kernel=rbf, score=0.442, total=   0.0s\n",
            "[CV] C=100, gamma=0.01, kernel=rbf ...................................\n",
            "[CV] ....... C=100, gamma=0.01, kernel=rbf, score=0.643, total=   0.0s\n",
            "[CV] C=100, gamma=0.01, kernel=rbf ...................................\n",
            "[CV] ....... C=100, gamma=0.01, kernel=rbf, score=0.595, total=   0.0s\n",
            "[CV] C=100, gamma=0.01, kernel=rbf ...................................\n"
          ],
          "name": "stdout"
        },
        {
          "output_type": "stream",
          "text": [
            "/usr/local/lib/python3.6/dist-packages/sklearn/utils/validation.py:760: DataConversionWarning: A column-vector y was passed when a 1d array was expected. Please change the shape of y to (n_samples, ), for example using ravel().\n",
            "  y = column_or_1d(y, warn=True)\n",
            "/usr/local/lib/python3.6/dist-packages/sklearn/utils/validation.py:760: DataConversionWarning: A column-vector y was passed when a 1d array was expected. Please change the shape of y to (n_samples, ), for example using ravel().\n",
            "  y = column_or_1d(y, warn=True)\n",
            "/usr/local/lib/python3.6/dist-packages/sklearn/utils/validation.py:760: DataConversionWarning: A column-vector y was passed when a 1d array was expected. Please change the shape of y to (n_samples, ), for example using ravel().\n",
            "  y = column_or_1d(y, warn=True)\n",
            "/usr/local/lib/python3.6/dist-packages/sklearn/utils/validation.py:760: DataConversionWarning: A column-vector y was passed when a 1d array was expected. Please change the shape of y to (n_samples, ), for example using ravel().\n",
            "  y = column_or_1d(y, warn=True)\n",
            "/usr/local/lib/python3.6/dist-packages/sklearn/utils/validation.py:760: DataConversionWarning: A column-vector y was passed when a 1d array was expected. Please change the shape of y to (n_samples, ), for example using ravel().\n",
            "  y = column_or_1d(y, warn=True)\n",
            "/usr/local/lib/python3.6/dist-packages/sklearn/utils/validation.py:760: DataConversionWarning: A column-vector y was passed when a 1d array was expected. Please change the shape of y to (n_samples, ), for example using ravel().\n",
            "  y = column_or_1d(y, warn=True)\n",
            "/usr/local/lib/python3.6/dist-packages/sklearn/utils/validation.py:760: DataConversionWarning: A column-vector y was passed when a 1d array was expected. Please change the shape of y to (n_samples, ), for example using ravel().\n",
            "  y = column_or_1d(y, warn=True)\n",
            "/usr/local/lib/python3.6/dist-packages/sklearn/utils/validation.py:760: DataConversionWarning: A column-vector y was passed when a 1d array was expected. Please change the shape of y to (n_samples, ), for example using ravel().\n",
            "  y = column_or_1d(y, warn=True)\n",
            "/usr/local/lib/python3.6/dist-packages/sklearn/utils/validation.py:760: DataConversionWarning: A column-vector y was passed when a 1d array was expected. Please change the shape of y to (n_samples, ), for example using ravel().\n",
            "  y = column_or_1d(y, warn=True)\n",
            "/usr/local/lib/python3.6/dist-packages/sklearn/utils/validation.py:760: DataConversionWarning: A column-vector y was passed when a 1d array was expected. Please change the shape of y to (n_samples, ), for example using ravel().\n",
            "  y = column_or_1d(y, warn=True)\n",
            "/usr/local/lib/python3.6/dist-packages/sklearn/utils/validation.py:760: DataConversionWarning: A column-vector y was passed when a 1d array was expected. Please change the shape of y to (n_samples, ), for example using ravel().\n",
            "  y = column_or_1d(y, warn=True)\n",
            "/usr/local/lib/python3.6/dist-packages/sklearn/utils/validation.py:760: DataConversionWarning: A column-vector y was passed when a 1d array was expected. Please change the shape of y to (n_samples, ), for example using ravel().\n",
            "  y = column_or_1d(y, warn=True)\n",
            "/usr/local/lib/python3.6/dist-packages/sklearn/utils/validation.py:760: DataConversionWarning: A column-vector y was passed when a 1d array was expected. Please change the shape of y to (n_samples, ), for example using ravel().\n",
            "  y = column_or_1d(y, warn=True)\n",
            "/usr/local/lib/python3.6/dist-packages/sklearn/utils/validation.py:760: DataConversionWarning: A column-vector y was passed when a 1d array was expected. Please change the shape of y to (n_samples, ), for example using ravel().\n",
            "  y = column_or_1d(y, warn=True)\n",
            "/usr/local/lib/python3.6/dist-packages/sklearn/utils/validation.py:760: DataConversionWarning: A column-vector y was passed when a 1d array was expected. Please change the shape of y to (n_samples, ), for example using ravel().\n",
            "  y = column_or_1d(y, warn=True)\n",
            "/usr/local/lib/python3.6/dist-packages/sklearn/utils/validation.py:760: DataConversionWarning: A column-vector y was passed when a 1d array was expected. Please change the shape of y to (n_samples, ), for example using ravel().\n",
            "  y = column_or_1d(y, warn=True)\n",
            "/usr/local/lib/python3.6/dist-packages/sklearn/utils/validation.py:760: DataConversionWarning: A column-vector y was passed when a 1d array was expected. Please change the shape of y to (n_samples, ), for example using ravel().\n",
            "  y = column_or_1d(y, warn=True)\n",
            "/usr/local/lib/python3.6/dist-packages/sklearn/utils/validation.py:760: DataConversionWarning: A column-vector y was passed when a 1d array was expected. Please change the shape of y to (n_samples, ), for example using ravel().\n",
            "  y = column_or_1d(y, warn=True)\n",
            "/usr/local/lib/python3.6/dist-packages/sklearn/utils/validation.py:760: DataConversionWarning: A column-vector y was passed when a 1d array was expected. Please change the shape of y to (n_samples, ), for example using ravel().\n",
            "  y = column_or_1d(y, warn=True)\n",
            "/usr/local/lib/python3.6/dist-packages/sklearn/utils/validation.py:760: DataConversionWarning: A column-vector y was passed when a 1d array was expected. Please change the shape of y to (n_samples, ), for example using ravel().\n",
            "  y = column_or_1d(y, warn=True)\n",
            "/usr/local/lib/python3.6/dist-packages/sklearn/utils/validation.py:760: DataConversionWarning: A column-vector y was passed when a 1d array was expected. Please change the shape of y to (n_samples, ), for example using ravel().\n",
            "  y = column_or_1d(y, warn=True)\n",
            "/usr/local/lib/python3.6/dist-packages/sklearn/utils/validation.py:760: DataConversionWarning: A column-vector y was passed when a 1d array was expected. Please change the shape of y to (n_samples, ), for example using ravel().\n",
            "  y = column_or_1d(y, warn=True)\n",
            "/usr/local/lib/python3.6/dist-packages/sklearn/utils/validation.py:760: DataConversionWarning: A column-vector y was passed when a 1d array was expected. Please change the shape of y to (n_samples, ), for example using ravel().\n",
            "  y = column_or_1d(y, warn=True)\n",
            "/usr/local/lib/python3.6/dist-packages/sklearn/utils/validation.py:760: DataConversionWarning: A column-vector y was passed when a 1d array was expected. Please change the shape of y to (n_samples, ), for example using ravel().\n",
            "  y = column_or_1d(y, warn=True)\n",
            "/usr/local/lib/python3.6/dist-packages/sklearn/utils/validation.py:760: DataConversionWarning: A column-vector y was passed when a 1d array was expected. Please change the shape of y to (n_samples, ), for example using ravel().\n",
            "  y = column_or_1d(y, warn=True)\n",
            "/usr/local/lib/python3.6/dist-packages/sklearn/utils/validation.py:760: DataConversionWarning: A column-vector y was passed when a 1d array was expected. Please change the shape of y to (n_samples, ), for example using ravel().\n",
            "  y = column_or_1d(y, warn=True)\n",
            "/usr/local/lib/python3.6/dist-packages/sklearn/utils/validation.py:760: DataConversionWarning: A column-vector y was passed when a 1d array was expected. Please change the shape of y to (n_samples, ), for example using ravel().\n",
            "  y = column_or_1d(y, warn=True)\n",
            "/usr/local/lib/python3.6/dist-packages/sklearn/utils/validation.py:760: DataConversionWarning: A column-vector y was passed when a 1d array was expected. Please change the shape of y to (n_samples, ), for example using ravel().\n",
            "  y = column_or_1d(y, warn=True)\n",
            "/usr/local/lib/python3.6/dist-packages/sklearn/utils/validation.py:760: DataConversionWarning: A column-vector y was passed when a 1d array was expected. Please change the shape of y to (n_samples, ), for example using ravel().\n",
            "  y = column_or_1d(y, warn=True)\n",
            "/usr/local/lib/python3.6/dist-packages/sklearn/utils/validation.py:760: DataConversionWarning: A column-vector y was passed when a 1d array was expected. Please change the shape of y to (n_samples, ), for example using ravel().\n",
            "  y = column_or_1d(y, warn=True)\n",
            "/usr/local/lib/python3.6/dist-packages/sklearn/utils/validation.py:760: DataConversionWarning: A column-vector y was passed when a 1d array was expected. Please change the shape of y to (n_samples, ), for example using ravel().\n",
            "  y = column_or_1d(y, warn=True)\n",
            "/usr/local/lib/python3.6/dist-packages/sklearn/utils/validation.py:760: DataConversionWarning: A column-vector y was passed when a 1d array was expected. Please change the shape of y to (n_samples, ), for example using ravel().\n",
            "  y = column_or_1d(y, warn=True)\n",
            "/usr/local/lib/python3.6/dist-packages/sklearn/utils/validation.py:760: DataConversionWarning: A column-vector y was passed when a 1d array was expected. Please change the shape of y to (n_samples, ), for example using ravel().\n",
            "  y = column_or_1d(y, warn=True)\n",
            "/usr/local/lib/python3.6/dist-packages/sklearn/utils/validation.py:760: DataConversionWarning: A column-vector y was passed when a 1d array was expected. Please change the shape of y to (n_samples, ), for example using ravel().\n",
            "  y = column_or_1d(y, warn=True)\n",
            "/usr/local/lib/python3.6/dist-packages/sklearn/utils/validation.py:760: DataConversionWarning: A column-vector y was passed when a 1d array was expected. Please change the shape of y to (n_samples, ), for example using ravel().\n",
            "  y = column_or_1d(y, warn=True)\n",
            "/usr/local/lib/python3.6/dist-packages/sklearn/utils/validation.py:760: DataConversionWarning: A column-vector y was passed when a 1d array was expected. Please change the shape of y to (n_samples, ), for example using ravel().\n",
            "  y = column_or_1d(y, warn=True)\n",
            "/usr/local/lib/python3.6/dist-packages/sklearn/utils/validation.py:760: DataConversionWarning: A column-vector y was passed when a 1d array was expected. Please change the shape of y to (n_samples, ), for example using ravel().\n",
            "  y = column_or_1d(y, warn=True)\n",
            "/usr/local/lib/python3.6/dist-packages/sklearn/utils/validation.py:760: DataConversionWarning: A column-vector y was passed when a 1d array was expected. Please change the shape of y to (n_samples, ), for example using ravel().\n",
            "  y = column_or_1d(y, warn=True)\n"
          ],
          "name": "stderr"
        },
        {
          "output_type": "stream",
          "text": [
            "[CV] ....... C=100, gamma=0.01, kernel=rbf, score=0.548, total=   0.0s\n",
            "[CV] C=100, gamma=0.001, kernel=rbf ..................................\n",
            "[CV] ...... C=100, gamma=0.001, kernel=rbf, score=0.628, total=   0.0s\n",
            "[CV] C=100, gamma=0.001, kernel=rbf ..................................\n",
            "[CV] ...... C=100, gamma=0.001, kernel=rbf, score=0.605, total=   0.0s\n",
            "[CV] C=100, gamma=0.001, kernel=rbf ..................................\n",
            "[CV] ...... C=100, gamma=0.001, kernel=rbf, score=0.619, total=   0.0s\n",
            "[CV] C=100, gamma=0.001, kernel=rbf ..................................\n",
            "[CV] ...... C=100, gamma=0.001, kernel=rbf, score=0.524, total=   0.0s\n",
            "[CV] C=100, gamma=0.001, kernel=rbf ..................................\n",
            "[CV] ...... C=100, gamma=0.001, kernel=rbf, score=0.595, total=   0.0s\n",
            "[CV] C=100, gamma=0.0001, kernel=rbf .................................\n",
            "[CV] ..... C=100, gamma=0.0001, kernel=rbf, score=0.767, total=   0.0s\n",
            "[CV] C=100, gamma=0.0001, kernel=rbf .................................\n",
            "[CV] ..... C=100, gamma=0.0001, kernel=rbf, score=0.837, total=   0.0s\n",
            "[CV] C=100, gamma=0.0001, kernel=rbf .................................\n",
            "[CV] ..... C=100, gamma=0.0001, kernel=rbf, score=0.619, total=   0.0s\n",
            "[CV] C=100, gamma=0.0001, kernel=rbf .................................\n",
            "[CV] ..... C=100, gamma=0.0001, kernel=rbf, score=0.762, total=   0.0s\n",
            "[CV] C=100, gamma=0.0001, kernel=rbf .................................\n",
            "[CV] ..... C=100, gamma=0.0001, kernel=rbf, score=0.738, total=   0.0s\n",
            "[CV] C=1000, gamma=1, kernel=rbf .....................................\n",
            "[CV] ......... C=1000, gamma=1, kernel=rbf, score=0.535, total=   0.0s\n",
            "[CV] C=1000, gamma=1, kernel=rbf .....................................\n",
            "[CV] ......... C=1000, gamma=1, kernel=rbf, score=0.535, total=   0.0s\n",
            "[CV] C=1000, gamma=1, kernel=rbf .....................................\n",
            "[CV] ......... C=1000, gamma=1, kernel=rbf, score=0.548, total=   0.0s\n",
            "[CV] C=1000, gamma=1, kernel=rbf .....................................\n",
            "[CV] ......... C=1000, gamma=1, kernel=rbf, score=0.548, total=   0.0s\n",
            "[CV] C=1000, gamma=1, kernel=rbf .....................................\n",
            "[CV] ......... C=1000, gamma=1, kernel=rbf, score=0.548, total=   0.0s\n",
            "[CV] C=1000, gamma=0.1, kernel=rbf ...................................\n",
            "[CV] ....... C=1000, gamma=0.1, kernel=rbf, score=0.535, total=   0.0s\n",
            "[CV] C=1000, gamma=0.1, kernel=rbf ...................................\n",
            "[CV] ....... C=1000, gamma=0.1, kernel=rbf, score=0.535, total=   0.0s\n",
            "[CV] C=1000, gamma=0.1, kernel=rbf ...................................\n",
            "[CV] ....... C=1000, gamma=0.1, kernel=rbf, score=0.548, total=   0.0s\n",
            "[CV] C=1000, gamma=0.1, kernel=rbf ...................................\n",
            "[CV] ....... C=1000, gamma=0.1, kernel=rbf, score=0.548, total=   0.0s\n",
            "[CV] C=1000, gamma=0.1, kernel=rbf ...................................\n",
            "[CV] ....... C=1000, gamma=0.1, kernel=rbf, score=0.548, total=   0.0s\n",
            "[CV] C=1000, gamma=0.01, kernel=rbf ..................................\n",
            "[CV] ...... C=1000, gamma=0.01, kernel=rbf, score=0.535, total=   0.0s\n",
            "[CV] C=1000, gamma=0.01, kernel=rbf ..................................\n",
            "[CV] ...... C=1000, gamma=0.01, kernel=rbf, score=0.442, total=   0.0s\n",
            "[CV] C=1000, gamma=0.01, kernel=rbf ..................................\n",
            "[CV] ...... C=1000, gamma=0.01, kernel=rbf, score=0.643, total=   0.0s\n",
            "[CV] C=1000, gamma=0.01, kernel=rbf ..................................\n",
            "[CV] ...... C=1000, gamma=0.01, kernel=rbf, score=0.595, total=   0.0s\n",
            "[CV] C=1000, gamma=0.01, kernel=rbf ..................................\n",
            "[CV] ...... C=1000, gamma=0.01, kernel=rbf, score=0.548, total=   0.0s\n",
            "[CV] C=1000, gamma=0.001, kernel=rbf .................................\n",
            "[CV] ..... C=1000, gamma=0.001, kernel=rbf, score=0.628, total=   0.0s\n",
            "[CV] C=1000, gamma=0.001, kernel=rbf .................................\n",
            "[CV] ..... C=1000, gamma=0.001, kernel=rbf, score=0.605, total=   0.0s\n",
            "[CV] C=1000, gamma=0.001, kernel=rbf .................................\n",
            "[CV] ..... C=1000, gamma=0.001, kernel=rbf, score=0.595, total=   0.0s\n",
            "[CV] C=1000, gamma=0.001, kernel=rbf .................................\n",
            "[CV] ..... C=1000, gamma=0.001, kernel=rbf, score=0.500, total=   0.0s\n",
            "[CV] C=1000, gamma=0.001, kernel=rbf .................................\n",
            "[CV] ..... C=1000, gamma=0.001, kernel=rbf, score=0.595, total=   0.0s\n",
            "[CV] C=1000, gamma=0.0001, kernel=rbf ................................\n",
            "[CV] .... C=1000, gamma=0.0001, kernel=rbf, score=0.721, total=   0.0s\n",
            "[CV] C=1000, gamma=0.0001, kernel=rbf ................................\n"
          ],
          "name": "stdout"
        },
        {
          "output_type": "stream",
          "text": [
            "/usr/local/lib/python3.6/dist-packages/sklearn/utils/validation.py:760: DataConversionWarning: A column-vector y was passed when a 1d array was expected. Please change the shape of y to (n_samples, ), for example using ravel().\n",
            "  y = column_or_1d(y, warn=True)\n",
            "/usr/local/lib/python3.6/dist-packages/sklearn/utils/validation.py:760: DataConversionWarning: A column-vector y was passed when a 1d array was expected. Please change the shape of y to (n_samples, ), for example using ravel().\n",
            "  y = column_or_1d(y, warn=True)\n",
            "/usr/local/lib/python3.6/dist-packages/sklearn/utils/validation.py:760: DataConversionWarning: A column-vector y was passed when a 1d array was expected. Please change the shape of y to (n_samples, ), for example using ravel().\n",
            "  y = column_or_1d(y, warn=True)\n",
            "/usr/local/lib/python3.6/dist-packages/sklearn/utils/validation.py:760: DataConversionWarning: A column-vector y was passed when a 1d array was expected. Please change the shape of y to (n_samples, ), for example using ravel().\n",
            "  y = column_or_1d(y, warn=True)\n",
            "/usr/local/lib/python3.6/dist-packages/sklearn/utils/validation.py:760: DataConversionWarning: A column-vector y was passed when a 1d array was expected. Please change the shape of y to (n_samples, ), for example using ravel().\n",
            "  y = column_or_1d(y, warn=True)\n",
            "/usr/local/lib/python3.6/dist-packages/sklearn/utils/validation.py:760: DataConversionWarning: A column-vector y was passed when a 1d array was expected. Please change the shape of y to (n_samples, ), for example using ravel().\n",
            "  y = column_or_1d(y, warn=True)\n",
            "/usr/local/lib/python3.6/dist-packages/sklearn/utils/validation.py:760: DataConversionWarning: A column-vector y was passed when a 1d array was expected. Please change the shape of y to (n_samples, ), for example using ravel().\n",
            "  y = column_or_1d(y, warn=True)\n",
            "/usr/local/lib/python3.6/dist-packages/sklearn/utils/validation.py:760: DataConversionWarning: A column-vector y was passed when a 1d array was expected. Please change the shape of y to (n_samples, ), for example using ravel().\n",
            "  y = column_or_1d(y, warn=True)\n",
            "/usr/local/lib/python3.6/dist-packages/sklearn/utils/validation.py:760: DataConversionWarning: A column-vector y was passed when a 1d array was expected. Please change the shape of y to (n_samples, ), for example using ravel().\n",
            "  y = column_or_1d(y, warn=True)\n",
            "/usr/local/lib/python3.6/dist-packages/sklearn/utils/validation.py:760: DataConversionWarning: A column-vector y was passed when a 1d array was expected. Please change the shape of y to (n_samples, ), for example using ravel().\n",
            "  y = column_or_1d(y, warn=True)\n",
            "/usr/local/lib/python3.6/dist-packages/sklearn/utils/validation.py:760: DataConversionWarning: A column-vector y was passed when a 1d array was expected. Please change the shape of y to (n_samples, ), for example using ravel().\n",
            "  y = column_or_1d(y, warn=True)\n",
            "/usr/local/lib/python3.6/dist-packages/sklearn/utils/validation.py:760: DataConversionWarning: A column-vector y was passed when a 1d array was expected. Please change the shape of y to (n_samples, ), for example using ravel().\n",
            "  y = column_or_1d(y, warn=True)\n",
            "/usr/local/lib/python3.6/dist-packages/sklearn/utils/validation.py:760: DataConversionWarning: A column-vector y was passed when a 1d array was expected. Please change the shape of y to (n_samples, ), for example using ravel().\n",
            "  y = column_or_1d(y, warn=True)\n",
            "/usr/local/lib/python3.6/dist-packages/sklearn/utils/validation.py:760: DataConversionWarning: A column-vector y was passed when a 1d array was expected. Please change the shape of y to (n_samples, ), for example using ravel().\n",
            "  y = column_or_1d(y, warn=True)\n",
            "/usr/local/lib/python3.6/dist-packages/sklearn/utils/validation.py:760: DataConversionWarning: A column-vector y was passed when a 1d array was expected. Please change the shape of y to (n_samples, ), for example using ravel().\n",
            "  y = column_or_1d(y, warn=True)\n",
            "/usr/local/lib/python3.6/dist-packages/sklearn/utils/validation.py:760: DataConversionWarning: A column-vector y was passed when a 1d array was expected. Please change the shape of y to (n_samples, ), for example using ravel().\n",
            "  y = column_or_1d(y, warn=True)\n",
            "/usr/local/lib/python3.6/dist-packages/sklearn/utils/validation.py:760: DataConversionWarning: A column-vector y was passed when a 1d array was expected. Please change the shape of y to (n_samples, ), for example using ravel().\n",
            "  y = column_or_1d(y, warn=True)\n",
            "/usr/local/lib/python3.6/dist-packages/sklearn/utils/validation.py:760: DataConversionWarning: A column-vector y was passed when a 1d array was expected. Please change the shape of y to (n_samples, ), for example using ravel().\n",
            "  y = column_or_1d(y, warn=True)\n",
            "/usr/local/lib/python3.6/dist-packages/sklearn/utils/validation.py:760: DataConversionWarning: A column-vector y was passed when a 1d array was expected. Please change the shape of y to (n_samples, ), for example using ravel().\n",
            "  y = column_or_1d(y, warn=True)\n",
            "/usr/local/lib/python3.6/dist-packages/sklearn/utils/validation.py:760: DataConversionWarning: A column-vector y was passed when a 1d array was expected. Please change the shape of y to (n_samples, ), for example using ravel().\n",
            "  y = column_or_1d(y, warn=True)\n",
            "/usr/local/lib/python3.6/dist-packages/sklearn/utils/validation.py:760: DataConversionWarning: A column-vector y was passed when a 1d array was expected. Please change the shape of y to (n_samples, ), for example using ravel().\n",
            "  y = column_or_1d(y, warn=True)\n",
            "/usr/local/lib/python3.6/dist-packages/sklearn/utils/validation.py:760: DataConversionWarning: A column-vector y was passed when a 1d array was expected. Please change the shape of y to (n_samples, ), for example using ravel().\n",
            "  y = column_or_1d(y, warn=True)\n",
            "/usr/local/lib/python3.6/dist-packages/sklearn/utils/validation.py:760: DataConversionWarning: A column-vector y was passed when a 1d array was expected. Please change the shape of y to (n_samples, ), for example using ravel().\n",
            "  y = column_or_1d(y, warn=True)\n",
            "/usr/local/lib/python3.6/dist-packages/sklearn/utils/validation.py:760: DataConversionWarning: A column-vector y was passed when a 1d array was expected. Please change the shape of y to (n_samples, ), for example using ravel().\n",
            "  y = column_or_1d(y, warn=True)\n",
            "/usr/local/lib/python3.6/dist-packages/sklearn/utils/validation.py:760: DataConversionWarning: A column-vector y was passed when a 1d array was expected. Please change the shape of y to (n_samples, ), for example using ravel().\n",
            "  y = column_or_1d(y, warn=True)\n",
            "/usr/local/lib/python3.6/dist-packages/sklearn/utils/validation.py:760: DataConversionWarning: A column-vector y was passed when a 1d array was expected. Please change the shape of y to (n_samples, ), for example using ravel().\n",
            "  y = column_or_1d(y, warn=True)\n",
            "/usr/local/lib/python3.6/dist-packages/sklearn/utils/validation.py:760: DataConversionWarning: A column-vector y was passed when a 1d array was expected. Please change the shape of y to (n_samples, ), for example using ravel().\n",
            "  y = column_or_1d(y, warn=True)\n",
            "/usr/local/lib/python3.6/dist-packages/sklearn/utils/validation.py:760: DataConversionWarning: A column-vector y was passed when a 1d array was expected. Please change the shape of y to (n_samples, ), for example using ravel().\n",
            "  y = column_or_1d(y, warn=True)\n",
            "/usr/local/lib/python3.6/dist-packages/sklearn/utils/validation.py:760: DataConversionWarning: A column-vector y was passed when a 1d array was expected. Please change the shape of y to (n_samples, ), for example using ravel().\n",
            "  y = column_or_1d(y, warn=True)\n",
            "/usr/local/lib/python3.6/dist-packages/sklearn/utils/validation.py:760: DataConversionWarning: A column-vector y was passed when a 1d array was expected. Please change the shape of y to (n_samples, ), for example using ravel().\n",
            "  y = column_or_1d(y, warn=True)\n",
            "/usr/local/lib/python3.6/dist-packages/sklearn/utils/validation.py:760: DataConversionWarning: A column-vector y was passed when a 1d array was expected. Please change the shape of y to (n_samples, ), for example using ravel().\n",
            "  y = column_or_1d(y, warn=True)\n"
          ],
          "name": "stderr"
        },
        {
          "output_type": "stream",
          "text": [
            "[CV] .... C=1000, gamma=0.0001, kernel=rbf, score=0.767, total=   0.0s\n",
            "[CV] C=1000, gamma=0.0001, kernel=rbf ................................\n",
            "[CV] .... C=1000, gamma=0.0001, kernel=rbf, score=0.738, total=   0.0s\n",
            "[CV] C=1000, gamma=0.0001, kernel=rbf ................................\n",
            "[CV] .... C=1000, gamma=0.0001, kernel=rbf, score=0.738, total=   0.0s\n",
            "[CV] C=1000, gamma=0.0001, kernel=rbf ................................\n",
            "[CV] .... C=1000, gamma=0.0001, kernel=rbf, score=0.643, total=   0.0s\n"
          ],
          "name": "stdout"
        },
        {
          "output_type": "stream",
          "text": [
            "/usr/local/lib/python3.6/dist-packages/sklearn/utils/validation.py:760: DataConversionWarning: A column-vector y was passed when a 1d array was expected. Please change the shape of y to (n_samples, ), for example using ravel().\n",
            "  y = column_or_1d(y, warn=True)\n",
            "/usr/local/lib/python3.6/dist-packages/sklearn/utils/validation.py:760: DataConversionWarning: A column-vector y was passed when a 1d array was expected. Please change the shape of y to (n_samples, ), for example using ravel().\n",
            "  y = column_or_1d(y, warn=True)\n",
            "/usr/local/lib/python3.6/dist-packages/sklearn/utils/validation.py:760: DataConversionWarning: A column-vector y was passed when a 1d array was expected. Please change the shape of y to (n_samples, ), for example using ravel().\n",
            "  y = column_or_1d(y, warn=True)\n",
            "[Parallel(n_jobs=1)]: Done 150 out of 150 | elapsed:    0.9s finished\n",
            "/usr/local/lib/python3.6/dist-packages/sklearn/utils/validation.py:760: DataConversionWarning: A column-vector y was passed when a 1d array was expected. Please change the shape of y to (n_samples, ), for example using ravel().\n",
            "  y = column_or_1d(y, warn=True)\n"
          ],
          "name": "stderr"
        },
        {
          "output_type": "execute_result",
          "data": {
            "text/plain": [
              "GridSearchCV(cv=None, error_score=nan,\n",
              "             estimator=SVC(C=1.0, break_ties=False, cache_size=200,\n",
              "                           class_weight=None, coef0=0.0,\n",
              "                           decision_function_shape='ovr', degree=3,\n",
              "                           gamma='scale', kernel='rbf', max_iter=-1,\n",
              "                           probability=False, random_state=None, shrinking=True,\n",
              "                           tol=0.001, verbose=False),\n",
              "             iid='deprecated', n_jobs=None,\n",
              "             param_grid={'C': [0.1, 0.5, 1, 10, 100, 1000],\n",
              "                         'gamma': [1, 0.1, 0.01, 0.001, 0.0001],\n",
              "                         'kernel': ['rbf']},\n",
              "             pre_dispatch='2*n_jobs', refit=True, return_train_score=False,\n",
              "             scoring=None, verbose=3)"
            ]
          },
          "metadata": {
            "tags": []
          },
          "execution_count": 207
        }
      ]
    },
    {
      "cell_type": "markdown",
      "metadata": {
        "id": "UyF4aZhiq_hg",
        "colab_type": "text"
      },
      "source": [
        "Irei me abster da explicação de como funciona o SVM, visto que foge do escopo do nosso objetivo, pois sua metodologia utiliza conceítos de Algebra vetorial avançado. Assim, irei fazer uma analogia simples , para um breve entendimento do modelo."
      ]
    },
    {
      "cell_type": "markdown",
      "metadata": {
        "id": "J3jNY4xfroTq",
        "colab_type": "text"
      },
      "source": [
        "Pense que estou no espaço 2D. Assim, nesse local se encontram um conjuto de bolas vermelhas(pontos do tipo 1) com um envoltório de bolas azuis(pontos do tipo 2). Nesse caso a pergunta fica meio filosófica, pois estamos no espaço 2D, mas existe algum plano que consiga separar os 2 conjuntos de pontos?"
      ]
    },
    {
      "cell_type": "markdown",
      "metadata": {
        "id": "d8mNFOszsdIw",
        "colab_type": "text"
      },
      "source": [
        "A reposta é não para tal dimensão, mas imagine agora que fazemos uma transformação linear do tip (x,y) ---> (x,y,x²+y²). Iremos criar um paraboloíde 3D, e ajustando-o de forma aceitável, os pontos vermelhos ficaram na parte inferior e os pontos azuis na parte superior, assim conseguimos um plano que passe pelo paraboloíde. Dessa maneira, fazemos uma transformação do R3 para o R2. E nesse sentido obteremos no nosso caso uma elipse/círculo."
      ]
    },
    {
      "cell_type": "markdown",
      "metadata": {
        "id": "F-pHBla0uNaA",
        "colab_type": "text"
      },
      "source": [
        "Agora em semelhança básica, o que o SVM faz é análogo, contudo no espaço de n dimensões com um hiper-plano"
      ]
    },
    {
      "cell_type": "code",
      "metadata": {
        "id": "RYCWIKLI8XAo",
        "colab_type": "code",
        "outputId": "bda398f9-7ef7-47bc-ac9b-a00ffa1c8495",
        "colab": {
          "base_uri": "https://localhost:8080/",
          "height": 34
        }
      },
      "source": [
        "grid.best_params_"
      ],
      "execution_count": 0,
      "outputs": [
        {
          "output_type": "execute_result",
          "data": {
            "text/plain": [
              "{'C': 100, 'gamma': 0.0001, 'kernel': 'rbf'}"
            ]
          },
          "metadata": {
            "tags": []
          },
          "execution_count": 208
        }
      ]
    },
    {
      "cell_type": "code",
      "metadata": {
        "id": "mRHDMNLz8cf-",
        "colab_type": "code",
        "colab": {}
      },
      "source": [
        "svm_pred_train = grid.predict(x_train)"
      ],
      "execution_count": 0,
      "outputs": []
    },
    {
      "cell_type": "code",
      "metadata": {
        "id": "4M4GlpoY8ewp",
        "colab_type": "code",
        "outputId": "8d65ad75-4aaf-4347-ee89-1c009269a2cb",
        "colab": {
          "base_uri": "https://localhost:8080/",
          "height": 265
        }
      },
      "source": [
        "svm = confusion_matrix(y_train,svm_pred_train)\n",
        "sns.heatmap(svm, annot=True);"
      ],
      "execution_count": 0,
      "outputs": [
        {
          "output_type": "display_data",
          "data": {
            "image/png": "[encoded data removed]",
            "text/plain": [
              "<Figure size 432x288 with 2 Axes>"
            ]
          },
          "metadata": {
            "tags": []
          }
        }
      ]
    },
    {
      "cell_type": "markdown",
      "metadata": {
        "id": "Cqv_OPgj8qOn",
        "colab_type": "text"
      },
      "source": [
        "Vemos que a accuracy na base de treinamento foi 87.7%"
      ]
    },
    {
      "cell_type": "code",
      "metadata": {
        "id": "f1-N-Oz0TeHM",
        "colab_type": "code",
        "outputId": "80665834-5d70-435e-f94f-36c9bc09ecac",
        "colab": {
          "base_uri": "https://localhost:8080/",
          "height": 170
        }
      },
      "source": [
        "print(classification_report(y_train, svm_pred_train))"
      ],
      "execution_count": 0,
      "outputs": [
        {
          "output_type": "stream",
          "text": [
            "              precision    recall  f1-score   support\n",
            "\n",
            "           0       0.87      0.87      0.87        97\n",
            "           1       0.89      0.89      0.89       115\n",
            "\n",
            "    accuracy                           0.88       212\n",
            "   macro avg       0.88      0.88      0.88       212\n",
            "weighted avg       0.88      0.88      0.88       212\n",
            "\n"
          ],
          "name": "stdout"
        }
      ]
    },
    {
      "cell_type": "markdown",
      "metadata": {
        "id": "gFjzIRW7Ei_n",
        "colab_type": "text"
      },
      "source": [
        "# Construção e treinamento do modelo:XGBoost"
      ]
    },
    {
      "cell_type": "markdown",
      "metadata": {
        "id": "M2OkT7HTEuda",
        "colab_type": "text"
      },
      "source": [
        "O último modelo é o XGBosst."
      ]
    },
    {
      "cell_type": "code",
      "metadata": {
        "id": "-5O0xhIjE7pH",
        "colab_type": "code",
        "colab": {}
      },
      "source": [
        "from xgboost import XGBClassifier"
      ],
      "execution_count": 0,
      "outputs": []
    },
    {
      "cell_type": "code",
      "metadata": {
        "id": "0rdBjw43FrWZ",
        "colab_type": "code",
        "outputId": "643045f8-0501-4498-fa0d-f63fa48a375b",
        "colab": {
          "base_uri": "https://localhost:8080/",
          "height": 224
        }
      },
      "source": [
        "model = XGBClassifier()\n",
        "model.fit(x_train, y_train)"
      ],
      "execution_count": 0,
      "outputs": [
        {
          "output_type": "stream",
          "text": [
            "/usr/local/lib/python3.6/dist-packages/sklearn/preprocessing/_label.py:235: DataConversionWarning: A column-vector y was passed when a 1d array was expected. Please change the shape of y to (n_samples, ), for example using ravel().\n",
            "  y = column_or_1d(y, warn=True)\n",
            "/usr/local/lib/python3.6/dist-packages/sklearn/preprocessing/_label.py:268: DataConversionWarning: A column-vector y was passed when a 1d array was expected. Please change the shape of y to (n_samples, ), for example using ravel().\n",
            "  y = column_or_1d(y, warn=True)\n"
          ],
          "name": "stderr"
        },
        {
          "output_type": "execute_result",
          "data": {
            "text/plain": [
              "XGBClassifier(base_score=0.5, booster='gbtree', colsample_bylevel=1,\n",
              "              colsample_bynode=1, colsample_bytree=1, gamma=0,\n",
              "              learning_rate=0.1, max_delta_step=0, max_depth=3,\n",
              "              min_child_weight=1, missing=None, n_estimators=100, n_jobs=1,\n",
              "              nthread=None, objective='binary:logistic', random_state=0,\n",
              "              reg_alpha=0, reg_lambda=1, scale_pos_weight=1, seed=None,\n",
              "              silent=None, subsample=1, verbosity=1)"
            ]
          },
          "metadata": {
            "tags": []
          },
          "execution_count": 212
        }
      ]
    },
    {
      "cell_type": "markdown",
      "metadata": {
        "id": "c6p68N7tuTZv",
        "colab_type": "text"
      },
      "source": [
        "O XGBoost é um poderoso algoritmo que usa o conceito de árvore de decisão, contudo inova ao adicionar a estrutura de \"Gradient Boosting\", que adiciona técnicas de otimização para o calculo do erro."
      ]
    },
    {
      "cell_type": "code",
      "metadata": {
        "id": "a77q7vJ7GFgF",
        "colab_type": "code",
        "outputId": "089861ba-59e7-4915-c399-3c3f9b8de706",
        "colab": {
          "base_uri": "https://localhost:8080/",
          "height": 265
        }
      },
      "source": [
        "xgb_pred_train = model.predict(x_train)\n",
        "xgb = confusion_matrix(y_train,xgb_pred_train)\n",
        "sns.heatmap(xgb, annot=True);"
      ],
      "execution_count": 0,
      "outputs": [
        {
          "output_type": "display_data",
          "data": {
            "image/png": "[encoded data removed]",
            "text/plain": [
              "<Figure size 432x288 with 2 Axes>"
            ]
          },
          "metadata": {
            "tags": []
          }
        }
      ]
    },
    {
      "cell_type": "markdown",
      "metadata": {
        "id": "8vgcsWGWGZ7G",
        "colab_type": "text"
      },
      "source": [
        "O XGBoost possuiu uma accuracy de 98% sobre a base de treinamento."
      ]
    },
    {
      "cell_type": "code",
      "metadata": {
        "id": "JFOf3Z08T9jh",
        "colab_type": "code",
        "outputId": "3a5fd018-1e32-4ec4-91c8-19eb26305bb9",
        "colab": {
          "base_uri": "https://localhost:8080/",
          "height": 170
        }
      },
      "source": [
        "print(classification_report(y_train, xgb_pred_train))"
      ],
      "execution_count": 0,
      "outputs": [
        {
          "output_type": "stream",
          "text": [
            "              precision    recall  f1-score   support\n",
            "\n",
            "           0       0.99      0.97      0.98        97\n",
            "           1       0.97      0.99      0.98       115\n",
            "\n",
            "    accuracy                           0.98       212\n",
            "   macro avg       0.98      0.98      0.98       212\n",
            "weighted avg       0.98      0.98      0.98       212\n",
            "\n"
          ],
          "name": "stdout"
        }
      ]
    },
    {
      "cell_type": "markdown",
      "metadata": {
        "id": "cb7y2NRj83c4",
        "colab_type": "text"
      },
      "source": [
        "# Avaliacão do modelos"
      ]
    },
    {
      "cell_type": "markdown",
      "metadata": {
        "id": "ctX3Rpwh9Cof",
        "colab_type": "text"
      },
      "source": [
        "**Avaliação da NeuralNetwork/MLP**"
      ]
    },
    {
      "cell_type": "code",
      "metadata": {
        "id": "Mi6LUfMX9I3Z",
        "colab_type": "code",
        "outputId": "c19a40a1-7154-4f40-f193-fec3bb6a4050",
        "colab": {
          "base_uri": "https://localhost:8080/",
          "height": 265
        }
      },
      "source": [
        "mlp_pred_test = classifier.predict(x_test)\n",
        "mlp_pred_test = (mlp_pred_test > 0.5)\n",
        "Neural = confusion_matrix(y_test, mlp_pred_test)\n",
        "sns.heatmap(Neural, annot=True);"
      ],
      "execution_count": 0,
      "outputs": [
        {
          "output_type": "display_data",
          "data": {
            "image/png": "[encoded data removed]",
            "text/plain": [
              "<Figure size 432x288 with 2 Axes>"
            ]
          },
          "metadata": {
            "tags": []
          }
        }
      ]
    },
    {
      "cell_type": "markdown",
      "metadata": {
        "id": "bx-P4B789mHA",
        "colab_type": "text"
      },
      "source": [
        "A rede neural apresentou uma accuracy de 84.6%, é importante salientar que a rede neural criou um sistema eficaz pois de 87.6% na base de treinamento sua accuracy só reduziiu em 3%.\n"
      ]
    },
    {
      "cell_type": "code",
      "metadata": {
        "id": "jk2uLwBJURFb",
        "colab_type": "code",
        "outputId": "6743c9db-4b3f-4019-d9c8-039e1cfc37d8",
        "colab": {
          "base_uri": "https://localhost:8080/",
          "height": 170
        }
      },
      "source": [
        "print(classification_report(y_test, mlp_pred_test))"
      ],
      "execution_count": 0,
      "outputs": [
        {
          "output_type": "stream",
          "text": [
            "              precision    recall  f1-score   support\n",
            "\n",
            "           0       0.89      0.76      0.82        41\n",
            "           1       0.82      0.92      0.87        50\n",
            "\n",
            "    accuracy                           0.85        91\n",
            "   macro avg       0.85      0.84      0.84        91\n",
            "weighted avg       0.85      0.85      0.84        91\n",
            "\n"
          ],
          "name": "stdout"
        }
      ]
    },
    {
      "cell_type": "markdown",
      "metadata": {
        "id": "GlsKru5G9ueW",
        "colab_type": "text"
      },
      "source": [
        "**Avaliação da DecisionTree/RandomForest**"
      ]
    },
    {
      "cell_type": "code",
      "metadata": {
        "id": "nXYzhIIA92xn",
        "colab_type": "code",
        "outputId": "146a4615-6a8d-4358-da77-6516766f7c3c",
        "colab": {
          "base_uri": "https://localhost:8080/",
          "height": 265
        }
      },
      "source": [
        "rfc_pred_test = rfc.predict(x_test)\n",
        "rfc_pred_test = rfc_pred_test == 1\n",
        "Tree = confusion_matrix(y_test, rfc_pred_test)\n",
        "sns.heatmap(Tree, annot=True);"
      ],
      "execution_count": 0,
      "outputs": [
        {
          "output_type": "display_data",
          "data": {
            "image/png": "[encoded data removed]",
            "text/plain": [
              "<Figure size 432x288 with 2 Axes>"
            ]
          },
          "metadata": {
            "tags": []
          }
        }
      ]
    },
    {
      "cell_type": "markdown",
      "metadata": {
        "id": "pbAM9dCD-KAa",
        "colab_type": "text"
      },
      "source": [
        "A floresta de decisão apresentou uma accuracy de 82,4%, nesse sentido ve-se um claro problema desse modelo, pois ele possui tendência a dar overfitting. Como vemos, a redução na accuracy foi de 17,6%."
      ]
    },
    {
      "cell_type": "code",
      "metadata": {
        "id": "7mv8baCIUZRS",
        "colab_type": "code",
        "outputId": "69dbf8a0-5c28-444f-bfa8-cd0c32002189",
        "colab": {
          "base_uri": "https://localhost:8080/",
          "height": 170
        }
      },
      "source": [
        "print(classification_report(y_test, rfc_pred_test))"
      ],
      "execution_count": 0,
      "outputs": [
        {
          "output_type": "stream",
          "text": [
            "              precision    recall  f1-score   support\n",
            "\n",
            "           0       0.80      0.80      0.80        41\n",
            "           1       0.84      0.84      0.84        50\n",
            "\n",
            "    accuracy                           0.82        91\n",
            "   macro avg       0.82      0.82      0.82        91\n",
            "weighted avg       0.82      0.82      0.82        91\n",
            "\n"
          ],
          "name": "stdout"
        }
      ]
    },
    {
      "cell_type": "markdown",
      "metadata": {
        "id": "JyNFTq4R-T-P",
        "colab_type": "text"
      },
      "source": [
        "**Avaliação da SVMs**\n",
        "\n"
      ]
    },
    {
      "cell_type": "code",
      "metadata": {
        "id": "NQvX2RBU-cxH",
        "colab_type": "code",
        "outputId": "85bdb801-e7aa-49a1-e5ff-bd9da61bfc79",
        "colab": {
          "base_uri": "https://localhost:8080/",
          "height": 269
        }
      },
      "source": [
        "svms_pred_test = grid.predict(x_test)\n",
        "svms_pred_test = svms_pred_test == 1\n",
        "svms = confusion_matrix(y_test, svms_pred_test)\n",
        "sns.heatmap(svms, annot=True);"
      ],
      "execution_count": 0,
      "outputs": [
        {
          "output_type": "display_data",
          "data": {
            "image/png": "[encoded data removed]",
            "text/plain": [
              "<Figure size 432x288 with 2 Axes>"
            ]
          },
          "metadata": {
            "tags": []
          }
        }
      ]
    },
    {
      "cell_type": "markdown",
      "metadata": {
        "id": "EF2et7EB-oOc",
        "colab_type": "text"
      },
      "source": [
        "O SVMs obteve também 79,1%, diferentemente da floresta de decisão tivemos uma redução moderada na precisão, caindo de 87,7%, ou seja, uma redução de 8,6%."
      ]
    },
    {
      "cell_type": "code",
      "metadata": {
        "id": "ai4pFNKFUpUk",
        "colab_type": "code",
        "outputId": "25f29ce5-d8b8-4bae-8997-f036e150ea34",
        "colab": {
          "base_uri": "https://localhost:8080/",
          "height": 170
        }
      },
      "source": [
        "print(classification_report(y_test, svms_pred_test))"
      ],
      "execution_count": 0,
      "outputs": [
        {
          "output_type": "stream",
          "text": [
            "              precision    recall  f1-score   support\n",
            "\n",
            "           0       0.76      0.78      0.77        41\n",
            "           1       0.82      0.80      0.81        50\n",
            "\n",
            "    accuracy                           0.79        91\n",
            "   macro avg       0.79      0.79      0.79        91\n",
            "weighted avg       0.79      0.79      0.79        91\n",
            "\n"
          ],
          "name": "stdout"
        }
      ]
    },
    {
      "cell_type": "markdown",
      "metadata": {
        "id": "KQvjSMxvGo7M",
        "colab_type": "text"
      },
      "source": [
        "**Avaliação do XGBoost**"
      ]
    },
    {
      "cell_type": "code",
      "metadata": {
        "id": "VL8Y7AXbGta0",
        "colab_type": "code",
        "outputId": "ca471fb3-2f6f-4a8d-94c5-b5759b023c5f",
        "colab": {
          "base_uri": "https://localhost:8080/",
          "height": 269
        }
      },
      "source": [
        "xgb_pred_test = model.predict(x_test)\n",
        "xgb_pred_test = xgb_pred_test == 1\n",
        "xgb = confusion_matrix(y_test,xgb_pred_test)\n",
        "sns.heatmap(xgb, annot=True);"
      ],
      "execution_count": 0,
      "outputs": [
        {
          "output_type": "display_data",
          "data": {
            "image/png": "[encoded data removed]",
            "text/plain": [
              "<Figure size 432x288 with 2 Axes>"
            ]
          },
          "metadata": {
            "tags": []
          }
        }
      ]
    },
    {
      "cell_type": "markdown",
      "metadata": {
        "id": "AjTZaX4PHf2r",
        "colab_type": "text"
      },
      "source": [
        "Vemos que o XGBoost sofreu de uma queda acentuada também na accuracy, caindo de 98% na base de treinamento para 81,3% no teste. Assim, uma queda de 16,7%."
      ]
    },
    {
      "cell_type": "code",
      "metadata": {
        "id": "D_ssJmx5Uxa7",
        "colab_type": "code",
        "outputId": "3b52e289-4c32-4d0b-f472-28964fba7a35",
        "colab": {
          "base_uri": "https://localhost:8080/",
          "height": 170
        }
      },
      "source": [
        "print(classification_report(y_test, xgb_pred_test))"
      ],
      "execution_count": 0,
      "outputs": [
        {
          "output_type": "stream",
          "text": [
            "              precision    recall  f1-score   support\n",
            "\n",
            "           0       0.77      0.83      0.80        41\n",
            "           1       0.85      0.80      0.82        50\n",
            "\n",
            "    accuracy                           0.81        91\n",
            "   macro avg       0.81      0.81      0.81        91\n",
            "weighted avg       0.82      0.81      0.81        91\n",
            "\n"
          ],
          "name": "stdout"
        }
      ]
    },
    {
      "cell_type": "markdown",
      "metadata": {
        "id": "eRTVrRq3HytW",
        "colab_type": "text"
      },
      "source": [
        "**Avaliação do modelos em conjunto**"
      ]
    },
    {
      "cell_type": "markdown",
      "metadata": {
        "id": "fzl6h_MoH6XV",
        "colab_type": "text"
      },
      "source": [
        "Irei fazer um modelo, que é a unificação da resposta dos 3 modelos de maior accuracy que eu percebi, como as accuracy foram próximas e o modelo é a unificação de somente 3 modelos, não irei fazer média ponderada em relação a accuracy."
      ]
    },
    {
      "cell_type": "code",
      "metadata": {
        "id": "o5buVYVjJ0DX",
        "colab_type": "code",
        "outputId": "2e94a5b3-296c-4f9e-ceb5-4c466ae067f2",
        "colab": {
          "base_uri": "https://localhost:8080/",
          "height": 34
        }
      },
      "source": [
        "mlp_pred_test[0, 0]"
      ],
      "execution_count": 0,
      "outputs": [
        {
          "output_type": "execute_result",
          "data": {
            "text/plain": [
              "False"
            ]
          },
          "metadata": {
            "tags": []
          },
          "execution_count": 260
        }
      ]
    },
    {
      "cell_type": "code",
      "metadata": {
        "id": "nVHPeGmgJ3Er",
        "colab_type": "code",
        "outputId": "8f51a275-fafb-4e2c-df3b-55fc701e85c7",
        "colab": {
          "base_uri": "https://localhost:8080/",
          "height": 34
        }
      },
      "source": [
        "rfc_pred_test[0]"
      ],
      "execution_count": 0,
      "outputs": [
        {
          "output_type": "execute_result",
          "data": {
            "text/plain": [
              "False"
            ]
          },
          "metadata": {
            "tags": []
          },
          "execution_count": 261
        }
      ]
    },
    {
      "cell_type": "code",
      "metadata": {
        "id": "in7QcqMfKHMV",
        "colab_type": "code",
        "outputId": "2e573e81-90fe-4d59-a358-fdde9a88572a",
        "colab": {
          "base_uri": "https://localhost:8080/",
          "height": 34
        }
      },
      "source": [
        "xgb_pred_test[0]"
      ],
      "execution_count": 0,
      "outputs": [
        {
          "output_type": "execute_result",
          "data": {
            "text/plain": [
              "False"
            ]
          },
          "metadata": {
            "tags": []
          },
          "execution_count": 262
        }
      ]
    },
    {
      "cell_type": "markdown",
      "metadata": {
        "id": "FWgqffPbK_Hi",
        "colab_type": "text"
      },
      "source": [
        "Observa_se que os 3 modelos estão na forma de boolean(True/False), logo a pessoa poderá ter a doença se pelo menos 2 modelos indicarem True, ao passo que não terá se pelo menos 2 modelos indicarem False"
      ]
    },
    {
      "cell_type": "code",
      "metadata": {
        "id": "veUQ0tkfIU9v",
        "colab_type": "code",
        "colab": {}
      },
      "source": [
        "total_pred_test = []\n",
        "for i in range(len(mlp_pred_test)):\n",
        "    total_pred_test.append((mlp_pred_test[i, 0] and rfc_pred_test[i]) or (mlp_pred_test[i, 0] and xgb_pred_test[i]) or (rfc_pred_test[i] and xgb_pred_test[i]))"
      ],
      "execution_count": 0,
      "outputs": []
    },
    {
      "cell_type": "code",
      "metadata": {
        "id": "Gt6YIZ_SLcgw",
        "colab_type": "code",
        "outputId": "59f2f58b-df72-44b2-ba2f-8a0a115ea0ec",
        "colab": {
          "base_uri": "https://localhost:8080/",
          "height": 34
        }
      },
      "source": [
        "total_pred_test[0:5]"
      ],
      "execution_count": 0,
      "outputs": [
        {
          "output_type": "execute_result",
          "data": {
            "text/plain": [
              "[False, True, True, False, True]"
            ]
          },
          "metadata": {
            "tags": []
          },
          "execution_count": 273
        }
      ]
    },
    {
      "cell_type": "markdown",
      "metadata": {
        "id": "LLrwnTghLqMH",
        "colab_type": "text"
      },
      "source": [
        "Está feito, iremos testar a accuracy resultante."
      ]
    },
    {
      "cell_type": "code",
      "metadata": {
        "id": "ddVEY69LLuvT",
        "colab_type": "code",
        "outputId": "3d1b50f7-7d2a-4750-d8f1-11dabca4abcf",
        "colab": {
          "base_uri": "https://localhost:8080/",
          "height": 265
        }
      },
      "source": [
        "total = confusion_matrix(y_test,total_pred_test)\n",
        "sns.heatmap(total, annot=True);"
      ],
      "execution_count": 0,
      "outputs": [
        {
          "output_type": "display_data",
          "data": {
            "image/png": "[encoded data removed]",
            "text/plain": [
              "<Figure size 432x288 with 2 Axes>"
            ]
          },
          "metadata": {
            "tags": []
          }
        }
      ]
    },
    {
      "cell_type": "markdown",
      "metadata": {
        "id": "fnngcdiML4fy",
        "colab_type": "text"
      },
      "source": [
        "Então chegamos numa accuracy de 82,4%, que é um pouco menor que a da rede neural sozinha, ou seja, nesse problema, pode-se identificar que as pessoas que dão erro no teste são , parcialmente, iguais e não distintas.\n",
        "\n"
      ]
    },
    {
      "cell_type": "code",
      "metadata": {
        "id": "AJF2dfwQVCDO",
        "colab_type": "code",
        "outputId": "8259e141-51ba-4507-9843-73331e7b282b",
        "colab": {
          "base_uri": "https://localhost:8080/",
          "height": 170
        }
      },
      "source": [
        "print(classification_report(y_test, total_pred_test))"
      ],
      "execution_count": 0,
      "outputs": [
        {
          "output_type": "stream",
          "text": [
            "              precision    recall  f1-score   support\n",
            "\n",
            "           0       0.82      0.78      0.80        41\n",
            "           1       0.83      0.86      0.84        50\n",
            "\n",
            "    accuracy                           0.82        91\n",
            "   macro avg       0.82      0.82      0.82        91\n",
            "weighted avg       0.82      0.82      0.82        91\n",
            "\n"
          ],
          "name": "stdout"
        }
      ]
    },
    {
      "cell_type": "markdown",
      "metadata": {
        "id": "0ZaPEeSR_l1C",
        "colab_type": "text"
      },
      "source": [
        "# Conclusão"
      ]
    },
    {
      "cell_type": "markdown",
      "metadata": {
        "id": "uOraV2levaXS",
        "colab_type": "text"
      },
      "source": [
        "A rede neural foi a pior em termos de adaptação na rede de treinamento, contudo foi a que melhor deu respaldo na hora de sua utilização. Mostrando ,assim, que a função dropout e a criação de grupos pequenos forçaram o modelo a se adaptar de forma que não haja overfitting. Além de que, podemos perceber que uma grande accuracy no modelo de treinamento não significa que o modelo é eficiente até que o mesmo seja testado."
      ]
    },
    {
      "cell_type": "markdown",
      "metadata": {
        "id": "76xMm2IE_n1G",
        "colab_type": "text"
      },
      "source": [
        "**Vimos que com os modelos, exceto o último, nós chegamos a um valor de accuracy próximo na hora de testar, mas por que?**"
      ]
    },
    {
      "cell_type": "markdown",
      "metadata": {
        "id": "F2M5jsN1_u7u",
        "colab_type": "text"
      },
      "source": [
        "Iremos desta vez usar o PCA, em toda a base de dados para visualizarmos a distrubuição dos dados diante das 2 componentes de maior variância."
      ]
    },
    {
      "cell_type": "code",
      "metadata": {
        "id": "OLidetsP_6i8",
        "colab_type": "code",
        "outputId": "1c64b77c-da8e-485d-9f5e-4256d22af6c4",
        "colab": {
          "base_uri": "https://localhost:8080/",
          "height": 204
        }
      },
      "source": [
        "k = dados.iloc[:,:-1]\n",
        "k.head()"
      ],
      "execution_count": 0,
      "outputs": [
        {
          "output_type": "execute_result",
          "data": {
            "text/html": [
              "<div>\n",
              "<style scoped>\n",
              "    .dataframe tbody tr th:only-of-type {\n",
              "        vertical-align: middle;\n",
              "    }\n",
              "\n",
              "    .dataframe tbody tr th {\n",
              "        vertical-align: top;\n",
              "    }\n",
              "\n",
              "    .dataframe thead th {\n",
              "        text-align: right;\n",
              "    }\n",
              "</style>\n",
              "<table border=\"1\" class=\"dataframe\">\n",
              "  <thead>\n",
              "    <tr style=\"text-align: right;\">\n",
              "      <th></th>\n",
              "      <th>column1</th>\n",
              "      <th>column2</th>\n",
              "      <th>column3</th>\n",
              "      <th>column4</th>\n",
              "      <th>column5</th>\n",
              "      <th>column6</th>\n",
              "      <th>column7</th>\n",
              "      <th>column8</th>\n",
              "      <th>column9</th>\n",
              "      <th>column10</th>\n",
              "      <th>column11</th>\n",
              "      <th>column12</th>\n",
              "      <th>column13</th>\n",
              "    </tr>\n",
              "  </thead>\n",
              "  <tbody>\n",
              "    <tr>\n",
              "      <th>0</th>\n",
              "      <td>63</td>\n",
              "      <td>1</td>\n",
              "      <td>3</td>\n",
              "      <td>145</td>\n",
              "      <td>233</td>\n",
              "      <td>1</td>\n",
              "      <td>0</td>\n",
              "      <td>150</td>\n",
              "      <td>0</td>\n",
              "      <td>2.3</td>\n",
              "      <td>0</td>\n",
              "      <td>0</td>\n",
              "      <td>1</td>\n",
              "    </tr>\n",
              "    <tr>\n",
              "      <th>1</th>\n",
              "      <td>37</td>\n",
              "      <td>1</td>\n",
              "      <td>2</td>\n",
              "      <td>130</td>\n",
              "      <td>250</td>\n",
              "      <td>0</td>\n",
              "      <td>1</td>\n",
              "      <td>187</td>\n",
              "      <td>0</td>\n",
              "      <td>3.5</td>\n",
              "      <td>0</td>\n",
              "      <td>0</td>\n",
              "      <td>2</td>\n",
              "    </tr>\n",
              "    <tr>\n",
              "      <th>2</th>\n",
              "      <td>41</td>\n",
              "      <td>0</td>\n",
              "      <td>1</td>\n",
              "      <td>130</td>\n",
              "      <td>204</td>\n",
              "      <td>0</td>\n",
              "      <td>0</td>\n",
              "      <td>172</td>\n",
              "      <td>0</td>\n",
              "      <td>1.4</td>\n",
              "      <td>2</td>\n",
              "      <td>0</td>\n",
              "      <td>2</td>\n",
              "    </tr>\n",
              "    <tr>\n",
              "      <th>3</th>\n",
              "      <td>56</td>\n",
              "      <td>1</td>\n",
              "      <td>1</td>\n",
              "      <td>120</td>\n",
              "      <td>236</td>\n",
              "      <td>0</td>\n",
              "      <td>1</td>\n",
              "      <td>178</td>\n",
              "      <td>0</td>\n",
              "      <td>0.8</td>\n",
              "      <td>2</td>\n",
              "      <td>0</td>\n",
              "      <td>2</td>\n",
              "    </tr>\n",
              "    <tr>\n",
              "      <th>4</th>\n",
              "      <td>57</td>\n",
              "      <td>0</td>\n",
              "      <td>0</td>\n",
              "      <td>120</td>\n",
              "      <td>354</td>\n",
              "      <td>0</td>\n",
              "      <td>1</td>\n",
              "      <td>163</td>\n",
              "      <td>1</td>\n",
              "      <td>0.6</td>\n",
              "      <td>2</td>\n",
              "      <td>0</td>\n",
              "      <td>2</td>\n",
              "    </tr>\n",
              "  </tbody>\n",
              "</table>\n",
              "</div>"
            ],
            "text/plain": [
              "   column1  column2  column3  column4  ...  column10  column11  column12  column13\n",
              "0       63        1        3      145  ...       2.3         0         0         1\n",
              "1       37        1        2      130  ...       3.5         0         0         2\n",
              "2       41        0        1      130  ...       1.4         2         0         2\n",
              "3       56        1        1      120  ...       0.8         2         0         2\n",
              "4       57        0        0      120  ...       0.6         2         0         2\n",
              "\n",
              "[5 rows x 13 columns]"
            ]
          },
          "metadata": {
            "tags": []
          },
          "execution_count": 276
        }
      ]
    },
    {
      "cell_type": "markdown",
      "metadata": {
        "id": "y5Lo-aXSAN1H",
        "colab_type": "text"
      },
      "source": [
        "Estou pegando os dados sem nenhum tratamento, para que nossa possível explicação não tenha interferência da manipulação dos dados que eu fiz."
      ]
    },
    {
      "cell_type": "code",
      "metadata": {
        "id": "wQPtY6MxAWRW",
        "colab_type": "code",
        "outputId": "b0086373-105a-4338-e845-133706002f9a",
        "colab": {
          "base_uri": "https://localhost:8080/",
          "height": 34
        }
      },
      "source": [
        "scaler = StandardScaler()\n",
        "scaler.fit(k)\n",
        "scaled_data = scaler.transform(k)\n",
        "pca = PCA(n_components=2)\n",
        "pca.fit(scaled_data)\n",
        "x_pca = pca.transform(scaled_data)\n",
        "x_pca.shape"
      ],
      "execution_count": 0,
      "outputs": [
        {
          "output_type": "execute_result",
          "data": {
            "text/plain": [
              "(303, 2)"
            ]
          },
          "metadata": {
            "tags": []
          },
          "execution_count": 277
        }
      ]
    },
    {
      "cell_type": "code",
      "metadata": {
        "id": "qX4lYVMdA4yn",
        "colab_type": "code",
        "outputId": "7a18c24e-d31a-4a75-a3dc-8e8012cd6abe",
        "colab": {
          "base_uri": "https://localhost:8080/",
          "height": 513
        }
      },
      "source": [
        "plt.figure(figsize=(12,8))\n",
        "plt.scatter(x_pca[:,0], x_pca[:,1], c=dados['column14'], cmap='plasma')\n",
        "plt.title('Principal Component Analisysis')\n",
        "plt.xlabel('Primeiro componente principal')\n",
        "plt.ylabel('Segundo componente principal');"
      ],
      "execution_count": 0,
      "outputs": [
        {
          "output_type": "display_data",
          "data": {
            "image/png": "[encoded data removed]",
            "text/plain": [
              "<Figure size 864x576 with 1 Axes>"
            ]
          },
          "metadata": {
            "tags": []
          }
        }
      ]
    },
    {
      "cell_type": "code",
      "metadata": {
        "id": "0UxRe3tdBmJ3",
        "colab_type": "code",
        "outputId": "ff47eb24-dd51-4085-bad3-072fbc8bc29a",
        "colab": {
          "base_uri": "https://localhost:8080/",
          "height": 34
        }
      },
      "source": [
        "pca.explained_variance_ratio_"
      ],
      "execution_count": 0,
      "outputs": [
        {
          "output_type": "execute_result",
          "data": {
            "text/plain": [
              "array([0.21254053, 0.11820708])"
            ]
          },
          "metadata": {
            "tags": []
          },
          "execution_count": 279
        }
      ]
    },
    {
      "cell_type": "markdown",
      "metadata": {
        "id": "rWNBxzU6BwG2",
        "colab_type": "text"
      },
      "source": [
        "Têm-se que as 2 componentes juntas só possuem 33% da variância total do sistema, logo, minha conclusão para fins de calculo pode estar esquivocada, porém olhando para o gráfico vemos que muitos pontos azuis quase tocam/tocam os amarelos e muitos amarelos se aproximam dos azuis. Dessa maneira ve-se que o modelo não consegue avançar muito do que obtemos tendo em vista que existe proximidade de dados opostos. E nosso modelo busca padrões neles, logo podemos concluir que haverá uma imprecisão, mesmo que pequena, devido a fatores naturais."
      ]
    }
  ]
}